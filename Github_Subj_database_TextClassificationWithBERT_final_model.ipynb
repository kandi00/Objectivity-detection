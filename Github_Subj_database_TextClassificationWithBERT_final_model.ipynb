{
  "nbformat": 4,
  "nbformat_minor": 0,
  "metadata": {
    "colab": {
      "provenance": [],
      "machine_shape": "hm",
      "gpuType": "T4",
      "authorship_tag": "ABX9TyN8clh/vpkiKp5ygftfUGMS",
      "include_colab_link": true
    },
    "kernelspec": {
      "name": "python3",
      "display_name": "Python 3"
    },
    "language_info": {
      "name": "python"
    },
    "accelerator": "GPU"
  },
  "cells": [
    {
      "cell_type": "markdown",
      "metadata": {
        "id": "view-in-github",
        "colab_type": "text"
      },
      "source": [
        "<a href=\"https://colab.research.google.com/github/kandi00/Objectivity-detection/blob/main/Github_Subj_database_TextClassificationWithBERT_final_model.ipynb\" target=\"_parent\"><img src=\"https://colab.research.google.com/assets/colab-badge.svg\" alt=\"Open In Colab\"/></a>"
      ]
    },
    {
      "cell_type": "markdown",
      "source": [
        "Get GPU type"
      ],
      "metadata": {
        "id": "77tUZvbAAVQS"
      }
    },
    {
      "cell_type": "code",
      "execution_count": null,
      "metadata": {
        "colab": {
          "base_uri": "https://localhost:8080/"
        },
        "id": "FWuYn2R_ALRm",
        "outputId": "92a129b9-0775-4711-d0cd-e4881dfbf237"
      },
      "outputs": [
        {
          "output_type": "stream",
          "name": "stdout",
          "text": [
            "Sun Jun 16 18:38:55 2024       \n",
            "+---------------------------------------------------------------------------------------+\n",
            "| NVIDIA-SMI 535.104.05             Driver Version: 535.104.05   CUDA Version: 12.2     |\n",
            "|-----------------------------------------+----------------------+----------------------+\n",
            "| GPU  Name                 Persistence-M | Bus-Id        Disp.A | Volatile Uncorr. ECC |\n",
            "| Fan  Temp   Perf          Pwr:Usage/Cap |         Memory-Usage | GPU-Util  Compute M. |\n",
            "|                                         |                      |               MIG M. |\n",
            "|=========================================+======================+======================|\n",
            "|   0  Tesla T4                       Off | 00000000:00:04.0 Off |                    0 |\n",
            "| N/A   77C    P0              35W /  70W |   3093MiB / 15360MiB |      0%      Default |\n",
            "|                                         |                      |                  N/A |\n",
            "+-----------------------------------------+----------------------+----------------------+\n",
            "                                                                                         \n",
            "+---------------------------------------------------------------------------------------+\n",
            "| Processes:                                                                            |\n",
            "|  GPU   GI   CI        PID   Type   Process name                            GPU Memory |\n",
            "|        ID   ID                                                             Usage      |\n",
            "|=======================================================================================|\n",
            "+---------------------------------------------------------------------------------------+\n"
          ]
        }
      ],
      "source": [
        "!nvidia-smi"
      ]
    },
    {
      "cell_type": "markdown",
      "source": [
        "# Dataset"
      ],
      "metadata": {
        "id": "8tjbM8s_Ac8y"
      }
    },
    {
      "cell_type": "markdown",
      "source": [
        "Mount drive"
      ],
      "metadata": {
        "id": "F2jqd7S9AhRr"
      }
    },
    {
      "cell_type": "code",
      "source": [
        "from google.colab import drive\n",
        "drive.mount('/content/drive')"
      ],
      "metadata": {
        "colab": {
          "base_uri": "https://localhost:8080/"
        },
        "id": "fiGizvyuAU6h",
        "outputId": "90ce764a-5a3d-44e3-b2c9-56a107db1b8e"
      },
      "execution_count": null,
      "outputs": [
        {
          "output_type": "stream",
          "name": "stdout",
          "text": [
            "Drive already mounted at /content/drive; to attempt to forcibly remount, call drive.mount(\"/content/drive\", force_remount=True).\n"
          ]
        }
      ]
    },
    {
      "cell_type": "markdown",
      "source": [
        "Import train and test data"
      ],
      "metadata": {
        "id": "Km-xh4TtAk_r"
      }
    },
    {
      "cell_type": "code",
      "source": [
        "import pandas as pd\n",
        "import numpy as np\n",
        "\n",
        "df_train = pd.read_csv('/content/drive/My Drive/Disszertacio/subj_train.tsv', sep = '\\t')\n",
        "df_test = pd.read_csv('/content/drive/My Drive/Disszertacio/subj_test.tsv', sep = '\\t')"
      ],
      "metadata": {
        "id": "wGes2m_EAjqp"
      },
      "execution_count": null,
      "outputs": []
    },
    {
      "cell_type": "markdown",
      "source": [
        "Analyze data"
      ],
      "metadata": {
        "id": "i219D7NyAtvS"
      }
    },
    {
      "cell_type": "code",
      "source": [
        "df_train.head()\n",
        "df_test.head()\n",
        "\n",
        "print('Total number of sentences: {}'.format(len(df_train)))\n",
        "print(40*'-')\n",
        "print('Split by label:')\n",
        "print(df_train[\"label\"].value_counts())\n",
        "print(40*'-')\n",
        "nr_categories = len(df_train[\"label\"].unique())\n",
        "print(\"Number of labels: {n}\".format(n=nr_categories))\n",
        "\n",
        "print('Total number of sentences: {}'.format(len(df_test)))\n",
        "print(40*'-')\n",
        "print('Split by label:')\n",
        "print(df_test[\"label\"].value_counts())\n",
        "print(40*'-')\n",
        "nr_categories = len(df_test[\"label\"].unique())\n",
        "print(\"Number of labels: {n}\".format(n=nr_categories))\n",
        "\n",
        "n=100\n",
        "print('Label: ', df_test['label'][n])\n",
        "print(100*'-')\n",
        "print('Text:')\n",
        "print(df_test['text'][n])"
      ],
      "metadata": {
        "colab": {
          "base_uri": "https://localhost:8080/"
        },
        "id": "G5I4VCzWAnta",
        "outputId": "11e0693a-4607-48a4-daba-4f94b7be1490"
      },
      "execution_count": null,
      "outputs": [
        {
          "output_type": "stream",
          "name": "stdout",
          "text": [
            "Total number of sentences: 8000\n",
            "----------------------------------------\n",
            "Split by label:\n",
            "label\n",
            "1    4000\n",
            "0    4000\n",
            "Name: count, dtype: int64\n",
            "----------------------------------------\n",
            "Number of labels: 2\n",
            "Total number of sentences: 2000\n",
            "----------------------------------------\n",
            "Split by label:\n",
            "label\n",
            "1    1000\n",
            "0    1000\n",
            "Name: count, dtype: int64\n",
            "----------------------------------------\n",
            "Number of labels: 2\n",
            "Label:  1\n",
            "----------------------------------------------------------------------------------------------------\n",
            "Text:\n",
            "greengrass has delivered an undoubted stylistic tour-de-force , and has managed elements such as sound and cinematography with skill\n"
          ]
        }
      ]
    },
    {
      "cell_type": "markdown",
      "source": [
        "Get the train data"
      ],
      "metadata": {
        "id": "Iz8MFql-A1UR"
      }
    },
    {
      "cell_type": "code",
      "source": [
        "X_train = df_train['text']\n",
        "y_train = np.unique(df_train['label'], return_inverse=True)[1]\n",
        "print(len(X_train))\n",
        "print(X_train)\n",
        "print(len(y_train))\n",
        "print(y_train)\n",
        "\n",
        "X_test = df_test['text']\n",
        "y_test = np.unique(df_test['label'], return_inverse=True)[1]\n",
        "print(len(X_test))\n",
        "print(X_test)\n",
        "print(len(y_test))\n",
        "print(y_test)"
      ],
      "metadata": {
        "colab": {
          "base_uri": "https://localhost:8080/"
        },
        "id": "22p80-NNAxeB",
        "outputId": "c634b1cc-b894-49e5-b1be-0ed44d2d0e31"
      },
      "execution_count": null,
      "outputs": [
        {
          "output_type": "stream",
          "name": "stdout",
          "text": [
            "8000\n",
            "0       smart and alert , thirteen conversations about...\n",
            "1       color , musical bounce and warm seas lapping o...\n",
            "2       it is not a mass-market entertainment but an u...\n",
            "3       a light-hearted french film about the spiritua...\n",
            "4       my wife is an actress has its moments in looki...\n",
            "                              ...                        \n",
            "7995    as they make their way to the city from suburb...\n",
            "7996    five hours ago the \" t virus \" was \" accidenta...\n",
            "7997    with this relation the characters will discove...\n",
            "7998      an art whose medium is one of flesh and bone . \n",
            "7999    however , once jason realizes what freddy has ...\n",
            "Name: text, Length: 8000, dtype: object\n",
            "8000\n",
            "[1 1 1 ... 0 0 0]\n",
            "2000\n",
            "0       uno de los policiales m�s interesantes de los ...\n",
            "1        . . . is there a deeper , more direct connect...\n",
            "2       possibly not since grumpy old men have i heard...\n",
            "3       hollywood has taken quite a nosedive from alfr...\n",
            "4       if swimfan does catch on , it may be because t...\n",
            "                              ...                        \n",
            "1995    in the end , they discover that balance in lif...\n",
            "1996    a counterfeit 1000 tomin bank note is passed i...\n",
            "1997    enter the beautiful and mysterious secret agen...\n",
            "1998    after listening to a missionary from china spe...\n",
            "1999    looking for a short cut to fame , glass concoc...\n",
            "Name: text, Length: 2000, dtype: object\n",
            "2000\n",
            "[1 1 1 ... 0 0 0]\n"
          ]
        }
      ]
    },
    {
      "cell_type": "code",
      "source": [
        "count_of_zeros = np.sum(y_test == 0)\n",
        "count_of_ones = np.sum(y_test == 1)\n",
        "print(count_of_zeros)\n",
        "print(count_of_ones)\n",
        "\n",
        "count_of_zeros = np.sum(y_train == 0)\n",
        "count_of_ones = np.sum(y_train == 1)\n",
        "print(count_of_zeros)\n",
        "print(count_of_ones)"
      ],
      "metadata": {
        "colab": {
          "base_uri": "https://localhost:8080/"
        },
        "id": "jrDLcWI-A43S",
        "outputId": "31519f63-af4c-4c37-fce6-606674e2267c"
      },
      "execution_count": null,
      "outputs": [
        {
          "output_type": "stream",
          "name": "stdout",
          "text": [
            "1000\n",
            "1000\n",
            "4000\n",
            "4000\n"
          ]
        }
      ]
    },
    {
      "cell_type": "markdown",
      "source": [
        "Prepare the dataset"
      ],
      "metadata": {
        "id": "CLqNn_90BFhZ"
      }
    },
    {
      "cell_type": "markdown",
      "source": [
        "Instantiate the BERT tokenizer"
      ],
      "metadata": {
        "id": "T9nVE9g7A9eB"
      }
    },
    {
      "cell_type": "code",
      "source": [
        "from transformers import logging, AutoTokenizer, AutoModel\n",
        "tokenizer = AutoTokenizer.from_pretrained('distilbert-base-uncased')"
      ],
      "metadata": {
        "id": "fkOZnmajA9Cy"
      },
      "execution_count": null,
      "outputs": []
    },
    {
      "cell_type": "code",
      "source": [
        "import torch\n",
        "\n",
        "X_train_list = X_train.to_list()\n",
        "X = tokenizer(X_train_list, padding='max_length', max_length = 256, truncation=True, return_tensors='pt')[\"input_ids\"]\n",
        "\n",
        "y_train_list = y_train.tolist()\n",
        "y = torch.Tensor(y_train_list).long()\n",
        "\n",
        "X_test_list = X_test.to_list()\n",
        "X_test = tokenizer(X_test_list, padding='max_length', max_length = 256, truncation=True, return_tensors='pt')[\"input_ids\"]\n",
        "\n",
        "y_test_list = y_test.tolist()\n",
        "y_test = torch.Tensor(y_test_list).long()"
      ],
      "metadata": {
        "id": "YyCzVMWaBLLH"
      },
      "execution_count": null,
      "outputs": []
    },
    {
      "cell_type": "markdown",
      "source": [
        "Split the dataset into training, test and validation data."
      ],
      "metadata": {
        "id": "NBbMLo3ABYUQ"
      }
    },
    {
      "cell_type": "code",
      "source": [
        "from sklearn.model_selection import train_test_split\n",
        "X_train, X_val, y_train, y_val = train_test_split(X, y, test_size=0.1, random_state=42, stratify=y_train)\n",
        "\n",
        "print('#train_samples:', len(y_train))\n",
        "print('#test_samples:', len(y_test))\n",
        "print('#val_samples:', len(y_val))"
      ],
      "metadata": {
        "colab": {
          "base_uri": "https://localhost:8080/"
        },
        "id": "RWygqGzXBTpC",
        "outputId": "02900dd6-a373-4f03-8836-2e43a53e92fb"
      },
      "execution_count": null,
      "outputs": [
        {
          "output_type": "stream",
          "name": "stdout",
          "text": [
            "#train_samples: 7200\n",
            "#test_samples: 2000\n",
            "#val_samples: 800\n"
          ]
        }
      ]
    },
    {
      "cell_type": "code",
      "source": [
        "from torch.utils.data import Dataset, DataLoader\n",
        "class SubjDataset(Dataset):\n",
        "    \"\"\"Custom-built Subj dataset\"\"\"\n",
        "\n",
        "    def __init__(self, X, y):\n",
        "        \"\"\"\n",
        "        Args:\n",
        "            X, y as Torch tensors\n",
        "        \"\"\"\n",
        "        self.X_train = X\n",
        "        self.y_train = y\n",
        "\n",
        "\n",
        "    def __len__(self):\n",
        "        return len(self.y_train)\n",
        "\n",
        "    def __getitem__(self, idx):\n",
        "        return self.X_train[idx], self.y_train[idx]"
      ],
      "metadata": {
        "id": "H6-4Aqc1BeFx"
      },
      "execution_count": null,
      "outputs": []
    },
    {
      "cell_type": "code",
      "source": [
        "train_data_pt = SubjDataset(X=X_train, y=y_train)\n",
        "test_data_pt = SubjDataset(X=X_test, y=y_test)\n",
        "val_data_pt = SubjDataset(X=X_val, y=y_val)"
      ],
      "metadata": {
        "id": "uBvAAt64Bglh"
      },
      "execution_count": null,
      "outputs": []
    },
    {
      "cell_type": "code",
      "source": [
        "train_loader_pt = DataLoader(train_data_pt, batch_size=16)\n",
        "test_loader_pt = DataLoader(test_data_pt, batch_size=16)\n",
        "val_loader_pt = DataLoader(val_data_pt, batch_size=16)"
      ],
      "metadata": {
        "id": "Uh11CalSBiLx"
      },
      "execution_count": null,
      "outputs": []
    },
    {
      "cell_type": "markdown",
      "source": [
        "# Build the Model"
      ],
      "metadata": {
        "id": "KSKM8GhTBknA"
      }
    },
    {
      "cell_type": "markdown",
      "source": [
        "Get the pretrained model"
      ],
      "metadata": {
        "id": "PwCPfc5dBnYh"
      }
    },
    {
      "cell_type": "code",
      "source": [
        "dbert_pt = AutoModel.from_pretrained('distilbert-base-uncased')"
      ],
      "metadata": {
        "id": "plJE7o1NBo8Z"
      },
      "execution_count": null,
      "outputs": []
    },
    {
      "cell_type": "code",
      "source": [
        "# Create a sample of size 5 from the training data\n",
        "sample = X_train[0:5]\n",
        "print('Object type: ', type(dbert_pt(sample)))\n",
        "print('Output format (shape): ',dbert_pt(sample)[0].shape)\n",
        "print('Output used as input for the classifier (shape): ', dbert_pt(sample)[0][:,0,:].shape)"
      ],
      "metadata": {
        "colab": {
          "base_uri": "https://localhost:8080/"
        },
        "id": "uF-e2xZQB7MA",
        "outputId": "74b57196-0d99-4412-ce05-678aa59cc884"
      },
      "execution_count": null,
      "outputs": [
        {
          "output_type": "stream",
          "name": "stdout",
          "text": [
            "Object type:  <class 'transformers.modeling_outputs.BaseModelOutput'>\n",
            "Output format (shape):  torch.Size([5, 256, 768])\n",
            "Output used as input for the classifier (shape):  torch.Size([5, 768])\n"
          ]
        }
      ]
    },
    {
      "cell_type": "markdown",
      "source": [
        "Create the MY-BERT model"
      ],
      "metadata": {
        "id": "o9rc1IDaCBuZ"
      }
    },
    {
      "cell_type": "code",
      "source": [
        "from torch import nn\n",
        "num_classes = 2\n",
        "device = \"cuda\" if torch.cuda.is_available() else \"cpu\"\n",
        "\n",
        "class DistilBertClassification(nn.Module):\n",
        "     def __init__(self):\n",
        "         super(DistilBertClassification, self).__init__()\n",
        "         self.dbert = dbert_pt\n",
        "         self.num_classes = 2\n",
        "         self.dropout = nn.Dropout(p=0.5)\n",
        "         self.linear = nn.Linear(dbert_pt.config.hidden_size, num_classes)\n",
        "         # BERT model is trainable\n",
        "         for param in dbert_pt.parameters():\n",
        "           param.requires_grad_(True)\n",
        "\n",
        "     def forward(self, x):\n",
        "         x = self.dbert(input_ids=x)\n",
        "        #  print(f\"Size after BERT model: {x['last_hidden_state'].size()}\")\n",
        "         x = x[\"last_hidden_state\"][:,0,:]\n",
        "        #  print(f\"Size after selecting the [CLS] token: {x.size()}\")\n",
        "         x = self.dropout(x)\n",
        "        #  print(f\"Size after dropout: {x.size()}\")\n",
        "         x = self.linear(x)\n",
        "        #  print(f\"Size after linear layer: {x.size()}\")\n",
        "         return x\n",
        "model_pt = DistilBertClassification().to(device)"
      ],
      "metadata": {
        "id": "thqkFKFOB-YZ"
      },
      "execution_count": null,
      "outputs": []
    },
    {
      "cell_type": "code",
      "source": [
        "print(model_pt)"
      ],
      "metadata": {
        "colab": {
          "base_uri": "https://localhost:8080/"
        },
        "id": "ybkPh3MKCFfg",
        "outputId": "9a71a178-6a82-4fb6-8be6-f162fd1630ec"
      },
      "execution_count": null,
      "outputs": [
        {
          "output_type": "stream",
          "name": "stdout",
          "text": [
            "DistilBertClassification(\n",
            "  (dbert): DistilBertModel(\n",
            "    (embeddings): Embeddings(\n",
            "      (word_embeddings): Embedding(30522, 768, padding_idx=0)\n",
            "      (position_embeddings): Embedding(512, 768)\n",
            "      (LayerNorm): LayerNorm((768,), eps=1e-12, elementwise_affine=True)\n",
            "      (dropout): Dropout(p=0.1, inplace=False)\n",
            "    )\n",
            "    (transformer): Transformer(\n",
            "      (layer): ModuleList(\n",
            "        (0-5): 6 x TransformerBlock(\n",
            "          (attention): MultiHeadSelfAttention(\n",
            "            (dropout): Dropout(p=0.1, inplace=False)\n",
            "            (q_lin): Linear(in_features=768, out_features=768, bias=True)\n",
            "            (k_lin): Linear(in_features=768, out_features=768, bias=True)\n",
            "            (v_lin): Linear(in_features=768, out_features=768, bias=True)\n",
            "            (out_lin): Linear(in_features=768, out_features=768, bias=True)\n",
            "          )\n",
            "          (sa_layer_norm): LayerNorm((768,), eps=1e-12, elementwise_affine=True)\n",
            "          (ffn): FFN(\n",
            "            (dropout): Dropout(p=0.1, inplace=False)\n",
            "            (lin1): Linear(in_features=768, out_features=3072, bias=True)\n",
            "            (lin2): Linear(in_features=3072, out_features=768, bias=True)\n",
            "            (activation): GELUActivation()\n",
            "          )\n",
            "          (output_layer_norm): LayerNorm((768,), eps=1e-12, elementwise_affine=True)\n",
            "        )\n",
            "      )\n",
            "    )\n",
            "  )\n",
            "  (dropout): Dropout(p=0.5, inplace=False)\n",
            "  (linear): Linear(in_features=768, out_features=2, bias=True)\n",
            ")\n"
          ]
        }
      ]
    },
    {
      "cell_type": "markdown",
      "source": [
        "Get the number of parameters (trainable and non-trainable)"
      ],
      "metadata": {
        "id": "p5nvKBTVCIug"
      }
    },
    {
      "cell_type": "code",
      "source": [
        "total_params = sum(p.numel() for p in model_pt.parameters())\n",
        "total_params_trainable = sum(p.numel() for p in model_pt.parameters() if p.requires_grad)\n",
        "print(\"Number of parameters: \", total_params)\n",
        "print(\"Number of trainable parameters: \", total_params_trainable)"
      ],
      "metadata": {
        "colab": {
          "base_uri": "https://localhost:8080/"
        },
        "id": "6lp9G04hCHma",
        "outputId": "5bf53edb-ded5-4362-ad80-5de323473e3d"
      },
      "execution_count": null,
      "outputs": [
        {
          "output_type": "stream",
          "name": "stdout",
          "text": [
            "Number of parameters:  66364418\n",
            "Number of trainable parameters:  66364418\n"
          ]
        }
      ]
    },
    {
      "cell_type": "markdown",
      "source": [
        "# Train the Model"
      ],
      "metadata": {
        "id": "ih23IROyCNZ7"
      }
    },
    {
      "cell_type": "code",
      "source": [
        "epochs = 5\n",
        "criterion = torch.nn.CrossEntropyLoss()\n",
        "optimizer = torch.optim.AdamW(model_pt.parameters(), lr=1e-5, weight_decay=0.01)"
      ],
      "metadata": {
        "id": "HbCasGBCCOtJ"
      },
      "execution_count": null,
      "outputs": []
    },
    {
      "cell_type": "code",
      "source": [
        "import torch\n",
        "from tqdm import tqdm\n",
        "from datetime import datetime\n",
        "\n",
        "# Define the dictionary \"history\" that will collect key performance indicators during training\n",
        "history = {\n",
        "    \"epoch\": [],\n",
        "    \"train_loss\": [],\n",
        "    \"valid_loss\": [],\n",
        "    \"train_accuracy\": [],\n",
        "    \"valid_accuracy\": [],\n",
        "}\n",
        "\n",
        "# Measure time for training\n",
        "start_time = datetime.now()\n",
        "\n",
        "# Move the model to GPU\n",
        "device = torch.device('cuda' if torch.cuda.is_available() else 'cpu')\n",
        "model_pt.to(device)\n",
        "\n",
        "# Loop on epochs\n",
        "for e in range(epochs):\n",
        "\n",
        "    # Set mode in train mode\n",
        "    model_pt.train()\n",
        "\n",
        "    train_loss = 0.0\n",
        "    train_correct = 0\n",
        "    train_total = 0\n",
        "\n",
        "    # Loop on batches\n",
        "    for X, y in tqdm(train_loader_pt):\n",
        "        # Move data to GPU\n",
        "        X, y = X.to(device), y.to(device)\n",
        "\n",
        "        # Get prediction & loss\n",
        "        prediction = model_pt(X)\n",
        "        loss = criterion(prediction, y)\n",
        "\n",
        "        # Adjust the parameters of the model\n",
        "        optimizer.zero_grad()\n",
        "        loss.backward()\n",
        "        optimizer.step()\n",
        "\n",
        "        train_loss += loss.item()\n",
        "\n",
        "        prediction_index = prediction.argmax(dim=1)\n",
        "        train_correct += (prediction_index == y).sum().item()\n",
        "        train_total += y.size(0)\n",
        "\n",
        "    train_accuracy = train_correct / train_total\n",
        "\n",
        "    # Calculate the loss on the validation data after each epoch\n",
        "    model_pt.eval()\n",
        "    valid_loss = 0.0\n",
        "    valid_correct = 0\n",
        "    valid_total = 0\n",
        "\n",
        "    with torch.no_grad():\n",
        "        for X, y in val_loader_pt:\n",
        "            # Move data to GPU\n",
        "            X, y = X.to(device), y.to(device)\n",
        "\n",
        "            prediction = model_pt(X)\n",
        "            loss = criterion(prediction, y)\n",
        "\n",
        "            valid_loss += loss.item()\n",
        "\n",
        "            prediction_index = prediction.argmax(dim=1)\n",
        "            valid_correct += (prediction_index == y).sum().item()\n",
        "            valid_total += y.size(0)\n",
        "\n",
        "    valid_accuracy = valid_correct / valid_total\n",
        "\n",
        "    # Populate history\n",
        "    history[\"epoch\"].append(e + 1)\n",
        "    history[\"train_loss\"].append(train_loss / len(train_loader_pt))\n",
        "    history[\"valid_loss\"].append(valid_loss / len(val_loader_pt))\n",
        "    history[\"train_accuracy\"].append(train_accuracy)\n",
        "    history[\"valid_accuracy\"].append(valid_accuracy)\n",
        "\n",
        "    print(f'Epoch {e + 1} \\t\\t Training Loss: {train_loss / len(train_loader_pt) :10.3f} \\t\\t Validation Loss: {valid_loss / len(val_loader_pt) :10.3f}')\n",
        "    print(f'\\t\\t Training Accuracy: {train_accuracy :10.3%} \\t\\t Validation Accuracy: {valid_accuracy :10.3%}')\n",
        "\n",
        "# Measure time for training\n",
        "end_time = datetime.now()\n",
        "training_time_pt = (end_time - start_time).total_seconds()"
      ],
      "metadata": {
        "colab": {
          "base_uri": "https://localhost:8080/"
        },
        "id": "X1cwFDysCSoR",
        "outputId": "cffb5b09-c47e-45b3-de30-56fd29290f5a"
      },
      "execution_count": null,
      "outputs": [
        {
          "output_type": "stream",
          "name": "stderr",
          "text": [
            "100%|██████████| 450/450 [02:56<00:00,  2.55it/s]\n"
          ]
        },
        {
          "output_type": "stream",
          "name": "stdout",
          "text": [
            "Epoch 1 \t\t Training Loss:      0.256 \t\t Validation Loss:      0.111\n",
            "\t\t Training Accuracy:    88.125% \t\t Validation Accuracy:    95.625%\n"
          ]
        },
        {
          "output_type": "stream",
          "name": "stderr",
          "text": [
            "100%|██████████| 450/450 [02:55<00:00,  2.56it/s]\n"
          ]
        },
        {
          "output_type": "stream",
          "name": "stdout",
          "text": [
            "Epoch 2 \t\t Training Loss:      0.095 \t\t Validation Loss:      0.116\n",
            "\t\t Training Accuracy:    96.694% \t\t Validation Accuracy:    95.625%\n"
          ]
        },
        {
          "output_type": "stream",
          "name": "stderr",
          "text": [
            "100%|██████████| 450/450 [02:55<00:00,  2.57it/s]\n"
          ]
        },
        {
          "output_type": "stream",
          "name": "stdout",
          "text": [
            "Epoch 3 \t\t Training Loss:      0.053 \t\t Validation Loss:      0.114\n",
            "\t\t Training Accuracy:    98.347% \t\t Validation Accuracy:    96.625%\n"
          ]
        },
        {
          "output_type": "stream",
          "name": "stderr",
          "text": [
            "100%|██████████| 450/450 [02:55<00:00,  2.57it/s]\n"
          ]
        },
        {
          "output_type": "stream",
          "name": "stdout",
          "text": [
            "Epoch 4 \t\t Training Loss:      0.034 \t\t Validation Loss:      0.105\n",
            "\t\t Training Accuracy:    99.014% \t\t Validation Accuracy:    97.250%\n"
          ]
        },
        {
          "output_type": "stream",
          "name": "stderr",
          "text": [
            "100%|██████████| 450/450 [02:55<00:00,  2.57it/s]\n"
          ]
        },
        {
          "output_type": "stream",
          "name": "stdout",
          "text": [
            "Epoch 5 \t\t Training Loss:      0.022 \t\t Validation Loss:      0.114\n",
            "\t\t Training Accuracy:    99.306% \t\t Validation Accuracy:    97.250%\n"
          ]
        }
      ]
    },
    {
      "cell_type": "code",
      "source": [
        "def calculate_metrics(valid_labels, predicted_labels):\n",
        "    # Calculate accuracy\n",
        "    accuracy = sum(1 for v, p in zip(valid_labels, predicted_labels) if v == p) / len(valid_labels)\n",
        "\n",
        "    # Calculate true positives, false positives, and false negatives\n",
        "    true_positives = sum(1 for v, p in zip(valid_labels, predicted_labels) if v == p and v == 1)\n",
        "    false_positives = sum(1 for v, p in zip(valid_labels, predicted_labels) if v != p and p == 1)\n",
        "    false_negatives = sum(1 for v, p in zip(valid_labels, predicted_labels) if v != p and v == 1)\n",
        "\n",
        "    # Calculate precision\n",
        "    precision = true_positives / (true_positives + false_positives) if (true_positives + false_positives) > 0 else 0\n",
        "\n",
        "    # Calculate recall\n",
        "    recall = true_positives / (true_positives + false_negatives) if (true_positives + false_negatives) > 0 else 0\n",
        "\n",
        "    # Calculate F1 score\n",
        "    f1_score = 2 * (precision * recall) / (precision + recall) if (precision + recall) > 0 else 0\n",
        "\n",
        "    return accuracy, precision, recall, f1_score, true_positives, false_positives, false_negatives"
      ],
      "metadata": {
        "id": "JXoVROKxiiPL"
      },
      "execution_count": null,
      "outputs": []
    },
    {
      "cell_type": "markdown",
      "source": [
        "Test the model"
      ],
      "metadata": {
        "id": "-AttsS4E3UaA"
      }
    },
    {
      "cell_type": "code",
      "source": [
        "model_pt.eval()\n",
        "test_loss = 0.0\n",
        "test_accuracy = []\n",
        "\n",
        "all_labels = []\n",
        "all_predictions = []\n",
        "\n",
        "with torch.no_grad():\n",
        "    for X, y in test_loader_pt:  # assuming you have a test_loader_pt for test data\n",
        "        # Move data to GPU\n",
        "        X, y = X.to(device), y.to(device)\n",
        "\n",
        "        prediction = model_pt(X)\n",
        "        loss = criterion(prediction, y)\n",
        "\n",
        "        test_loss += loss.item()\n",
        "\n",
        "        prediction_index = prediction.argmax(axis=1)\n",
        "        accuracy = (prediction_index == y).float()\n",
        "        test_accuracy.extend(accuracy.cpu().numpy())\n",
        "\n",
        "        all_labels.extend(y.cpu().numpy())\n",
        "        all_predictions.extend(prediction_index.cpu().numpy())\n",
        "\n",
        "# Calculate metrics\n",
        "accuracy, precision, recall, f1_score, true_positives, false_positives, false_negatives = calculate_metrics(all_labels, all_predictions)\n",
        "\n",
        "# Print results\n",
        "print(f'Test Loss: {test_loss / len(test_loader_pt) :10.3f}')\n",
        "print(\"Test Accuracy:\", accuracy)\n",
        "print(\"Test Precision:\", precision)\n",
        "print(\"Test Recall:\", recall)\n",
        "print(\"Test F1 Score:\", f1_score)\n",
        "print(\"Test false_positives:\", false_positives)\n",
        "print(\"Test false_negatives:\", false_negatives)"
      ],
      "metadata": {
        "colab": {
          "base_uri": "https://localhost:8080/"
        },
        "id": "uzYyWGbTCWqp",
        "outputId": "4b45c108-fcaf-47a8-f2d5-dfcacd365a43"
      },
      "execution_count": null,
      "outputs": [
        {
          "output_type": "stream",
          "name": "stdout",
          "text": [
            "Test Loss:      0.151\n",
            "Test Accuracy: 0.9505\n",
            "Test Precision: 0.9455984174085065\n",
            "Test Recall: 0.956\n",
            "Test F1 Score: 0.9507707608155148\n",
            "Test false_positives: 55\n",
            "Test false_negatives: 44\n"
          ]
        }
      ]
    },
    {
      "cell_type": "markdown",
      "source": [
        "Create some plots"
      ],
      "metadata": {
        "id": "-jSueodKCY55"
      }
    },
    {
      "cell_type": "code",
      "source": [
        "from matplotlib import pyplot as plt\n",
        "from matplotlib.ticker import MaxNLocator\n",
        "\n",
        "\n",
        "fig, ax = plt.subplots(figsize=(6, 4))\n",
        "ax.set_facecolor('#f0f0f0')\n",
        "ax.set(title='Veszteség a tanítási és validálási adathalmazon')\n",
        "ax.plot(history['epoch'], history['train_loss'], label='Tanítási adathalmaz', color = 'red')\n",
        "ax.plot(history['epoch'], history['valid_loss'], label='Validációs adathalmaz')\n",
        "ax.yaxis.set_major_locator(MaxNLocator(nbins=5))\n",
        "ax.xaxis.set_major_locator(MaxNLocator(nbins=5))\n",
        "ax.set_xlabel('Epoch')\n",
        "ax.set_ylabel('Veszteség')\n",
        "ax.legend(loc=\"upper right\")\n",
        "\n",
        "plt.show()"
      ],
      "metadata": {
        "colab": {
          "base_uri": "https://localhost:8080/",
          "height": 411
        },
        "id": "orkDKVkSCa7Z",
        "outputId": "45f54182-a987-4b07-e46c-b901d3fed98a"
      },
      "execution_count": null,
      "outputs": [
        {
          "output_type": "display_data",
          "data": {
            "text/plain": [
              "<Figure size 600x400 with 1 Axes>"
            ],
            "image/png": "[encoded data removed]"
          },
          "metadata": {}
        }
      ]
    },
    {
      "cell_type": "code",
      "source": [
        "from matplotlib import pyplot as plt\n",
        "from matplotlib.ticker import MaxNLocator\n",
        "\n",
        "fig, ax = plt.subplots(figsize=(6, 4))\n",
        "ax.set_facecolor('#f0f0f0')\n",
        "ax.set(title='Pontosság a tanítási és validálási adathalmazon.')\n",
        "ax.plot(history['epoch'], history['train_accuracy'], label='Tanítási adathalmaz', color = 'red')\n",
        "ax.plot(history['epoch'], history['valid_accuracy'], label='Validációs adathalmaz')\n",
        "ax.yaxis.set_major_locator(MaxNLocator(nbins=8))\n",
        "ax.xaxis.set_major_locator(MaxNLocator(nbins=5))\n",
        "ax.set_xlabel('Epoch')\n",
        "ax.set_ylabel('Pontosság')\n",
        "ax.legend(loc=\"lower right\")\n",
        "\n",
        "plt.show()\n",
        "\n",
        "print(history)"
      ],
      "metadata": {
        "colab": {
          "base_uri": "https://localhost:8080/",
          "height": 449
        },
        "id": "GIvjMV2dCcap",
        "outputId": "2894fe93-9cfd-49a8-e8f3-dae812226260"
      },
      "execution_count": null,
      "outputs": [
        {
          "output_type": "display_data",
          "data": {
            "text/plain": [
              "<Figure size 600x400 with 1 Axes>"
            ],
            "image/png": "[encoded data removed]"
          },
          "metadata": {}
        },
        {
          "output_type": "stream",
          "name": "stdout",
          "text": [
            "{'epoch': [1, 2, 3, 4, 5], 'train_loss': [0.25628578629137744, 0.09502318571994288, 0.05276259654822449, 0.03361154062595839, 0.021551920269072676], 'valid_loss': [0.11148206997662782, 0.1162849391810596, 0.11355617315042764, 0.10496243751957081, 0.11350051432265901], 'train_accuracy': [0.88125, 0.9669444444444445, 0.9834722222222222, 0.9901388888888889, 0.9930555555555556], 'valid_accuracy': [0.95625, 0.95625, 0.96625, 0.9725, 0.9725]}\n"
          ]
        }
      ]
    },
    {
      "cell_type": "code",
      "source": [
        "accuracy_pt = history['valid_accuracy'][-1]\n",
        "print('Accuracy Training data: {:.1%}'.format(history['train_accuracy'][-1]))\n",
        "print('Accuracy Validation data: {:.1%}'.format(history['valid_accuracy'][-1]))\n",
        "print('Training time: {:.1f}s (or {:.1f} minutes)'.format(training_time_pt, training_time_pt/60))"
      ],
      "metadata": {
        "colab": {
          "base_uri": "https://localhost:8080/"
        },
        "id": "c9ktUfGuCejw",
        "outputId": "ec0c4c11-47cc-429a-fca9-27e37b488907"
      },
      "execution_count": null,
      "outputs": [
        {
          "output_type": "stream",
          "name": "stdout",
          "text": [
            "Accuracy Training data: 99.3%\n",
            "Accuracy Validation data: 97.2%\n",
            "Training time: 909.9s (or 15.2 minutes)\n"
          ]
        }
      ]
    },
    {
      "cell_type": "markdown",
      "source": [
        "# Save the Model"
      ],
      "metadata": {
        "id": "a-qBXA12CouA"
      }
    },
    {
      "cell_type": "markdown",
      "source": [
        "Save only the parameters of the model but not the model itself, and get it back"
      ],
      "metadata": {
        "id": "CeGOCCJhCw9y"
      }
    },
    {
      "cell_type": "code",
      "source": [
        "torch.save(model_pt.state_dict(), 'PyModel.sd')\n",
        "model_reloaded = DistilBertClassification()\n",
        "model_reloaded.load_state_dict(torch.load('PyModel.sd'))\n",
        "model_reloaded.eval()"
      ],
      "metadata": {
        "colab": {
          "base_uri": "https://localhost:8080/"
        },
        "id": "lt-kbqFRCpLJ",
        "outputId": "b257d0d5-b14f-4efe-faac-02b771abd54f"
      },
      "execution_count": null,
      "outputs": [
        {
          "output_type": "execute_result",
          "data": {
            "text/plain": [
              "DistilBertClassification(\n",
              "  (dbert): DistilBertModel(\n",
              "    (embeddings): Embeddings(\n",
              "      (word_embeddings): Embedding(30522, 768, padding_idx=0)\n",
              "      (position_embeddings): Embedding(512, 768)\n",
              "      (LayerNorm): LayerNorm((768,), eps=1e-12, elementwise_affine=True)\n",
              "      (dropout): Dropout(p=0.1, inplace=False)\n",
              "    )\n",
              "    (transformer): Transformer(\n",
              "      (layer): ModuleList(\n",
              "        (0-5): 6 x TransformerBlock(\n",
              "          (attention): MultiHeadSelfAttention(\n",
              "            (dropout): Dropout(p=0.1, inplace=False)\n",
              "            (q_lin): Linear(in_features=768, out_features=768, bias=True)\n",
              "            (k_lin): Linear(in_features=768, out_features=768, bias=True)\n",
              "            (v_lin): Linear(in_features=768, out_features=768, bias=True)\n",
              "            (out_lin): Linear(in_features=768, out_features=768, bias=True)\n",
              "          )\n",
              "          (sa_layer_norm): LayerNorm((768,), eps=1e-12, elementwise_affine=True)\n",
              "          (ffn): FFN(\n",
              "            (dropout): Dropout(p=0.1, inplace=False)\n",
              "            (lin1): Linear(in_features=768, out_features=3072, bias=True)\n",
              "            (lin2): Linear(in_features=3072, out_features=768, bias=True)\n",
              "            (activation): GELUActivation()\n",
              "          )\n",
              "          (output_layer_norm): LayerNorm((768,), eps=1e-12, elementwise_affine=True)\n",
              "        )\n",
              "      )\n",
              "    )\n",
              "  )\n",
              "  (dropout): Dropout(p=0.5, inplace=False)\n",
              "  (linear): Linear(in_features=768, out_features=2, bias=True)\n",
              ")"
            ]
          },
          "metadata": {},
          "execution_count": 51
        }
      ]
    },
    {
      "cell_type": "markdown",
      "source": [
        "Save the entire model, and get it back"
      ],
      "metadata": {
        "id": "-xONBHOVCupo"
      }
    },
    {
      "cell_type": "code",
      "source": [
        "torch.save(model_pt, 'PyModelComplete.pt')\n",
        "model_reloaded2 = torch.load('PyModelComplete.pt')\n",
        "model_reloaded2.eval()"
      ],
      "metadata": {
        "colab": {
          "base_uri": "https://localhost:8080/"
        },
        "id": "E4NMpWinCsJ3",
        "outputId": "7ca79695-2f8e-4606-f769-a00e71ea2b23"
      },
      "execution_count": null,
      "outputs": [
        {
          "output_type": "execute_result",
          "data": {
            "text/plain": [
              "DistilBertClassification(\n",
              "  (dbert): DistilBertModel(\n",
              "    (embeddings): Embeddings(\n",
              "      (word_embeddings): Embedding(30522, 768, padding_idx=0)\n",
              "      (position_embeddings): Embedding(512, 768)\n",
              "      (LayerNorm): LayerNorm((768,), eps=1e-12, elementwise_affine=True)\n",
              "      (dropout): Dropout(p=0.1, inplace=False)\n",
              "    )\n",
              "    (transformer): Transformer(\n",
              "      (layer): ModuleList(\n",
              "        (0-5): 6 x TransformerBlock(\n",
              "          (attention): MultiHeadSelfAttention(\n",
              "            (dropout): Dropout(p=0.1, inplace=False)\n",
              "            (q_lin): Linear(in_features=768, out_features=768, bias=True)\n",
              "            (k_lin): Linear(in_features=768, out_features=768, bias=True)\n",
              "            (v_lin): Linear(in_features=768, out_features=768, bias=True)\n",
              "            (out_lin): Linear(in_features=768, out_features=768, bias=True)\n",
              "          )\n",
              "          (sa_layer_norm): LayerNorm((768,), eps=1e-12, elementwise_affine=True)\n",
              "          (ffn): FFN(\n",
              "            (dropout): Dropout(p=0.1, inplace=False)\n",
              "            (lin1): Linear(in_features=768, out_features=3072, bias=True)\n",
              "            (lin2): Linear(in_features=3072, out_features=768, bias=True)\n",
              "            (activation): GELUActivation()\n",
              "          )\n",
              "          (output_layer_norm): LayerNorm((768,), eps=1e-12, elementwise_affine=True)\n",
              "        )\n",
              "      )\n",
              "    )\n",
              "  )\n",
              "  (dropout): Dropout(p=0.5, inplace=False)\n",
              "  (linear): Linear(in_features=768, out_features=2, bias=True)\n",
              ")"
            ]
          },
          "metadata": {},
          "execution_count": 52
        }
      ]
    },
    {
      "cell_type": "markdown",
      "source": [
        "# References"
      ],
      "metadata": {
        "id": "ewD2N1xvCz0A"
      }
    },
    {
      "cell_type": "markdown",
      "source": [
        "[1]: Devlin et al. (2018). “BERT: Pre-training of Deep Bidirectional Transformers for Language Understanding” (https://arxiv.org/abs/1810.04805)\n",
        "\n",
        "[2]: V. Sanh et al (2019), \"DistilBERT, a Distilled Version of BERT: Smaller, Faster, Cheaper and Lighter\" (https://arxiv.org/abs/1910.01108)"
      ],
      "metadata": {
        "id": "itMj9A5oC1Yw"
      }
    },
    {
      "cell_type": "markdown",
      "source": [
        "\n",
        "Medium (https://medium.com/@claude.feldges/text-classification-with-bert-in-tensorflow-and-pytorch-4e43e79673b3)"
      ],
      "metadata": {
        "id": "GuaD2aTfDbDZ"
      }
    },
    {
      "cell_type": "markdown",
      "source": [
        "\n",
        "[3]: Medium (https://medium.com/@claude.feldges/text-classification-with-bert-in-tensorflow-and-pytorch-4e43e79673b3)"
      ],
      "metadata": {
        "id": "FUiJTRQzDZzA"
      }
    }
  ]
}