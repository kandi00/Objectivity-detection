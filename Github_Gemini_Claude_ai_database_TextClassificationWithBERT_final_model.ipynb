{
  "cells": [
    {
      "cell_type": "markdown",
      "metadata": {
        "id": "view-in-github",
        "colab_type": "text"
      },
      "source": [
        "<a href=\"https://colab.research.google.com/github/kandi00/Objectivity-detection/blob/main/Github_Gemini_Claude_ai_database_TextClassificationWithBERT_final_model.ipynb\" target=\"_parent\"><img src=\"https://colab.research.google.com/assets/colab-badge.svg\" alt=\"Open In Colab\"/></a>"
      ]
    },
    {
      "cell_type": "markdown",
      "metadata": {
        "id": "77tUZvbAAVQS"
      },
      "source": [
        "# Get GPU type"
      ]
    },
    {
      "cell_type": "code",
      "execution_count": null,
      "metadata": {
        "colab": {
          "base_uri": "https://localhost:8080/"
        },
        "id": "FWuYn2R_ALRm",
        "outputId": "dd074be8-2680-4bed-f2ce-563f8e0e4cda"
      },
      "outputs": [
        {
          "name": "stdout",
          "output_type": "stream",
          "text": [
            "Tue Jun 18 15:21:42 2024       \n",
            "+---------------------------------------------------------------------------------------+\n",
            "| NVIDIA-SMI 535.104.05             Driver Version: 535.104.05   CUDA Version: 12.2     |\n",
            "|-----------------------------------------+----------------------+----------------------+\n",
            "| GPU  Name                 Persistence-M | Bus-Id        Disp.A | Volatile Uncorr. ECC |\n",
            "| Fan  Temp   Perf          Pwr:Usage/Cap |         Memory-Usage | GPU-Util  Compute M. |\n",
            "|                                         |                      |               MIG M. |\n",
            "|=========================================+======================+======================|\n",
            "|   0  Tesla T4                       Off | 00000000:00:04.0 Off |                    0 |\n",
            "| N/A   72C    P0              32W /  70W |   3093MiB / 15360MiB |      0%      Default |\n",
            "|                                         |                      |                  N/A |\n",
            "+-----------------------------------------+----------------------+----------------------+\n",
            "                                                                                         \n",
            "+---------------------------------------------------------------------------------------+\n",
            "| Processes:                                                                            |\n",
            "|  GPU   GI   CI        PID   Type   Process name                            GPU Memory |\n",
            "|        ID   ID                                                             Usage      |\n",
            "|=======================================================================================|\n",
            "+---------------------------------------------------------------------------------------+\n"
          ]
        }
      ],
      "source": [
        "!nvidia-smi"
      ]
    },
    {
      "cell_type": "markdown",
      "metadata": {
        "id": "8tjbM8s_Ac8y"
      },
      "source": [
        "# Build Dataset"
      ]
    },
    {
      "cell_type": "markdown",
      "metadata": {
        "id": "F2jqd7S9AhRr"
      },
      "source": [
        "Mount drive"
      ]
    },
    {
      "cell_type": "code",
      "execution_count": null,
      "metadata": {
        "colab": {
          "base_uri": "https://localhost:8080/"
        },
        "id": "fiGizvyuAU6h",
        "outputId": "b3f1fa3a-9b16-4971-a89d-72dd043a5fbc"
      },
      "outputs": [
        {
          "name": "stdout",
          "output_type": "stream",
          "text": [
            "Drive already mounted at /content/drive; to attempt to forcibly remount, call drive.mount(\"/content/drive\", force_remount=True).\n"
          ]
        }
      ],
      "source": [
        "from google.colab import drive\n",
        "drive.mount('/content/drive')"
      ]
    },
    {
      "cell_type": "markdown",
      "metadata": {
        "id": "Km-xh4TtAk_r"
      },
      "source": [
        "Import train and test data"
      ]
    },
    {
      "cell_type": "code",
      "execution_count": null,
      "metadata": {
        "id": "wGes2m_EAjqp"
      },
      "outputs": [],
      "source": [
        "import pandas as pd\n",
        "import numpy as np\n",
        "\n",
        "df_train = pd.read_csv('/content/drive/My Drive/Disszertacio/subj_train.tsv', sep = '\\t')\n",
        "df_test = pd.read_csv('/content/drive/My Drive/Disszertacio/gemini_test.tsv', sep = '\\t')\n",
        "# df_test = pd.read_csv('/content/drive/My Drive/Disszertacio/Claude_ai_test.tsv', sep = '\\t')"
      ]
    },
    {
      "cell_type": "markdown",
      "metadata": {
        "id": "i219D7NyAtvS"
      },
      "source": [
        "Analyze data"
      ]
    },
    {
      "cell_type": "code",
      "execution_count": null,
      "metadata": {
        "colab": {
          "base_uri": "https://localhost:8080/"
        },
        "id": "G5I4VCzWAnta",
        "outputId": "710fa3a9-5e6b-4100-dfa0-889ee94a05a1"
      },
      "outputs": [
        {
          "name": "stdout",
          "output_type": "stream",
          "text": [
            "Total number of sentences: 8000\n",
            "----------------------------------------\n",
            "Split by label:\n",
            "label\n",
            "1    4000\n",
            "0    4000\n",
            "Name: count, dtype: int64\n",
            "----------------------------------------\n",
            "Number of labels: 2\n",
            "Total number of sentences: 200\n",
            "----------------------------------------\n",
            "Split by label:\n",
            "label\n",
            "1    100\n",
            "0    100\n",
            "Name: count, dtype: int64\n",
            "----------------------------------------\n",
            "Number of labels: 2\n",
            "Label:  0\n",
            "----------------------------------------------------------------------------------------------------\n",
            "Text:\n",
            "The clock on the wall displays 3:14 PM.\n"
          ]
        }
      ],
      "source": [
        "df_train.head()\n",
        "df_test.head()\n",
        "\n",
        "print('Total number of sentences: {}'.format(len(df_train)))\n",
        "print(40*'-')\n",
        "print('Split by label:')\n",
        "print(df_train[\"label\"].value_counts())\n",
        "print(40*'-')\n",
        "nr_categories = len(df_train[\"label\"].unique())\n",
        "print(\"Number of labels: {n}\".format(n=nr_categories))\n",
        "\n",
        "print('Total number of sentences: {}'.format(len(df_test)))\n",
        "print(40*'-')\n",
        "print('Split by label:')\n",
        "print(df_test[\"label\"].value_counts())\n",
        "print(40*'-')\n",
        "nr_categories = len(df_test[\"label\"].unique())\n",
        "print(\"Number of labels: {n}\".format(n=nr_categories))\n",
        "\n",
        "n=100\n",
        "print('Label: ', df_test['label'][n])\n",
        "print(100*'-')\n",
        "print('Text:')\n",
        "print(df_test['text'][n])"
      ]
    },
    {
      "cell_type": "markdown",
      "metadata": {
        "id": "Iz8MFql-A1UR"
      },
      "source": [
        "Get the train data"
      ]
    },
    {
      "cell_type": "code",
      "execution_count": null,
      "metadata": {
        "colab": {
          "base_uri": "https://localhost:8080/"
        },
        "id": "22p80-NNAxeB",
        "outputId": "d4a8a185-0f61-4cf4-eb7e-19b110d3ccf9"
      },
      "outputs": [
        {
          "name": "stdout",
          "output_type": "stream",
          "text": [
            "8000\n",
            "0       smart and alert , thirteen conversations about...\n",
            "1       color , musical bounce and warm seas lapping o...\n",
            "2       it is not a mass-market entertainment but an u...\n",
            "3       a light-hearted french film about the spiritua...\n",
            "4       my wife is an actress has its moments in looki...\n",
            "                              ...                        \n",
            "7995    as they make their way to the city from suburb...\n",
            "7996    five hours ago the \" t virus \" was \" accidenta...\n",
            "7997    with this relation the characters will discove...\n",
            "7998      an art whose medium is one of flesh and bone . \n",
            "7999    however , once jason realizes what freddy has ...\n",
            "Name: text, Length: 8000, dtype: object\n",
            "8000\n",
            "[1 1 1 ... 0 0 0]\n",
            "200\n",
            "0      The protagonist's journey in this book feels i...\n",
            "1      The way the sunlight filters through the leave...\n",
            "2      This documentary changed my perspective on a c...\n",
            "3      The ending of that movie left me feeling utter...\n",
            "4      The vibrant colors in this painting evoke a se...\n",
            "                             ...                        \n",
            "195    The painting is a symbolic representation of a...\n",
            "196    The building is undergoing renovations to mode...\n",
            "197    The recipe is a vegetarian option that is stil...\n",
            "198    This building serves as a public library and o...\n",
            "199    The population of this country is aging rapidl...\n",
            "Name: text, Length: 200, dtype: object\n",
            "200\n",
            "[1 1 1 1 1 1 1 1 1 1 1 1 1 1 1 1 1 1 1 1 1 1 1 1 1 1 1 1 1 1 1 1 1 1 1 1 1\n",
            " 1 1 1 1 1 1 1 1 1 1 1 1 1 1 1 1 1 1 1 1 1 1 1 1 1 1 1 1 1 1 1 1 1 1 1 1 1\n",
            " 1 1 1 1 1 1 1 1 1 1 1 1 1 1 1 1 1 1 1 1 1 1 1 1 1 1 0 0 0 0 0 0 0 0 0 0 0\n",
            " 0 0 0 0 0 0 0 0 0 0 0 0 0 0 0 0 0 0 0 0 0 0 0 0 0 0 0 0 0 0 0 0 0 0 0 0 0\n",
            " 0 0 0 0 0 0 0 0 0 0 0 0 0 0 0 0 0 0 0 0 0 0 0 0 0 0 0 0 0 0 0 0 0 0 0 0 0\n",
            " 0 0 0 0 0 0 0 0 0 0 0 0 0 0 0]\n"
          ]
        }
      ],
      "source": [
        "X_train = df_train['text']\n",
        "y_train = np.unique(df_train['label'], return_inverse=True)[1]\n",
        "print(len(X_train))\n",
        "print(X_train)\n",
        "print(len(y_train))\n",
        "print(y_train)\n",
        "\n",
        "X_test = df_test['text']\n",
        "y_test = np.unique(df_test['label'], return_inverse=True)[1]\n",
        "print(len(X_test))\n",
        "print(X_test)\n",
        "print(len(y_test))\n",
        "print(y_test)"
      ]
    },
    {
      "cell_type": "code",
      "execution_count": null,
      "metadata": {
        "colab": {
          "base_uri": "https://localhost:8080/"
        },
        "id": "jrDLcWI-A43S",
        "outputId": "a045a26e-5928-4f24-f456-4c9054371c28"
      },
      "outputs": [
        {
          "name": "stdout",
          "output_type": "stream",
          "text": [
            "100\n",
            "100\n",
            "4000\n",
            "4000\n"
          ]
        }
      ],
      "source": [
        "count_of_zeros = np.sum(y_test == 0)\n",
        "count_of_ones = np.sum(y_test == 1)\n",
        "print(count_of_zeros)\n",
        "print(count_of_ones)\n",
        "\n",
        "count_of_zeros = np.sum(y_train == 0)\n",
        "count_of_ones = np.sum(y_train == 1)\n",
        "print(count_of_zeros)\n",
        "print(count_of_ones)"
      ]
    },
    {
      "cell_type": "markdown",
      "metadata": {
        "id": "CLqNn_90BFhZ"
      },
      "source": [
        "Prepare the dataset"
      ]
    },
    {
      "cell_type": "markdown",
      "metadata": {
        "id": "T9nVE9g7A9eB"
      },
      "source": [
        "Instantiate the BERT tokenizer"
      ]
    },
    {
      "cell_type": "code",
      "execution_count": null,
      "metadata": {
        "id": "fkOZnmajA9Cy"
      },
      "outputs": [],
      "source": [
        "from transformers import logging, AutoTokenizer, AutoModel\n",
        "tokenizer = AutoTokenizer.from_pretrained('distilbert-base-uncased')"
      ]
    },
    {
      "cell_type": "code",
      "execution_count": null,
      "metadata": {
        "id": "YyCzVMWaBLLH"
      },
      "outputs": [],
      "source": [
        "import torch\n",
        "\n",
        "X_train_list = X_train.to_list()\n",
        "X = tokenizer(X_train_list, padding='max_length', max_length = 256, truncation=True, return_tensors='pt')[\"input_ids\"]\n",
        "\n",
        "y_train_list = y_train.tolist()\n",
        "y = torch.Tensor(y_train_list).long()\n",
        "\n",
        "X_test_list = X_test.to_list()\n",
        "X_test = tokenizer(X_test_list, padding='max_length', max_length = 256, truncation=True, return_tensors='pt')[\"input_ids\"]\n",
        "\n",
        "y_test_list = y_test.tolist()\n",
        "y_test = torch.Tensor(y_test_list).long()"
      ]
    },
    {
      "cell_type": "markdown",
      "metadata": {
        "id": "NBbMLo3ABYUQ"
      },
      "source": [
        "Split the dataset into training, test and validation data."
      ]
    },
    {
      "cell_type": "code",
      "execution_count": null,
      "metadata": {
        "colab": {
          "base_uri": "https://localhost:8080/"
        },
        "id": "RWygqGzXBTpC",
        "outputId": "5e2ef761-2a77-4a15-891b-96d8e19bc034"
      },
      "outputs": [
        {
          "name": "stdout",
          "output_type": "stream",
          "text": [
            "#train_samples: 7200\n",
            "#test_samples: 200\n",
            "#val_samples: 800\n"
          ]
        }
      ],
      "source": [
        "from sklearn.model_selection import train_test_split\n",
        "X_train, X_val, y_train, y_val = train_test_split(X, y, test_size=0.1, random_state=42, stratify=y_train)\n",
        "\n",
        "print('#train_samples:', len(y_train))\n",
        "print('#test_samples:', len(y_test))\n",
        "print('#val_samples:', len(y_val))"
      ]
    },
    {
      "cell_type": "code",
      "execution_count": null,
      "metadata": {
        "id": "H6-4Aqc1BeFx"
      },
      "outputs": [],
      "source": [
        "from torch.utils.data import Dataset, DataLoader\n",
        "class PtDataset(Dataset):\n",
        "    \"\"\"Custom-built Subj dataset\"\"\"\n",
        "\n",
        "    def __init__(self, X, y):\n",
        "        \"\"\"\n",
        "        Args:\n",
        "            X, y as Torch tensors\n",
        "        \"\"\"\n",
        "        self.X_train = X\n",
        "        self.y_train = y\n",
        "\n",
        "\n",
        "    def __len__(self):\n",
        "        return len(self.y_train)\n",
        "\n",
        "    def __getitem__(self, idx):\n",
        "        return self.X_train[idx], self.y_train[idx]"
      ]
    },
    {
      "cell_type": "code",
      "execution_count": null,
      "metadata": {
        "id": "uBvAAt64Bglh"
      },
      "outputs": [],
      "source": [
        "train_data_pt = PtDataset(X=X_train, y=y_train)\n",
        "test_data_pt = PtDataset(X=X_test, y=y_test)\n",
        "val_data_pt = PtDataset(X=X_val, y=y_val)"
      ]
    },
    {
      "cell_type": "code",
      "execution_count": null,
      "metadata": {
        "id": "Uh11CalSBiLx"
      },
      "outputs": [],
      "source": [
        "train_loader_pt = DataLoader(train_data_pt, batch_size=16)\n",
        "test_loader_pt = DataLoader(test_data_pt, batch_size=16)\n",
        "val_loader_pt = DataLoader(val_data_pt, batch_size=16)"
      ]
    },
    {
      "cell_type": "markdown",
      "metadata": {
        "id": "KSKM8GhTBknA"
      },
      "source": [
        "# Build the Model"
      ]
    },
    {
      "cell_type": "markdown",
      "metadata": {
        "id": "PwCPfc5dBnYh"
      },
      "source": [
        "Get the pretrained model"
      ]
    },
    {
      "cell_type": "code",
      "execution_count": null,
      "metadata": {
        "id": "plJE7o1NBo8Z"
      },
      "outputs": [],
      "source": [
        "dbert_pt = AutoModel.from_pretrained('distilbert-base-uncased')"
      ]
    },
    {
      "cell_type": "code",
      "execution_count": null,
      "metadata": {
        "colab": {
          "base_uri": "https://localhost:8080/"
        },
        "id": "uF-e2xZQB7MA",
        "outputId": "45abb70c-3f5b-467b-a8e9-f69783a4285c"
      },
      "outputs": [
        {
          "name": "stdout",
          "output_type": "stream",
          "text": [
            "Object type:  <class 'transformers.modeling_outputs.BaseModelOutput'>\n",
            "Output format (shape):  torch.Size([5, 256, 768])\n",
            "Output used as input for the classifier (shape):  torch.Size([5, 768])\n"
          ]
        }
      ],
      "source": [
        "# Create a sample of size 5 from the training data\n",
        "sample = X_train[0:5]\n",
        "print('Object type: ', type(dbert_pt(sample)))\n",
        "print('Output format (shape): ',dbert_pt(sample)[0].shape)\n",
        "print('Output used as input for the classifier (shape): ', dbert_pt(sample)[0][:,0,:].shape)"
      ]
    },
    {
      "cell_type": "markdown",
      "metadata": {
        "id": "o9rc1IDaCBuZ"
      },
      "source": [
        "Create the MY-BERT model"
      ]
    },
    {
      "cell_type": "code",
      "execution_count": null,
      "metadata": {
        "id": "thqkFKFOB-YZ"
      },
      "outputs": [],
      "source": [
        "from torch import nn\n",
        "num_classes = 2\n",
        "device = \"cuda\" if torch.cuda.is_available() else \"cpu\"\n",
        "\n",
        "class DistilBertClassification(nn.Module):\n",
        "     def __init__(self):\n",
        "         super(DistilBertClassification, self).__init__()\n",
        "         self.dbert = dbert_pt\n",
        "         self.num_classes = 2\n",
        "         self.dropout = nn.Dropout(p=0.5)\n",
        "         self.linear = nn.Linear(dbert_pt.config.hidden_size, num_classes)\n",
        "         # BERT model is trainable\n",
        "         for param in dbert_pt.parameters():\n",
        "           param.requires_grad_(True)\n",
        "\n",
        "     def forward(self, x):\n",
        "         x = self.dbert(input_ids=x)\n",
        "        #  print(f\"Size after BERT model: {x['last_hidden_state'].size()}\")\n",
        "         x = x[\"last_hidden_state\"][:,0,:]\n",
        "        #  print(f\"Size after selecting the [CLS] token: {x.size()}\")\n",
        "         x = self.dropout(x)\n",
        "        #  print(f\"Size after dropout: {x.size()}\")\n",
        "         x = self.linear(x)\n",
        "        #  print(f\"Size after linear layer: {x.size()}\")\n",
        "         return x\n",
        "model_pt = DistilBertClassification().to(device)"
      ]
    },
    {
      "cell_type": "code",
      "execution_count": null,
      "metadata": {
        "colab": {
          "base_uri": "https://localhost:8080/"
        },
        "id": "ybkPh3MKCFfg",
        "outputId": "b6b2a917-10fc-478b-ca73-06caba91057b"
      },
      "outputs": [
        {
          "name": "stdout",
          "output_type": "stream",
          "text": [
            "DistilBertClassification(\n",
            "  (dbert): DistilBertModel(\n",
            "    (embeddings): Embeddings(\n",
            "      (word_embeddings): Embedding(30522, 768, padding_idx=0)\n",
            "      (position_embeddings): Embedding(512, 768)\n",
            "      (LayerNorm): LayerNorm((768,), eps=1e-12, elementwise_affine=True)\n",
            "      (dropout): Dropout(p=0.1, inplace=False)\n",
            "    )\n",
            "    (transformer): Transformer(\n",
            "      (layer): ModuleList(\n",
            "        (0-5): 6 x TransformerBlock(\n",
            "          (attention): MultiHeadSelfAttention(\n",
            "            (dropout): Dropout(p=0.1, inplace=False)\n",
            "            (q_lin): Linear(in_features=768, out_features=768, bias=True)\n",
            "            (k_lin): Linear(in_features=768, out_features=768, bias=True)\n",
            "            (v_lin): Linear(in_features=768, out_features=768, bias=True)\n",
            "            (out_lin): Linear(in_features=768, out_features=768, bias=True)\n",
            "          )\n",
            "          (sa_layer_norm): LayerNorm((768,), eps=1e-12, elementwise_affine=True)\n",
            "          (ffn): FFN(\n",
            "            (dropout): Dropout(p=0.1, inplace=False)\n",
            "            (lin1): Linear(in_features=768, out_features=3072, bias=True)\n",
            "            (lin2): Linear(in_features=3072, out_features=768, bias=True)\n",
            "            (activation): GELUActivation()\n",
            "          )\n",
            "          (output_layer_norm): LayerNorm((768,), eps=1e-12, elementwise_affine=True)\n",
            "        )\n",
            "      )\n",
            "    )\n",
            "  )\n",
            "  (dropout): Dropout(p=0.5, inplace=False)\n",
            "  (linear): Linear(in_features=768, out_features=2, bias=True)\n",
            ")\n"
          ]
        }
      ],
      "source": [
        "print(model_pt)"
      ]
    },
    {
      "cell_type": "markdown",
      "metadata": {
        "id": "p5nvKBTVCIug"
      },
      "source": [
        "Get the number of parameters (trainable and non-trainable)"
      ]
    },
    {
      "cell_type": "code",
      "execution_count": null,
      "metadata": {
        "colab": {
          "base_uri": "https://localhost:8080/"
        },
        "id": "6lp9G04hCHma",
        "outputId": "e161ecd1-c055-470f-84ba-3d937fd1c420"
      },
      "outputs": [
        {
          "name": "stdout",
          "output_type": "stream",
          "text": [
            "Number of parameters:  66364418\n",
            "Number of trainable parameters:  66364418\n"
          ]
        }
      ],
      "source": [
        "total_params = sum(p.numel() for p in model_pt.parameters())\n",
        "total_params_trainable = sum(p.numel() for p in model_pt.parameters() if p.requires_grad)\n",
        "print(\"Number of parameters: \", total_params)\n",
        "print(\"Number of trainable parameters: \", total_params_trainable)"
      ]
    },
    {
      "cell_type": "markdown",
      "metadata": {
        "id": "ih23IROyCNZ7"
      },
      "source": [
        "# Train the Model"
      ]
    },
    {
      "cell_type": "code",
      "execution_count": null,
      "metadata": {
        "id": "HbCasGBCCOtJ"
      },
      "outputs": [],
      "source": [
        "epochs = 5\n",
        "criterion = torch.nn.CrossEntropyLoss()\n",
        "optimizer = torch.optim.AdamW(model_pt.parameters(), lr=1e-5, weight_decay=0.01)"
      ]
    },
    {
      "cell_type": "code",
      "execution_count": null,
      "metadata": {
        "colab": {
          "background_save": true,
          "base_uri": "https://localhost:8080/"
        },
        "id": "X1cwFDysCSoR",
        "outputId": "5e16a584-5499-44e0-94b6-6bea56b62a3f"
      },
      "outputs": [
        {
          "name": "stderr",
          "output_type": "stream",
          "text": [
            "100%|██████████| 450/450 [02:42<00:00,  2.76it/s]\n"
          ]
        },
        {
          "name": "stdout",
          "output_type": "stream",
          "text": [
            "Epoch 1 \t\t Training Loss:      0.267 \t\t Validation Loss:      0.116\n",
            "\t\t Training Accuracy:    87.083% \t\t Validation Accuracy:    95.250%\n"
          ]
        },
        {
          "name": "stderr",
          "output_type": "stream",
          "text": [
            "100%|██████████| 450/450 [02:41<00:00,  2.78it/s]\n"
          ]
        },
        {
          "name": "stdout",
          "output_type": "stream",
          "text": [
            "Epoch 2 \t\t Training Loss:      0.097 \t\t Validation Loss:      0.145\n",
            "\t\t Training Accuracy:    96.597% \t\t Validation Accuracy:    94.375%\n"
          ]
        },
        {
          "name": "stderr",
          "output_type": "stream",
          "text": [
            "100%|██████████| 450/450 [02:41<00:00,  2.78it/s]\n"
          ]
        },
        {
          "name": "stdout",
          "output_type": "stream",
          "text": [
            "Epoch 3 \t\t Training Loss:      0.056 \t\t Validation Loss:      0.090\n",
            "\t\t Training Accuracy:    98.139% \t\t Validation Accuracy:    97.125%\n"
          ]
        },
        {
          "name": "stderr",
          "output_type": "stream",
          "text": [
            "100%|██████████| 450/450 [02:42<00:00,  2.77it/s]\n"
          ]
        },
        {
          "name": "stdout",
          "output_type": "stream",
          "text": [
            "Epoch 4 \t\t Training Loss:      0.035 \t\t Validation Loss:      0.099\n",
            "\t\t Training Accuracy:    98.847% \t\t Validation Accuracy:    97.000%\n"
          ]
        },
        {
          "name": "stderr",
          "output_type": "stream",
          "text": [
            "100%|██████████| 450/450 [02:42<00:00,  2.78it/s]\n"
          ]
        },
        {
          "name": "stdout",
          "output_type": "stream",
          "text": [
            "Epoch 5 \t\t Training Loss:      0.021 \t\t Validation Loss:      0.110\n",
            "\t\t Training Accuracy:    99.361% \t\t Validation Accuracy:    97.250%\n"
          ]
        }
      ],
      "source": [
        "import torch\n",
        "from tqdm import tqdm\n",
        "from datetime import datetime\n",
        "\n",
        "# Define the dictionary \"history\" that will collect key performance indicators during training\n",
        "history = {\n",
        "    \"epoch\": [],\n",
        "    \"train_loss\": [],\n",
        "    \"valid_loss\": [],\n",
        "    \"train_accuracy\": [],\n",
        "    \"valid_accuracy\": [],\n",
        "}\n",
        "\n",
        "# Measure time for training\n",
        "start_time = datetime.now()\n",
        "\n",
        "# Move the model to GPU\n",
        "device = torch.device('cuda' if torch.cuda.is_available() else 'cpu')\n",
        "model_pt.to(device)\n",
        "\n",
        "# Loop on epochs\n",
        "for e in range(epochs):\n",
        "\n",
        "    # Set mode in train mode\n",
        "    model_pt.train()\n",
        "\n",
        "    train_loss = 0.0\n",
        "    train_correct = 0\n",
        "    train_total = 0\n",
        "\n",
        "    # Loop on batches\n",
        "    for X, y in tqdm(train_loader_pt):\n",
        "        # Move data to GPU\n",
        "        X, y = X.to(device), y.to(device)\n",
        "\n",
        "        # Get prediction & loss\n",
        "        prediction = model_pt(X)\n",
        "        loss = criterion(prediction, y)\n",
        "\n",
        "        # Adjust the parameters of the model\n",
        "        optimizer.zero_grad()\n",
        "        loss.backward()\n",
        "        optimizer.step()\n",
        "\n",
        "        train_loss += loss.item()\n",
        "\n",
        "        prediction_index = prediction.argmax(dim=1)\n",
        "        train_correct += (prediction_index == y).sum().item()\n",
        "        train_total += y.size(0)\n",
        "\n",
        "    train_accuracy = train_correct / train_total\n",
        "\n",
        "    # Calculate the loss on the validation data after each epoch\n",
        "    model_pt.eval()\n",
        "    valid_loss = 0.0\n",
        "    valid_correct = 0\n",
        "    valid_total = 0\n",
        "\n",
        "    with torch.no_grad():\n",
        "        for X, y in val_loader_pt:\n",
        "            # Move data to GPU\n",
        "            X, y = X.to(device), y.to(device)\n",
        "\n",
        "            prediction = model_pt(X)\n",
        "            loss = criterion(prediction, y)\n",
        "\n",
        "            valid_loss += loss.item()\n",
        "\n",
        "            prediction_index = prediction.argmax(dim=1)\n",
        "            valid_correct += (prediction_index == y).sum().item()\n",
        "            valid_total += y.size(0)\n",
        "\n",
        "    valid_accuracy = valid_correct / valid_total\n",
        "\n",
        "    # Populate history\n",
        "    history[\"epoch\"].append(e + 1)\n",
        "    history[\"train_loss\"].append(train_loss / len(train_loader_pt))\n",
        "    history[\"valid_loss\"].append(valid_loss / len(val_loader_pt))\n",
        "    history[\"train_accuracy\"].append(train_accuracy)\n",
        "    history[\"valid_accuracy\"].append(valid_accuracy)\n",
        "\n",
        "    print(f'Epoch {e + 1} \\t\\t Training Loss: {train_loss / len(train_loader_pt) :10.3f} \\t\\t Validation Loss: {valid_loss / len(val_loader_pt) :10.3f}')\n",
        "    print(f'\\t\\t Training Accuracy: {train_accuracy :10.3%} \\t\\t Validation Accuracy: {valid_accuracy :10.3%}')\n",
        "\n",
        "# Measure time for training\n",
        "end_time = datetime.now()\n",
        "training_time_pt = (end_time - start_time).total_seconds()"
      ]
    },
    {
      "cell_type": "code",
      "execution_count": null,
      "metadata": {
        "colab": {
          "background_save": true
        },
        "id": "JXoVROKxiiPL"
      },
      "outputs": [],
      "source": [
        "def calculate_metrics(valid_labels, predicted_labels):\n",
        "    # Calculate accuracy\n",
        "    accuracy = sum(1 for v, p in zip(valid_labels, predicted_labels) if v == p) / len(valid_labels)\n",
        "\n",
        "    # Calculate true positives, false positives, and false negatives\n",
        "    true_positives = sum(1 for v, p in zip(valid_labels, predicted_labels) if v == p and v == 1)\n",
        "    true_negatives = sum(1 for v, p in zip(valid_labels, predicted_labels) if v == p and v == 0)\n",
        "    false_positives = sum(1 for v, p in zip(valid_labels, predicted_labels) if v != p and p == 1)\n",
        "    false_negatives = sum(1 for v, p in zip(valid_labels, predicted_labels) if v != p and v == 1)\n",
        "\n",
        "    # Calculate precision\n",
        "    precision = true_positives / (true_positives + false_positives) if (true_positives + false_positives) > 0 else 0\n",
        "\n",
        "    # Calculate recall\n",
        "    recall = true_positives / (true_positives + false_negatives) if (true_positives + false_negatives) > 0 else 0\n",
        "\n",
        "    # Calculate F1 score\n",
        "    f1_score = 2 * (precision * recall) / (precision + recall) if (precision + recall) > 0 else 0\n",
        "\n",
        "    return accuracy, precision, recall, f1_score, true_positives, false_positives, false_negatives, true_negatives"
      ]
    },
    {
      "cell_type": "code",
      "execution_count": null,
      "metadata": {
        "colab": {
          "background_save": true
        },
        "id": "uzYyWGbTCWqp",
        "outputId": "c168d7a0-2978-4621-b356-d52d7b6e7171"
      },
      "outputs": [
        {
          "name": "stdout",
          "output_type": "stream",
          "text": [
            "Test Loss:      0.672\n",
            "Test Accuracy: 0.81\n",
            "Test Precision: 0.9428571428571428\n",
            "Test Recall: 0.66\n",
            "Test F1 Score: 0.7764705882352942\n",
            "Test false_positives: 4\n",
            "Test false_negatives: 34\n",
            "Test true_positives: 66\n",
            "Test true_negatives: 96\n"
          ]
        }
      ],
      "source": [
        "model_pt.eval()\n",
        "test_loss = 0.0\n",
        "test_accuracy = []\n",
        "\n",
        "all_labels = []\n",
        "all_predictions = []\n",
        "\n",
        "with torch.no_grad():\n",
        "    for X, y in test_loader_pt:  # assuming you have a test_loader_pt for test data\n",
        "        # Move data to GPU\n",
        "        X, y = X.to(device), y.to(device)\n",
        "\n",
        "        prediction = model_pt(X)\n",
        "        loss = criterion(prediction, y)\n",
        "\n",
        "        test_loss += loss.item()\n",
        "\n",
        "        prediction_index = prediction.argmax(axis=1)\n",
        "        accuracy = (prediction_index == y).float()\n",
        "        test_accuracy.extend(accuracy.cpu().numpy())\n",
        "\n",
        "        all_labels.extend(y.cpu().numpy())\n",
        "        all_predictions.extend(prediction_index.cpu().numpy())\n",
        "\n",
        "# Calculate metrics\n",
        "accuracy, precision, recall, f1_score, true_positives, false_positives, false_negatives, true_negatives = calculate_metrics(all_labels, all_predictions)\n",
        "\n",
        "# Print results\n",
        "print(f'Test Loss: {test_loss / len(test_loader_pt) :10.3f}')\n",
        "print(\"Test Accuracy:\", accuracy)\n",
        "print(\"Test Precision:\", precision)\n",
        "print(\"Test Recall:\", recall)\n",
        "print(\"Test F1 Score:\", f1_score)\n",
        "print(\"Test false_positives:\", false_positives)\n",
        "print(\"Test false_negatives:\", false_negatives)\n",
        "print(\"Test true_positives:\", true_positives)\n",
        "print(\"Test true_negatives:\", true_negatives)"
      ]
    },
    {
      "cell_type": "markdown",
      "metadata": {
        "id": "-jSueodKCY55"
      },
      "source": [
        "Create some plots"
      ]
    },
    {
      "cell_type": "code",
      "execution_count": null,
      "metadata": {
        "colab": {
          "background_save": true
        },
        "id": "orkDKVkSCa7Z",
        "outputId": "62ea09d6-df2c-4a84-ccd1-72adbc66e9b4"
      },
      "outputs": [
        {
          "data": {
            "image/png": "[encoded data removed]",
            "text/plain": [
              "<Figure size 600x400 with 1 Axes>"
            ]
          },
          "metadata": {},
          "output_type": "display_data"
        }
      ],
      "source": [
        "from matplotlib import pyplot as plt\n",
        "from matplotlib.ticker import MaxNLocator\n",
        "\n",
        "\n",
        "fig, ax = plt.subplots(figsize=(6, 4))\n",
        "ax.set_facecolor('#f0f0f0')\n",
        "ax.set(title='Veszteség a tanítási és validálási adathalmazon')\n",
        "ax.plot(history['epoch'], history['train_loss'], label='Tanítási adathalmaz', color = 'red')\n",
        "ax.plot(history['epoch'], history['valid_loss'], label='Validációs adathalmaz')\n",
        "ax.yaxis.set_major_locator(MaxNLocator(nbins=5))\n",
        "ax.xaxis.set_major_locator(MaxNLocator(nbins=5))\n",
        "ax.set_xlabel('Epoch')\n",
        "ax.set_ylabel('Veszteség')\n",
        "ax.legend(loc=\"upper right\")\n",
        "\n",
        "plt.show()"
      ]
    },
    {
      "cell_type": "code",
      "execution_count": null,
      "metadata": {
        "colab": {
          "background_save": true
        },
        "id": "GIvjMV2dCcap",
        "outputId": "623e36c5-bf8d-4a47-9f4e-eb63379d16ce"
      },
      "outputs": [
        {
          "data": {
            "image/png": "[encoded data removed]",
            "text/plain": [
              "<Figure size 600x400 with 1 Axes>"
            ]
          },
          "metadata": {},
          "output_type": "display_data"
        },
        {
          "name": "stdout",
          "output_type": "stream",
          "text": [
            "{'epoch': [1, 2, 3, 4, 5], 'train_loss': [0.26697496553676, 0.09669571953515212, 0.056252138520616835, 0.035462560914586196, 0.021219438885131645], 'valid_loss': [0.11567508421838284, 0.14454614823684098, 0.09035292929504067, 0.09928193236934021, 0.10965339398942887], 'train_accuracy': [0.8708333333333333, 0.9659722222222222, 0.9813888888888889, 0.9884722222222222, 0.9936111111111111], 'valid_accuracy': [0.9525, 0.94375, 0.97125, 0.97, 0.9725]}\n"
          ]
        }
      ],
      "source": [
        "from matplotlib import pyplot as plt\n",
        "from matplotlib.ticker import MaxNLocator\n",
        "\n",
        "fig, ax = plt.subplots(figsize=(6, 4))\n",
        "ax.set_facecolor('#f0f0f0')\n",
        "ax.set(title='Pontosság a tanítási és validálási adathalmazon.')\n",
        "ax.plot(history['epoch'], history['train_accuracy'], label='Tanítási adathalmaz', color = 'red')\n",
        "ax.plot(history['epoch'], history['valid_accuracy'], label='Validációs adathalmaz')\n",
        "ax.yaxis.set_major_locator(MaxNLocator(nbins=8))\n",
        "ax.xaxis.set_major_locator(MaxNLocator(nbins=5))\n",
        "ax.set_xlabel('Epoch')\n",
        "ax.set_ylabel('Pontosság')\n",
        "ax.legend(loc=\"lower right\")\n",
        "\n",
        "plt.show()\n",
        "\n",
        "print(history)"
      ]
    },
    {
      "cell_type": "code",
      "execution_count": null,
      "metadata": {
        "colab": {
          "background_save": true
        },
        "id": "c9ktUfGuCejw",
        "outputId": "b79dd3f4-b2b4-47c1-8f41-65c90d2455d4"
      },
      "outputs": [
        {
          "name": "stdout",
          "output_type": "stream",
          "text": [
            "Accuracy Training data: 99.4%\n",
            "Accuracy Validation data: 97.2%\n",
            "Training time: 840.4s (or 14.0 minutes)\n"
          ]
        }
      ],
      "source": [
        "accuracy_pt = history['valid_accuracy'][-1]\n",
        "print('Accuracy Training data: {:.1%}'.format(history['train_accuracy'][-1]))\n",
        "print('Accuracy Validation data: {:.1%}'.format(history['valid_accuracy'][-1]))\n",
        "print('Training time: {:.1f}s (or {:.1f} minutes)'.format(training_time_pt, training_time_pt/60))"
      ]
    },
    {
      "cell_type": "markdown",
      "metadata": {
        "id": "a-qBXA12CouA"
      },
      "source": [
        "# Save the Model"
      ]
    },
    {
      "cell_type": "markdown",
      "metadata": {
        "id": "CeGOCCJhCw9y"
      },
      "source": [
        "Save only the parameters of the model but not the model itself, and get it back"
      ]
    },
    {
      "cell_type": "code",
      "execution_count": null,
      "metadata": {
        "colab": {
          "background_save": true
        },
        "id": "lt-kbqFRCpLJ",
        "outputId": "2eab9c09-c1d8-4a29-97cc-86105925e876"
      },
      "outputs": [
        {
          "data": {
            "text/plain": [
              "DistilBertClassification(\n",
              "  (dbert): DistilBertModel(\n",
              "    (embeddings): Embeddings(\n",
              "      (word_embeddings): Embedding(30522, 768, padding_idx=0)\n",
              "      (position_embeddings): Embedding(512, 768)\n",
              "      (LayerNorm): LayerNorm((768,), eps=1e-12, elementwise_affine=True)\n",
              "      (dropout): Dropout(p=0.1, inplace=False)\n",
              "    )\n",
              "    (transformer): Transformer(\n",
              "      (layer): ModuleList(\n",
              "        (0-5): 6 x TransformerBlock(\n",
              "          (attention): MultiHeadSelfAttention(\n",
              "            (dropout): Dropout(p=0.1, inplace=False)\n",
              "            (q_lin): Linear(in_features=768, out_features=768, bias=True)\n",
              "            (k_lin): Linear(in_features=768, out_features=768, bias=True)\n",
              "            (v_lin): Linear(in_features=768, out_features=768, bias=True)\n",
              "            (out_lin): Linear(in_features=768, out_features=768, bias=True)\n",
              "          )\n",
              "          (sa_layer_norm): LayerNorm((768,), eps=1e-12, elementwise_affine=True)\n",
              "          (ffn): FFN(\n",
              "            (dropout): Dropout(p=0.1, inplace=False)\n",
              "            (lin1): Linear(in_features=768, out_features=3072, bias=True)\n",
              "            (lin2): Linear(in_features=3072, out_features=768, bias=True)\n",
              "            (activation): GELUActivation()\n",
              "          )\n",
              "          (output_layer_norm): LayerNorm((768,), eps=1e-12, elementwise_affine=True)\n",
              "        )\n",
              "      )\n",
              "    )\n",
              "  )\n",
              "  (dropout): Dropout(p=0.5, inplace=False)\n",
              "  (linear): Linear(in_features=768, out_features=2, bias=True)\n",
              ")"
            ]
          },
          "execution_count": 58,
          "metadata": {},
          "output_type": "execute_result"
        }
      ],
      "source": [
        "torch.save(model_pt.state_dict(), 'PyModel.sd')\n",
        "model_reloaded = DistilBertClassification()\n",
        "model_reloaded.load_state_dict(torch.load('PyModel.sd'))\n",
        "model_reloaded.eval()"
      ]
    },
    {
      "cell_type": "markdown",
      "metadata": {
        "id": "-xONBHOVCupo"
      },
      "source": [
        "Save the entire model, and get it back"
      ]
    },
    {
      "cell_type": "code",
      "execution_count": null,
      "metadata": {
        "colab": {
          "background_save": true
        },
        "id": "E4NMpWinCsJ3",
        "outputId": "4198524d-5ee5-4509-a1f4-b2e9eafae0be"
      },
      "outputs": [
        {
          "data": {
            "text/plain": [
              "DistilBertClassification(\n",
              "  (dbert): DistilBertModel(\n",
              "    (embeddings): Embeddings(\n",
              "      (word_embeddings): Embedding(30522, 768, padding_idx=0)\n",
              "      (position_embeddings): Embedding(512, 768)\n",
              "      (LayerNorm): LayerNorm((768,), eps=1e-12, elementwise_affine=True)\n",
              "      (dropout): Dropout(p=0.1, inplace=False)\n",
              "    )\n",
              "    (transformer): Transformer(\n",
              "      (layer): ModuleList(\n",
              "        (0-5): 6 x TransformerBlock(\n",
              "          (attention): MultiHeadSelfAttention(\n",
              "            (dropout): Dropout(p=0.1, inplace=False)\n",
              "            (q_lin): Linear(in_features=768, out_features=768, bias=True)\n",
              "            (k_lin): Linear(in_features=768, out_features=768, bias=True)\n",
              "            (v_lin): Linear(in_features=768, out_features=768, bias=True)\n",
              "            (out_lin): Linear(in_features=768, out_features=768, bias=True)\n",
              "          )\n",
              "          (sa_layer_norm): LayerNorm((768,), eps=1e-12, elementwise_affine=True)\n",
              "          (ffn): FFN(\n",
              "            (dropout): Dropout(p=0.1, inplace=False)\n",
              "            (lin1): Linear(in_features=768, out_features=3072, bias=True)\n",
              "            (lin2): Linear(in_features=3072, out_features=768, bias=True)\n",
              "            (activation): GELUActivation()\n",
              "          )\n",
              "          (output_layer_norm): LayerNorm((768,), eps=1e-12, elementwise_affine=True)\n",
              "        )\n",
              "      )\n",
              "    )\n",
              "  )\n",
              "  (dropout): Dropout(p=0.5, inplace=False)\n",
              "  (linear): Linear(in_features=768, out_features=2, bias=True)\n",
              ")"
            ]
          },
          "execution_count": 59,
          "metadata": {},
          "output_type": "execute_result"
        }
      ],
      "source": [
        "torch.save(model_pt, 'PyModelComplete.pt')\n",
        "model_reloaded2 = torch.load('PyModelComplete.pt')\n",
        "model_reloaded2.eval()"
      ]
    },
    {
      "cell_type": "markdown",
      "metadata": {
        "id": "ewD2N1xvCz0A"
      },
      "source": [
        "# References"
      ]
    },
    {
      "cell_type": "markdown",
      "metadata": {
        "id": "itMj9A5oC1Yw"
      },
      "source": [
        "[1]: Devlin et al. (2018). “BERT: Pre-training of Deep Bidirectional Transformers for Language Understanding” (https://arxiv.org/abs/1810.04805)\n",
        "\n",
        "[2]: V. Sanh et al (2019), \"DistilBERT, a Distilled Version of BERT: Smaller, Faster, Cheaper and Lighter\" (https://arxiv.org/abs/1910.01108)"
      ]
    },
    {
      "cell_type": "markdown",
      "metadata": {
        "id": "GuaD2aTfDbDZ"
      },
      "source": [
        "\n",
        "Medium (https://medium.com/@claude.feldges/text-classification-with-bert-in-tensorflow-and-pytorch-4e43e79673b3)"
      ]
    },
    {
      "cell_type": "markdown",
      "metadata": {
        "id": "FUiJTRQzDZzA"
      },
      "source": [
        "\n",
        "[3]: Medium (https://medium.com/@claude.feldges/text-classification-with-bert-in-tensorflow-and-pytorch-4e43e79673b3)"
      ]
    }
  ],
  "metadata": {
    "accelerator": "GPU",
    "colab": {
      "collapsed_sections": [
        "77tUZvbAAVQS",
        "8tjbM8s_Ac8y",
        "KSKM8GhTBknA",
        "ih23IROyCNZ7",
        "a-qBXA12CouA"
      ],
      "gpuType": "T4",
      "machine_shape": "hm",
      "provenance": [],
      "include_colab_link": true
    },
    "kernelspec": {
      "display_name": "Python 3",
      "name": "python3"
    },
    "language_info": {
      "name": "python"
    }
  },
  "nbformat": 4,
  "nbformat_minor": 0
}