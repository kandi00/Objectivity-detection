{
  "nbformat": 4,
  "nbformat_minor": 0,
  "metadata": {
    "colab": {
      "provenance": [],
      "authorship_tag": "ABX9TyNuLuowhMk8JgMyS2r9m9nF",
      "include_colab_link": true
    },
    "kernelspec": {
      "name": "python3",
      "display_name": "Python 3"
    },
    "language_info": {
      "name": "python"
    }
  },
  "cells": [
    {
      "cell_type": "markdown",
      "metadata": {
        "id": "view-in-github",
        "colab_type": "text"
      },
      "source": [
        "<a href=\"https://colab.research.google.com/github/kandi00/Objectivity-detection/blob/main/SUBJ_database_Classification_using_GPT_4.ipynb\" target=\"_parent\"><img src=\"https://colab.research.google.com/assets/colab-badge.svg\" alt=\"Open In Colab\"/></a>"
      ]
    },
    {
      "cell_type": "code",
      "source": [
        "from google.colab import drive\n",
        "drive.mount('/content/drive')"
      ],
      "metadata": {
        "colab": {
          "base_uri": "https://localhost:8080/"
        },
        "id": "ioje4foEDZJX",
        "outputId": "94508ec4-bdaa-44a7-bf31-68db9ec6637b"
      },
      "execution_count": 1,
      "outputs": [
        {
          "output_type": "stream",
          "name": "stdout",
          "text": [
            "Mounted at /content/drive\n"
          ]
        }
      ]
    },
    {
      "cell_type": "code",
      "source": [
        "!pip install openai==0.28"
      ],
      "metadata": {
        "id": "8fsWloWQMxEG",
        "colab": {
          "base_uri": "https://localhost:8080/"
        },
        "outputId": "d3d8918d-fc2a-47d3-f22c-ec189418ec81"
      },
      "execution_count": 2,
      "outputs": [
        {
          "output_type": "stream",
          "name": "stdout",
          "text": [
            "Installing collected packages: openai\n",
            "Successfully installed openai-0.28.0\n"
          ]
        }
      ]
    },
    {
      "cell_type": "code",
      "source": [
        "from google.colab import userdata\n",
        "import openai\n",
        "\n",
        "api_key = userdata.get('OPENAI_API_KEY')\n",
        "openai.api_key = api_key"
      ],
      "metadata": {
        "id": "rQBvt3ldM25_"
      },
      "execution_count": 6,
      "outputs": []
    },
    {
      "cell_type": "code",
      "source": [
        "import pandas as pd\n",
        "\n",
        "def read_tsv_file(file_path):\n",
        "  return pd.read_csv(file_path, delimiter='\\t')"
      ],
      "metadata": {
        "id": "Gsf-Ya3yqhdZ"
      },
      "execution_count": null,
      "outputs": []
    },
    {
      "cell_type": "code",
      "source": [
        "file_path = \"/content/drive/My Drive/Disszertacio/subj_test.tsv\"\n",
        "test_df = read_tsv_file(file_path)\n",
        "print(test_df)"
      ],
      "metadata": {
        "id": "bXbb3e8w3fjH",
        "colab": {
          "base_uri": "https://localhost:8080/"
        },
        "outputId": "56cb330e-6e19-409f-cf01-2677415b4de1"
      },
      "execution_count": null,
      "outputs": [
        {
          "output_type": "stream",
          "name": "stdout",
          "text": [
            "                                                   text  label\n",
            "0     uno de los policiales m�s interesantes de los ...      1\n",
            "1      . . . is there a deeper , more direct connect...      1\n",
            "2     possibly not since grumpy old men have i heard...      1\n",
            "3     hollywood has taken quite a nosedive from alfr...      1\n",
            "4     if swimfan does catch on , it may be because t...      1\n",
            "...                                                 ...    ...\n",
            "1995  in the end , they discover that balance in lif...      0\n",
            "1996  a counterfeit 1000 tomin bank note is passed i...      0\n",
            "1997  enter the beautiful and mysterious secret agen...      0\n",
            "1998  after listening to a missionary from china spe...      0\n",
            "1999  looking for a short cut to fame , glass concoc...      0\n",
            "\n",
            "[2000 rows x 2 columns]\n"
          ]
        }
      ]
    },
    {
      "cell_type": "code",
      "source": [
        "print(test_df.shape)"
      ],
      "metadata": {
        "id": "oxQRm-1Lvsl_",
        "colab": {
          "base_uri": "https://localhost:8080/"
        },
        "outputId": "15eea3cd-c6e1-4163-c311-944ae35c03ad"
      },
      "execution_count": null,
      "outputs": [
        {
          "output_type": "stream",
          "name": "stdout",
          "text": [
            "(2000, 2)\n"
          ]
        }
      ]
    },
    {
      "cell_type": "code",
      "source": [
        "print(test_df.iloc[0:10])"
      ],
      "metadata": {
        "colab": {
          "base_uri": "https://localhost:8080/"
        },
        "id": "gzm7n54j4g65",
        "outputId": "7f26334c-b30e-4de2-b7f7-99c22ade838c"
      },
      "execution_count": null,
      "outputs": [
        {
          "output_type": "stream",
          "name": "stdout",
          "text": [
            "                                                text  label\n",
            "0  uno de los policiales m�s interesantes de los ...      1\n",
            "1   . . . is there a deeper , more direct connect...      1\n",
            "2  possibly not since grumpy old men have i heard...      1\n",
            "3  hollywood has taken quite a nosedive from alfr...      1\n",
            "4  if swimfan does catch on , it may be because t...      1\n",
            "5  an inelegant combination of two unrelated shor...      1\n",
            "6  like the best war movies -- and like martial l...      1\n",
            "7  in its chicken heart , crush goes to absurd le...      1\n",
            "8  that the chuck norris \" grenade gag \" occurs a...      1\n",
            "9  a romantic comedy , yes , but one with charact...      1\n"
          ]
        }
      ]
    },
    {
      "cell_type": "code",
      "source": [
        "my_list = test_df['text'].tolist()\n",
        "print(len(my_list))"
      ],
      "metadata": {
        "colab": {
          "base_uri": "https://localhost:8080/"
        },
        "id": "YjkeMHaAJNj5",
        "outputId": "c7d00b5d-4489-47ab-f5be-2faf302cab48"
      },
      "execution_count": null,
      "outputs": [
        {
          "output_type": "stream",
          "name": "stdout",
          "text": [
            "2000\n"
          ]
        }
      ]
    },
    {
      "cell_type": "code",
      "source": [
        "import time\n",
        "my_list = test_df['text'].tolist()\n",
        "result = []\n",
        "for i in range(0, len(my_list), 10):\n",
        "  message = my_list[i:i+10]\n",
        "  prompt = f\"\"\"\n",
        "  The following python list contains in each position a message.\n",
        "  Classify each message as subjective or objective.\n",
        "  Message: '{message}'. Something is subjective if it is dependent on a mind. Something is objective if it can be confirmed independently of a mind.\n",
        "  Your response should only contain one word for each sentence, seperated by commas.\n",
        "  \"\"\"\n",
        "  response = openai.ChatCompletion.create(\n",
        "              model=\"gpt-4\",\n",
        "              temperature = 0.0,\n",
        "              messages=[\n",
        "                    {\"role\": \"user\", \"content\": prompt}\n",
        "                ]\n",
        "            )\n",
        "\n",
        "  response =  response[\"choices\"][0][\"message\"][\"content\"].split(\",\")\n",
        "  result += response\n",
        "  print(response)\n",
        "  time.sleep(5)"
      ],
      "metadata": {
        "colab": {
          "base_uri": "https://localhost:8080/"
        },
        "id": "pGkQ3QnPnGox",
        "outputId": "c8870656-7bb3-4885-a444-6ddd219db5ea"
      },
      "execution_count": null,
      "outputs": [
        {
          "output_type": "stream",
          "name": "stdout",
          "text": [
            "['subjective', ' subjective', ' subjective', ' subjective', ' subjective', ' subjective', ' subjective', ' subjective', ' subjective', ' subjective']\n",
            "['subjective', ' subjective', ' subjective', ' subjective', ' subjective', ' subjective', ' subjective', ' subjective', ' subjective', ' subjective']\n",
            "['subjective', ' subjective', ' subjective', ' subjective', ' subjective', ' subjective', ' subjective', ' subjective', ' subjective', ' subjective']\n",
            "['subjective', ' subjective', ' objective', ' subjective', ' subjective', ' subjective', ' subjective', ' subjective', ' subjective', ' subjective']\n",
            "['subjective', ' subjective', ' subjective', ' subjective', ' subjective', ' subjective', ' subjective', ' subjective', ' subjective', ' subjective']\n",
            "['subjective', ' subjective', ' subjective', ' subjective', ' subjective', ' subjective', ' subjective', ' subjective', ' subjective', ' subjective']\n",
            "['subjective', ' subjective', ' subjective', ' subjective', ' subjective', ' subjective', ' subjective', ' subjective', ' subjective', ' subjective']\n",
            "['subjective', ' subjective', ' subjective', ' subjective', ' subjective', ' subjective', ' subjective', ' subjective', ' subjective', ' subjective']\n",
            "['subjective', ' subjective', ' subjective', ' subjective', ' subjective', ' subjective', ' subjective', ' subjective', ' subjective', ' subjective']\n",
            "['subjective', ' subjective', ' subjective', ' subjective', ' subjective', ' subjective', ' subjective', ' subjective', ' subjective', ' subjective']\n",
            "['subjective', ' subjective', ' subjective', ' subjective', ' subjective', ' subjective', ' subjective', ' subjective', ' subjective', ' subjective']\n",
            "['subjective', ' subjective', ' subjective', ' objective', ' subjective', ' subjective', ' subjective', ' subjective', ' subjective', ' subjective']\n",
            "['Subjective', ' Objective', ' Subjective', ' Subjective', ' Subjective', ' Subjective', ' Objective', ' Subjective', ' Subjective', ' Subjective']\n",
            "['subjective', ' subjective', ' subjective', ' subjective', ' subjective', ' subjective', ' subjective', ' subjective', ' subjective', ' subjective']\n",
            "['subjective', ' subjective', ' subjective', ' objective', ' subjective', ' subjective', ' subjective', ' subjective', ' subjective', ' subjective']\n",
            "['subjective', ' subjective', ' subjective', ' subjective', ' subjective', ' subjective', ' subjective', ' subjective', ' subjective', ' subjective']\n",
            "['subjective', ' subjective', ' subjective', ' subjective', ' subjective', ' subjective', ' subjective', ' objective', ' subjective', ' subjective']\n",
            "['subjective', ' subjective', ' objective', ' subjective', ' subjective', ' subjective', ' subjective', ' subjective', ' subjective', ' subjective']\n",
            "['subjective', ' subjective', ' subjective', ' subjective', ' subjective', ' subjective', ' subjective', ' subjective', ' subjective', ' subjective']\n",
            "['subjective', ' subjective', ' subjective', ' subjective', ' subjective', ' subjective', ' subjective', ' subjective', ' subjective', ' subjective']\n",
            "['subjective', ' subjective', ' subjective', ' subjective', ' subjective', ' subjective', ' subjective', ' subjective', ' subjective', ' subjective']\n",
            "['subjective', ' subjective', ' subjective', ' objective', ' subjective', ' subjective', ' subjective', ' subjective', ' subjective', ' subjective']\n",
            "['subjective', ' subjective', ' subjective', ' subjective', ' subjective', ' subjective', ' subjective', ' subjective', ' subjective', ' subjective']\n",
            "['subjective', ' subjective', ' subjective', ' subjective', ' subjective', ' subjective', ' subjective', ' subjective', ' subjective', ' subjective']\n",
            "['subjective', ' subjective', ' subjective', ' subjective', ' subjective', ' subjective', ' subjective', ' subjective', ' subjective', ' subjective']\n",
            "['subjective', ' subjective', ' subjective', ' subjective', ' subjective', ' subjective', ' subjective', ' subjective', ' subjective', ' subjective']\n",
            "['subjective', ' subjective', ' subjective', ' subjective', ' subjective', ' subjective', ' subjective', ' subjective', ' subjective', ' subjective']\n",
            "['subjective', ' subjective', ' subjective', ' subjective', ' subjective', ' subjective', ' subjective', ' subjective', ' subjective', ' subjective']\n",
            "['subjective', ' subjective', ' subjective', ' subjective', ' subjective', ' subjective', ' subjective', ' subjective', ' subjective', ' subjective']\n",
            "['subjective', ' subjective', ' subjective', ' subjective', ' subjective', ' subjective', ' subjective', ' subjective', ' objective', ' subjective']\n",
            "['subjective', ' objective', ' subjective', ' subjective', ' subjective', ' subjective', ' subjective', ' subjective', ' subjective', ' subjective']\n",
            "['subjective', ' subjective', ' subjective', ' subjective', ' subjective', ' subjective', ' subjective', ' subjective', ' subjective', ' subjective']\n",
            "['Subjective', ' Subjective', ' Subjective', ' Subjective', ' Subjective', ' Subjective', ' Subjective', ' Objective', ' Subjective', ' Subjective']\n",
            "['subjective', ' subjective', ' subjective', ' subjective', ' subjective', ' subjective', ' subjective', ' subjective', ' subjective', ' objective']\n",
            "['subjective', ' subjective', ' subjective', ' subjective', ' subjective', ' subjective', ' subjective', ' subjective', ' subjective', ' subjective']\n",
            "['subjective', ' subjective', ' subjective', ' objective', ' subjective', ' subjective', ' subjective', ' subjective', ' objective', ' subjective']\n",
            "['subjective', ' subjective', ' subjective', ' subjective', ' subjective', ' subjective', ' subjective', ' subjective', ' subjective', ' subjective']\n",
            "['subjective', ' subjective', ' subjective', ' subjective', ' subjective', ' subjective', ' subjective', ' subjective', ' subjective', ' subjective']\n",
            "['subjective', ' subjective', ' subjective', ' subjective', ' subjective', ' subjective', ' subjective', ' subjective', ' subjective', ' subjective']\n",
            "['subjective', ' subjective', ' subjective', ' subjective', ' subjective', ' subjective', ' subjective', ' subjective', ' subjective', ' subjective']\n",
            "['subjective', ' subjective', ' subjective', ' subjective', ' objective', ' subjective', ' subjective', ' subjective', ' subjective', ' subjective']\n",
            "['subjective', ' subjective', ' subjective', ' subjective', ' subjective', ' subjective', ' subjective', ' objective', ' subjective', ' subjective']\n",
            "['subjective', ' subjective', ' subjective', ' subjective', ' subjective', ' subjective', ' subjective', ' subjective', ' subjective', ' subjective']\n",
            "['subjective', ' subjective', ' subjective', ' subjective', ' subjective', ' subjective', ' subjective', ' subjective', ' objective', ' subjective']\n",
            "['subjective', ' subjective', ' subjective', ' subjective', ' subjective', ' subjective', ' objective', ' subjective', ' objective', ' subjective']\n",
            "['subjective', ' subjective', ' subjective', ' subjective', ' subjective', ' subjective', ' subjective', ' subjective', ' subjective', ' subjective']\n",
            "['subjective', ' subjective', ' subjective', ' subjective', ' subjective', ' subjective', ' subjective', ' objective', ' subjective', ' subjective']\n",
            "['subjective', ' subjective', ' objective', ' subjective', ' subjective', ' subjective', ' subjective', ' subjective', ' subjective', ' subjective']\n",
            "['subjective', ' subjective', ' subjective', ' subjective', ' objective', ' subjective', ' subjective', ' subjective', ' subjective', ' subjective']\n",
            "['subjective', ' subjective', ' subjective', ' subjective', ' subjective', ' subjective', ' subjective', ' subjective', ' objective', ' subjective']\n",
            "['subjective', ' subjective', ' subjective', ' subjective', ' subjective', ' subjective', ' objective', ' subjective', ' subjective', ' subjective']\n",
            "['subjective', ' subjective', ' subjective', ' objective', ' subjective', ' subjective', ' subjective', ' subjective', ' subjective', ' subjective']\n",
            "['subjective', ' subjective', ' subjective', ' subjective', ' subjective', ' subjective', ' subjective', ' subjective', ' subjective', ' subjective']\n",
            "['subjective', ' subjective', ' subjective', ' objective', ' subjective', ' subjective', ' subjective', ' subjective', ' subjective', ' subjective']\n",
            "['subjective', ' subjective', ' objective', ' subjective', ' subjective', ' subjective', ' subjective', ' objective', ' subjective', ' subjective']\n",
            "['subjective', ' objective', ' subjective', ' subjective', ' subjective', ' subjective', ' subjective', ' subjective', ' subjective', ' subjective']\n",
            "['subjective', ' subjective', ' subjective', ' objective', ' subjective', ' subjective', ' subjective', ' subjective', ' subjective', ' objective']\n",
            "['subjective', ' subjective', ' objective', ' subjective', ' subjective', ' subjective', ' subjective', ' subjective', ' objective', ' objective']\n",
            "['subjective', ' subjective', ' subjective', ' subjective', ' subjective', ' subjective', ' subjective', ' subjective', ' subjective', ' subjective']\n",
            "['subjective', ' subjective', ' objective', ' subjective', ' subjective', ' subjective', ' subjective', ' subjective', ' subjective', ' subjective']\n",
            "['subjective', ' subjective', ' subjective', ' subjective', ' subjective', ' subjective', ' subjective', ' subjective', ' subjective', ' subjective']\n",
            "['subjective', ' subjective', ' subjective', ' objective', ' subjective', ' subjective', ' subjective', ' subjective', ' subjective', ' subjective']\n",
            "['subjective', ' objective', ' subjective', ' subjective', ' subjective', ' subjective', ' subjective', ' subjective', ' subjective', ' subjective']\n",
            "['subjective', ' subjective', ' subjective', ' subjective', ' subjective', ' subjective', ' subjective', ' subjective', ' subjective', ' subjective']\n",
            "['subjective', ' objective', ' subjective', ' subjective', ' subjective', ' subjective', ' subjective', ' subjective', ' subjective', ' subjective']\n",
            "['subjective', ' subjective', ' subjective', ' subjective', ' subjective', ' subjective', ' subjective', ' objective', ' subjective', ' subjective']\n",
            "['subjective', ' subjective', ' subjective', ' subjective', ' subjective', ' subjective', ' subjective', ' subjective', ' subjective', ' subjective']\n",
            "['subjective', ' subjective', ' subjective', ' subjective', ' subjective', ' subjective', ' subjective', ' subjective', ' subjective', ' subjective']\n",
            "['subjective', ' subjective', ' subjective', ' subjective', ' subjective', ' subjective', ' subjective', ' subjective', ' objective', ' objective']\n",
            "['subjective', ' subjective', ' objective', ' subjective', ' subjective', ' subjective', ' subjective', ' subjective', ' subjective', ' subjective']\n",
            "['subjective', ' objective', ' subjective', ' subjective', ' subjective', ' subjective', ' subjective', ' subjective', ' subjective', ' subjective']\n",
            "['subjective', ' subjective', ' subjective', ' subjective', ' subjective', ' subjective', ' subjective', ' subjective', ' objective', ' subjective']\n",
            "['subjective', ' subjective', ' subjective', ' subjective', ' objective', ' subjective', ' subjective', ' subjective', ' subjective', ' subjective']\n",
            "['subjective', ' subjective', ' subjective', ' subjective', ' subjective', ' subjective', ' subjective', ' subjective', ' subjective', ' subjective']\n",
            "['subjective', ' subjective', ' subjective', ' subjective', ' subjective', ' subjective', ' subjective', ' subjective', ' subjective', ' subjective']\n",
            "['subjective', ' subjective', ' subjective', ' subjective', ' subjective', ' subjective', ' subjective', ' subjective', ' subjective', ' subjective']\n",
            "['subjective', ' subjective', ' subjective', ' subjective', ' subjective', ' subjective', ' subjective', ' subjective', ' subjective', ' subjective']\n",
            "['subjective', ' subjective', ' subjective', ' subjective', ' subjective', ' subjective', ' subjective', ' subjective', ' subjective', ' subjective']\n",
            "['subjective', ' subjective', ' subjective', ' subjective', ' subjective', ' subjective', ' subjective', ' subjective', ' subjective', ' subjective']\n",
            "['subjective', ' subjective', ' subjective', ' subjective', ' subjective', ' subjective', ' subjective', ' subjective', ' subjective', ' subjective']\n",
            "['subjective', ' subjective', ' objective', ' subjective', ' subjective', ' subjective', ' subjective', ' subjective', ' subjective', ' subjective']\n",
            "['subjective', ' subjective', ' subjective', ' subjective', ' subjective', ' subjective', ' subjective', ' subjective', ' subjective', ' subjective']\n",
            "['subjective', ' subjective', ' subjective', ' subjective', ' subjective', ' subjective', ' subjective', ' subjective', ' subjective', ' subjective']\n",
            "['subjective', ' subjective', ' subjective', ' subjective', ' subjective', ' subjective', ' subjective', ' subjective', ' subjective', ' subjective']\n",
            "['subjective', ' subjective', ' subjective', ' subjective', ' subjective', ' subjective', ' subjective', ' subjective', ' subjective', ' subjective']\n",
            "['subjective', ' subjective', ' objective', ' subjective', ' subjective', ' subjective', ' subjective', ' subjective', ' subjective', ' subjective']\n",
            "['subjective', ' subjective', ' objective', ' objective', ' subjective', ' subjective', ' subjective', ' subjective', ' objective', ' subjective']\n",
            "['subjective', ' subjective', ' subjective', ' subjective', ' subjective', ' subjective', ' subjective', ' subjective', ' subjective', ' subjective']\n",
            "['subjective', ' subjective', ' subjective', ' subjective', ' subjective', ' subjective', ' subjective', ' subjective', ' subjective', ' subjective']\n",
            "['subjective', ' subjective', ' subjective', ' subjective', ' subjective', ' subjective', ' subjective', ' subjective', ' subjective', ' subjective']\n",
            "['subjective', ' subjective', ' subjective', ' subjective', ' objective', ' subjective', ' subjective', ' subjective', ' subjective', ' subjective']\n",
            "['subjective', ' subjective', ' subjective', ' subjective', ' subjective', ' objective', ' subjective', ' subjective', ' subjective', ' subjective']\n",
            "['subjective', ' subjective', ' subjective', ' subjective', ' subjective', ' subjective', ' subjective', ' subjective', ' subjective', ' subjective']\n",
            "['subjective', ' subjective', ' subjective', ' subjective', ' subjective', ' subjective', ' subjective', ' subjective', ' subjective', ' subjective']\n",
            "['subjective', ' subjective', ' subjective', ' objective', ' subjective', ' subjective', ' subjective', ' objective', ' subjective', ' subjective']\n",
            "['subjective', ' subjective', ' subjective', ' subjective', ' subjective', ' subjective', ' subjective', ' subjective', ' subjective', ' objective']\n",
            "['subjective', ' subjective', ' subjective', ' subjective', ' subjective', ' subjective', ' subjective', ' subjective', ' subjective', ' subjective']\n",
            "['subjective', ' subjective', ' subjective', ' subjective', ' subjective', ' subjective', ' subjective', ' subjective', ' subjective', ' subjective']\n",
            "['subjective', ' subjective', ' subjective', ' subjective', ' subjective', ' subjective', ' subjective', ' subjective', ' subjective', ' subjective']\n",
            "['subjective', ' subjective', ' objective', ' subjective', ' subjective', ' subjective', ' subjective', ' subjective', ' subjective', ' subjective']\n",
            "['subjective', ' subjective', ' objective', ' objective', ' subjective', ' objective', ' objective', ' objective', ' objective', ' subjective']\n",
            "['subjective', ' objective', ' subjective', ' subjective', ' subjective', ' objective', ' objective', ' subjective', ' subjective', ' objective']\n",
            "['subjective', ' objective', ' subjective', ' subjective', ' objective', ' objective', ' subjective', ' subjective', ' subjective', ' objective']\n",
            "['subjective', ' objective', ' subjective', ' subjective', ' objective', ' objective', ' subjective', ' subjective', ' subjective', ' objective']\n",
            "['subjective', ' objective', ' subjective', ' objective', ' objective', ' objective', ' subjective', ' objective', ' subjective', ' subjective']\n",
            "['objective', ' objective', ' objective', ' subjective', ' objective', ' objective', ' subjective', ' subjective', ' subjective', ' subjective']\n",
            "['subjective', ' objective', ' subjective', ' objective', ' subjective', ' subjective', ' subjective', ' objective', ' objective', ' subjective']\n",
            "['subjective', ' subjective', ' objective', ' objective', ' objective', ' objective', ' subjective', ' subjective', ' subjective', ' subjective']\n",
            "['objective', ' subjective', ' subjective', ' subjective', ' subjective', ' subjective', ' subjective', ' subjective', ' subjective', ' subjective']\n",
            "['subjective', ' objective', ' objective', ' subjective', ' subjective', ' objective', ' subjective', ' subjective', ' objective', ' subjective']\n",
            "['subjective', ' subjective', ' objective', ' objective', ' subjective', ' subjective', ' subjective', ' objective', ' subjective', ' subjective']\n",
            "['objective', ' objective', ' objective', ' objective', ' subjective', ' subjective', ' objective', ' subjective', ' objective', ' subjective']\n",
            "['subjective', ' subjective', ' objective', ' objective', ' objective', ' subjective', ' subjective', ' subjective', ' objective', ' subjective']\n",
            "['subjective', ' objective', ' subjective', ' subjective', ' objective', ' subjective', ' subjective', ' objective', ' subjective', ' subjective']\n",
            "['objective', ' objective', ' subjective', ' subjective', ' subjective', ' objective', ' objective', ' subjective', ' subjective', ' objective']\n",
            "['objective', ' subjective', ' objective', ' subjective', ' objective', ' objective', ' subjective', ' objective', ' subjective', ' subjective']\n",
            "['objective', ' objective', ' subjective', ' objective', ' objective', ' subjective', ' objective', ' objective', ' objective', ' objective']\n",
            "['objective', ' subjective', ' objective', ' subjective', ' objective', ' objective', ' objective', ' objective', ' objective', ' subjective']\n",
            "['Objective', ' Objective', ' Subjective', ' Subjective', ' Objective', ' Objective', ' Subjective', ' Objective', ' Objective', ' Objective']\n",
            "['subjective', ' objective', ' objective', ' subjective', ' objective', ' subjective', ' subjective', ' objective', ' objective', ' objective']\n",
            "['objective', ' subjective', ' objective', ' objective', ' objective', ' objective', ' subjective', ' objective', ' subjective', ' subjective']\n",
            "['subjective', ' objective', ' objective', ' subjective', ' subjective', ' objective', ' objective', ' objective', ' objective', ' subjective']\n",
            "['Objective', ' Objective', ' Subjective', ' Objective', ' Objective', ' Subjective', ' Subjective', ' Subjective', ' Objective', ' Objective.']\n",
            "['Objective', ' Objective', ' Objective', ' Objective', ' Objective', ' Objective', ' Objective', ' Subjective', ' Subjective', ' Subjective']\n",
            "['objective', ' subjective', ' objective', ' objective', ' objective', ' objective', ' subjective', ' subjective', ' subjective', ' objective']\n",
            "['objective', ' objective', ' objective', ' objective', ' subjective', ' objective', ' subjective', ' objective', ' subjective', ' objective']\n",
            "['subjective', ' subjective', ' objective', ' objective', ' objective', ' subjective', ' objective', ' subjective', ' objective', ' subjective']\n",
            "['subjective', ' subjective', ' objective', ' subjective', ' subjective', ' objective', ' subjective', ' objective', ' objective', ' objective']\n",
            "['subjective', ' subjective', ' objective', ' objective', ' subjective', ' objective', ' subjective', ' subjective', ' subjective', ' subjective']\n",
            "['Objective', ' Subjective', ' Objective', ' Subjective', ' Objective', ' Objective', ' Objective', ' Subjective', ' Objective', ' Objective']\n",
            "['subjective', ' subjective', ' objective', ' subjective', ' objective', ' subjective', ' subjective', ' subjective', ' objective', ' subjective']\n",
            "['objective', ' objective', ' objective', ' subjective', ' subjective', ' subjective', ' objective', ' objective', ' objective', ' subjective']\n",
            "['objective', ' subjective', ' subjective', ' subjective', ' objective', ' subjective', ' subjective', ' objective', ' subjective', ' objective']\n",
            "['subjective', ' subjective', ' subjective', ' subjective', ' subjective', ' subjective', ' subjective', ' subjective', ' subjective', ' subjective']\n",
            "['objective', ' objective', ' objective', ' subjective', ' objective', ' objective', ' subjective', ' subjective', ' subjective', ' subjective']\n",
            "['subjective', ' objective', ' subjective', ' subjective', ' subjective', ' subjective', ' subjective', ' objective', ' subjective', ' objective']\n",
            "['subjective', ' subjective', ' objective', ' subjective', ' subjective', ' subjective', ' subjective', ' objective', ' subjective', ' subjective']\n",
            "['objective', ' subjective', ' objective', ' subjective', ' objective', ' objective', ' objective', ' objective', ' subjective', ' subjective']\n",
            "['subjective', ' objective', ' subjective', ' objective', ' subjective', ' subjective', ' objective', ' subjective', ' subjective', ' subjective']\n",
            "['objective', ' objective', ' subjective', ' objective', ' subjective', ' subjective', ' objective', ' subjective', ' objective', ' objective']\n",
            "['objective', ' subjective', ' objective', ' objective', ' subjective', ' objective', ' subjective', ' subjective', ' subjective', ' subjective']\n",
            "['objective', ' objective', ' subjective', ' subjective', ' objective', ' subjective', ' objective', ' subjective', ' objective', ' objective']\n",
            "['objective', ' objective', ' objective', ' objective', ' objective', ' objective', ' objective', ' subjective', ' objective', ' subjective']\n",
            "['subjective', ' subjective', ' objective', ' subjective', ' objective', ' objective', ' subjective', ' subjective', ' subjective', ' subjective']\n",
            "['Subjective', ' Subjective', ' Subjective', ' Objective', ' Objective', ' Objective', ' Objective', ' Objective', ' Objective', ' Objective']\n",
            "['objective', ' objective', ' objective', ' subjective', ' subjective', ' objective', ' subjective', ' objective', ' subjective', ' objective']\n",
            "['subjective', ' objective', ' subjective', ' subjective', ' objective', ' objective', ' subjective', ' subjective', ' objective', ' subjective']\n",
            "['subjective', ' subjective', ' objective', ' subjective', ' objective', ' subjective', ' objective', ' objective', ' objective', ' subjective']\n",
            "['Subjective', ' Subjective', ' Objective', ' Subjective', ' Subjective', ' Subjective', ' Objective', ' Subjective', ' Subjective', ' Objective']\n",
            "['subjective', ' subjective', ' subjective', ' subjective', ' objective', ' objective', ' subjective', ' objective', ' subjective', ' subjective']\n",
            "['subjective', ' objective', ' subjective', ' subjective', ' objective', ' objective', ' subjective', ' subjective', ' subjective', ' objective']\n",
            "['subjective', ' objective', ' objective', ' subjective', ' subjective', ' subjective', ' objective', ' objective', ' objective', ' subjective']\n",
            "['subjective', ' objective', ' objective', ' subjective', ' objective', ' subjective', ' subjective', ' subjective', ' objective', ' subjective']\n",
            "['subjective', ' objective', ' subjective', ' objective', ' objective', ' subjective', ' subjective', ' objective', ' subjective', ' subjective']\n",
            "['subjective', ' subjective', ' subjective', ' subjective', ' subjective', ' objective', ' subjective', ' subjective', ' objective', ' subjective']\n",
            "['objective', ' subjective', ' subjective', ' subjective', ' subjective', ' subjective', ' objective', ' subjective', ' objective', ' subjective']\n",
            "['objective', ' subjective', ' subjective', ' objective', ' objective', ' objective', ' objective', ' subjective', ' subjective', ' objective']\n",
            "['subjective', ' objective', ' objective', ' subjective', ' subjective', ' objective', ' subjective', ' subjective', ' subjective', ' objective']\n",
            "['subjective', ' objective', ' objective', ' subjective', ' objective', ' objective', ' subjective', ' objective', ' objective', ' subjective']\n",
            "['subjective', ' subjective', ' objective', ' subjective', ' subjective', ' subjective', ' subjective', ' subjective', ' subjective', ' subjective']\n",
            "['subjective', ' subjective', ' subjective', ' subjective', ' objective', ' objective', ' subjective', ' subjective', ' objective', ' subjective']\n",
            "['objective', ' objective', ' objective', ' objective', ' objective', ' subjective', ' objective', ' objective', ' objective', ' objective']\n",
            "['objective', ' objective', ' objective', ' subjective', ' subjective', ' objective', ' objective', ' objective', ' objective', ' objective']\n",
            "['objective', ' objective', ' objective', ' subjective', ' subjective', ' objective', ' objective', ' objective', ' objective', ' objective']\n",
            "['subjective', ' subjective', ' subjective', ' objective', ' subjective', ' subjective', ' subjective', ' subjective', ' objective', ' subjective']\n",
            "['subjective', ' subjective', ' subjective', ' objective', ' objective', ' subjective', ' subjective', ' subjective', ' subjective', ' subjective']\n",
            "['objective', ' subjective', ' objective', ' objective', ' objective', ' objective', ' objective', ' objective', ' subjective', ' subjective']\n",
            "['objective', ' objective', ' objective', ' objective', ' objective', ' subjective', ' objective', ' objective', ' subjective', ' subjective']\n",
            "['objective', ' subjective', ' objective', ' subjective', ' objective', ' subjective', ' objective', ' subjective', ' subjective', ' objective']\n",
            "['objective', ' objective', ' objective', ' objective', ' objective', ' subjective', ' subjective', ' objective', ' subjective', ' objective']\n",
            "['objective', ' objective', ' objective', ' subjective', ' objective', ' subjective', ' subjective', ' objective', ' subjective', ' subjective']\n",
            "['subjective', ' subjective', ' subjective', ' objective', ' subjective', ' objective', ' subjective', ' objective', ' subjective', ' subjective']\n",
            "['subjective', ' subjective', ' subjective', ' objective', ' subjective', ' subjective', ' subjective', ' subjective', ' objective', ' subjective']\n",
            "['objective', ' objective', ' subjective', ' subjective', ' objective', ' subjective', ' objective', ' subjective', ' objective', ' objective']\n",
            "['objective', ' objective', ' subjective', ' objective', ' subjective', ' objective', ' subjective', ' subjective', ' subjective', ' subjective']\n",
            "['subjective', ' objective', ' subjective', ' objective', ' objective', ' objective', ' objective', ' subjective', ' subjective', ' subjective']\n",
            "['objective', ' subjective', ' objective', ' subjective', ' subjective', ' objective', ' subjective', ' subjective', ' subjective', ' subjective']\n",
            "['subjective', ' objective', ' objective', ' objective', ' objective', ' objective', ' subjective', ' objective', ' subjective', ' subjective']\n",
            "['objective', ' subjective', ' subjective', ' objective', ' objective', ' objective', ' objective', ' subjective', ' subjective', ' subjective']\n",
            "['subjective', ' objective', ' objective', ' objective', ' objective', ' subjective', ' objective', ' subjective', ' subjective', ' objective']\n",
            "['objective', ' objective', ' objective', ' subjective', ' subjective', ' subjective', ' subjective', ' subjective', ' subjective', ' objective']\n",
            "['objective', ' objective', ' objective', ' objective', ' objective', ' subjective', ' objective', ' subjective', ' subjective', ' subjective']\n",
            "['subjective', ' objective', ' objective', ' subjective', ' objective', ' subjective', ' subjective', ' subjective', ' objective', ' subjective']\n",
            "['Objective', ' Objective', ' Objective', ' Objective', ' Objective', ' Objective', ' Objective', ' Objective', ' Subjective', ' Objective']\n",
            "['subjective', ' subjective', ' objective', ' subjective', ' objective', ' subjective', ' subjective', ' objective', ' subjective', ' subjective']\n",
            "['subjective', ' subjective', ' objective', ' objective', ' objective', ' objective', ' subjective', ' subjective', ' objective', ' objective']\n",
            "['subjective', ' objective', ' subjective', ' objective', ' objective', ' subjective', ' subjective', ' subjective', ' objective', ' subjective']\n",
            "['Objective', ' Objective', ' Objective', ' Objective', ' Subjective', ' Objective', ' Objective', ' Objective', ' Objective', ' Subjective']\n",
            "['subjective', ' subjective', ' objective', ' subjective', ' subjective', ' subjective', ' objective', ' subjective', ' objective', ' subjective']\n",
            "['subjective', ' objective', ' objective', ' subjective', ' objective', ' subjective', ' subjective', ' subjective', ' objective', ' objective']\n",
            "['objective', ' subjective', ' objective', ' objective', ' subjective', ' objective', ' subjective', ' subjective', ' subjective', ' objective']\n",
            "['subjective', ' subjective', ' subjective', ' subjective', ' subjective', ' subjective', ' subjective', ' subjective', ' subjective', ' subjective']\n",
            "['objective', ' subjective', ' subjective', ' objective', ' subjective', ' subjective', ' subjective', ' objective', ' subjective', ' subjective']\n",
            "['objective', ' subjective', ' objective', ' subjective', ' objective', ' subjective', ' objective', ' subjective', ' subjective', ' objective']\n",
            "['subjective', ' subjective', ' objective', ' subjective', ' subjective', ' subjective', ' objective', ' objective', ' subjective', ' subjective']\n",
            "['objective', ' subjective', ' objective', ' subjective', ' subjective', ' subjective', ' subjective', ' objective', ' objective', ' objective']\n",
            "['objective', ' subjective', ' objective', ' objective', ' objective', ' objective', ' objective', ' subjective', ' objective', ' subjective']\n",
            "['subjective', ' objective', ' objective', ' objective', ' objective', ' objective', ' objective', ' subjective', ' subjective', ' objective']\n",
            "['subjective', ' objective', ' subjective', ' subjective', ' subjective', ' subjective', ' objective', ' subjective', ' subjective', ' objective.']\n",
            "['subjective', ' objective', ' objective', ' subjective', ' objective', ' subjective', ' objective', ' objective', ' subjective', ' subjective']\n"
          ]
        }
      ]
    },
    {
      "cell_type": "code",
      "source": [
        "print(result)\n",
        "print(len(result))"
      ],
      "metadata": {
        "colab": {
          "base_uri": "https://localhost:8080/"
        },
        "id": "yB8nuhBaLIHI",
        "outputId": "7f3e544e-2575-441c-9b35-d484c63035c1"
      },
      "execution_count": null,
      "outputs": [
        {
          "output_type": "stream",
          "name": "stdout",
          "text": [
            "['subjective', ' subjective', ' subjective', ' subjective', ' subjective', ' subjective', ' subjective', ' subjective', ' subjective', ' subjective', 'subjective', ' subjective', ' subjective', ' subjective', ' subjective', ' subjective', ' subjective', ' subjective', ' subjective', ' subjective', 'subjective', ' subjective', ' subjective', ' subjective', ' subjective', ' subjective', ' subjective', ' subjective', ' subjective', ' subjective', 'subjective', ' subjective', ' objective', ' subjective', ' subjective', ' subjective', ' subjective', ' subjective', ' subjective', ' subjective', 'subjective', ' subjective', ' subjective', ' subjective', ' subjective', ' subjective', ' subjective', ' subjective', ' subjective', ' subjective', 'subjective', ' subjective', ' subjective', ' subjective', ' subjective', ' subjective', ' subjective', ' subjective', ' subjective', ' subjective', 'subjective', ' subjective', ' subjective', ' subjective', ' subjective', ' subjective', ' subjective', ' subjective', ' subjective', ' subjective', 'subjective', ' subjective', ' subjective', ' subjective', ' subjective', ' subjective', ' subjective', ' subjective', ' subjective', ' subjective', 'subjective', ' subjective', ' subjective', ' subjective', ' subjective', ' subjective', ' subjective', ' subjective', ' subjective', ' subjective', 'subjective', ' subjective', ' subjective', ' subjective', ' subjective', ' subjective', ' subjective', ' subjective', ' subjective', ' subjective', 'subjective', ' subjective', ' subjective', ' subjective', ' subjective', ' subjective', ' subjective', ' subjective', ' subjective', ' subjective', 'subjective', ' subjective', ' subjective', ' objective', ' subjective', ' subjective', ' subjective', ' subjective', ' subjective', ' subjective', 'Subjective', ' Objective', ' Subjective', ' Subjective', ' Subjective', ' Subjective', ' Objective', ' Subjective', ' Subjective', ' Subjective', 'subjective', ' subjective', ' subjective', ' subjective', ' subjective', ' subjective', ' subjective', ' subjective', ' subjective', ' subjective', 'subjective', ' subjective', ' subjective', ' objective', ' subjective', ' subjective', ' subjective', ' subjective', ' subjective', ' subjective', 'subjective', ' subjective', ' subjective', ' subjective', ' subjective', ' subjective', ' subjective', ' subjective', ' subjective', ' subjective', 'subjective', ' subjective', ' subjective', ' subjective', ' subjective', ' subjective', ' subjective', ' objective', ' subjective', ' subjective', 'subjective', ' subjective', ' objective', ' subjective', ' subjective', ' subjective', ' subjective', ' subjective', ' subjective', ' subjective', 'subjective', ' subjective', ' subjective', ' subjective', ' subjective', ' subjective', ' subjective', ' subjective', ' subjective', ' subjective', 'subjective', ' subjective', ' subjective', ' subjective', ' subjective', ' subjective', ' subjective', ' subjective', ' subjective', ' subjective', 'subjective', ' subjective', ' subjective', ' subjective', ' subjective', ' subjective', ' subjective', ' subjective', ' subjective', ' subjective', 'subjective', ' subjective', ' subjective', ' objective', ' subjective', ' subjective', ' subjective', ' subjective', ' subjective', ' subjective', 'subjective', ' subjective', ' subjective', ' subjective', ' subjective', ' subjective', ' subjective', ' subjective', ' subjective', ' subjective', 'subjective', ' subjective', ' subjective', ' subjective', ' subjective', ' subjective', ' subjective', ' subjective', ' subjective', ' subjective', 'subjective', ' subjective', ' subjective', ' subjective', ' subjective', ' subjective', ' subjective', ' subjective', ' subjective', ' subjective', 'subjective', ' subjective', ' subjective', ' subjective', ' subjective', ' subjective', ' subjective', ' subjective', ' subjective', ' subjective', 'subjective', ' subjective', ' subjective', ' subjective', ' subjective', ' subjective', ' subjective', ' subjective', ' subjective', ' subjective', 'subjective', ' subjective', ' subjective', ' subjective', ' subjective', ' subjective', ' subjective', ' subjective', ' subjective', ' subjective', 'subjective', ' subjective', ' subjective', ' subjective', ' subjective', ' subjective', ' subjective', ' subjective', ' subjective', ' subjective', 'subjective', ' subjective', ' subjective', ' subjective', ' subjective', ' subjective', ' subjective', ' subjective', ' objective', ' subjective', 'subjective', ' objective', ' subjective', ' subjective', ' subjective', ' subjective', ' subjective', ' subjective', ' subjective', ' subjective', 'subjective', ' subjective', ' subjective', ' subjective', ' subjective', ' subjective', ' subjective', ' subjective', ' subjective', ' subjective', 'Subjective', ' Subjective', ' Subjective', ' Subjective', ' Subjective', ' Subjective', ' Subjective', ' Objective', ' Subjective', ' Subjective', 'subjective', ' subjective', ' subjective', ' subjective', ' subjective', ' subjective', ' subjective', ' subjective', ' subjective', ' objective', 'subjective', ' subjective', ' subjective', ' subjective', ' subjective', ' subjective', ' subjective', ' subjective', ' subjective', ' subjective', 'subjective', ' subjective', ' subjective', ' objective', ' subjective', ' subjective', ' subjective', ' subjective', ' objective', ' subjective', 'subjective', ' subjective', ' subjective', ' subjective', ' subjective', ' subjective', ' subjective', ' subjective', ' subjective', ' subjective', 'subjective', ' subjective', ' subjective', ' subjective', ' subjective', ' subjective', ' subjective', ' subjective', ' subjective', ' subjective', 'subjective', ' subjective', ' subjective', ' subjective', ' subjective', ' subjective', ' subjective', ' subjective', ' subjective', ' subjective', 'subjective', ' subjective', ' subjective', ' subjective', ' subjective', ' subjective', ' subjective', ' subjective', ' subjective', ' subjective', 'subjective', ' subjective', ' subjective', ' subjective', ' objective', ' subjective', ' subjective', ' subjective', ' subjective', ' subjective', 'subjective', ' subjective', ' subjective', ' subjective', ' subjective', ' subjective', ' subjective', ' objective', ' subjective', ' subjective', 'subjective', ' subjective', ' subjective', ' subjective', ' subjective', ' subjective', ' subjective', ' subjective', ' subjective', ' subjective', 'subjective', ' subjective', ' subjective', ' subjective', ' subjective', ' subjective', ' subjective', ' subjective', ' objective', ' subjective', 'subjective', ' subjective', ' subjective', ' subjective', ' subjective', ' subjective', ' objective', ' subjective', ' objective', ' subjective', 'subjective', ' subjective', ' subjective', ' subjective', ' subjective', ' subjective', ' subjective', ' subjective', ' subjective', ' subjective', 'subjective', ' subjective', ' subjective', ' subjective', ' subjective', ' subjective', ' subjective', ' objective', ' subjective', ' subjective', 'subjective', ' subjective', ' objective', ' subjective', ' subjective', ' subjective', ' subjective', ' subjective', ' subjective', ' subjective', 'subjective', ' subjective', ' subjective', ' subjective', ' objective', ' subjective', ' subjective', ' subjective', ' subjective', ' subjective', 'subjective', ' subjective', ' subjective', ' subjective', ' subjective', ' subjective', ' subjective', ' subjective', ' objective', ' subjective', 'subjective', ' subjective', ' subjective', ' subjective', ' subjective', ' subjective', ' objective', ' subjective', ' subjective', ' subjective', 'subjective', ' subjective', ' subjective', ' objective', ' subjective', ' subjective', ' subjective', ' subjective', ' subjective', ' subjective', 'subjective', ' subjective', ' subjective', ' subjective', ' subjective', ' subjective', ' subjective', ' subjective', ' subjective', ' subjective', 'subjective', ' subjective', ' subjective', ' objective', ' subjective', ' subjective', ' subjective', ' subjective', ' subjective', ' subjective', 'subjective', ' subjective', ' objective', ' subjective', ' subjective', ' subjective', ' subjective', ' objective', ' subjective', ' subjective', 'subjective', ' objective', ' subjective', ' subjective', ' subjective', ' subjective', ' subjective', ' subjective', ' subjective', ' subjective', 'subjective', ' subjective', ' subjective', ' objective', ' subjective', ' subjective', ' subjective', ' subjective', ' subjective', ' objective', 'subjective', ' subjective', ' objective', ' subjective', ' subjective', ' subjective', ' subjective', ' subjective', ' objective', ' objective', 'subjective', ' subjective', ' subjective', ' subjective', ' subjective', ' subjective', ' subjective', ' subjective', ' subjective', ' subjective', 'subjective', ' subjective', ' objective', ' subjective', ' subjective', ' subjective', ' subjective', ' subjective', ' subjective', ' subjective', 'subjective', ' subjective', ' subjective', ' subjective', ' subjective', ' subjective', ' subjective', ' subjective', ' subjective', ' subjective', 'subjective', ' subjective', ' subjective', ' objective', ' subjective', ' subjective', ' subjective', ' subjective', ' subjective', ' subjective', 'subjective', ' objective', ' subjective', ' subjective', ' subjective', ' subjective', ' subjective', ' subjective', ' subjective', ' subjective', 'subjective', ' subjective', ' subjective', ' subjective', ' subjective', ' subjective', ' subjective', ' subjective', ' subjective', ' subjective', 'subjective', ' objective', ' subjective', ' subjective', ' subjective', ' subjective', ' subjective', ' subjective', ' subjective', ' subjective', 'subjective', ' subjective', ' subjective', ' subjective', ' subjective', ' subjective', ' subjective', ' objective', ' subjective', ' subjective', 'subjective', ' subjective', ' subjective', ' subjective', ' subjective', ' subjective', ' subjective', ' subjective', ' subjective', ' subjective', 'subjective', ' subjective', ' subjective', ' subjective', ' subjective', ' subjective', ' subjective', ' subjective', ' subjective', ' subjective', 'subjective', ' subjective', ' subjective', ' subjective', ' subjective', ' subjective', ' subjective', ' subjective', ' objective', ' objective', 'subjective', ' subjective', ' objective', ' subjective', ' subjective', ' subjective', ' subjective', ' subjective', ' subjective', ' subjective', 'subjective', ' objective', ' subjective', ' subjective', ' subjective', ' subjective', ' subjective', ' subjective', ' subjective', ' subjective', 'subjective', ' subjective', ' subjective', ' subjective', ' subjective', ' subjective', ' subjective', ' subjective', ' objective', ' subjective', 'subjective', ' subjective', ' subjective', ' subjective', ' objective', ' subjective', ' subjective', ' subjective', ' subjective', ' subjective', 'subjective', ' subjective', ' subjective', ' subjective', ' subjective', ' subjective', ' subjective', ' subjective', ' subjective', ' subjective', 'subjective', ' subjective', ' subjective', ' subjective', ' subjective', ' subjective', ' subjective', ' subjective', ' subjective', ' subjective', 'subjective', ' subjective', ' subjective', ' subjective', ' subjective', ' subjective', ' subjective', ' subjective', ' subjective', ' subjective', 'subjective', ' subjective', ' subjective', ' subjective', ' subjective', ' subjective', ' subjective', ' subjective', ' subjective', ' subjective', 'subjective', ' subjective', ' subjective', ' subjective', ' subjective', ' subjective', ' subjective', ' subjective', ' subjective', ' subjective', 'subjective', ' subjective', ' subjective', ' subjective', ' subjective', ' subjective', ' subjective', ' subjective', ' subjective', ' subjective', 'subjective', ' subjective', ' subjective', ' subjective', ' subjective', ' subjective', ' subjective', ' subjective', ' subjective', ' subjective', 'subjective', ' subjective', ' objective', ' subjective', ' subjective', ' subjective', ' subjective', ' subjective', ' subjective', ' subjective', 'subjective', ' subjective', ' subjective', ' subjective', ' subjective', ' subjective', ' subjective', ' subjective', ' subjective', ' subjective', 'subjective', ' subjective', ' subjective', ' subjective', ' subjective', ' subjective', ' subjective', ' subjective', ' subjective', ' subjective', 'subjective', ' subjective', ' subjective', ' subjective', ' subjective', ' subjective', ' subjective', ' subjective', ' subjective', ' subjective', 'subjective', ' subjective', ' subjective', ' subjective', ' subjective', ' subjective', ' subjective', ' subjective', ' subjective', ' subjective', 'subjective', ' subjective', ' objective', ' subjective', ' subjective', ' subjective', ' subjective', ' subjective', ' subjective', ' subjective', 'subjective', ' subjective', ' objective', ' objective', ' subjective', ' subjective', ' subjective', ' subjective', ' objective', ' subjective', 'subjective', ' subjective', ' subjective', ' subjective', ' subjective', ' subjective', ' subjective', ' subjective', ' subjective', ' subjective', 'subjective', ' subjective', ' subjective', ' subjective', ' subjective', ' subjective', ' subjective', ' subjective', ' subjective', ' subjective', 'subjective', ' subjective', ' subjective', ' subjective', ' subjective', ' subjective', ' subjective', ' subjective', ' subjective', ' subjective', 'subjective', ' subjective', ' subjective', ' subjective', ' objective', ' subjective', ' subjective', ' subjective', ' subjective', ' subjective', 'subjective', ' subjective', ' subjective', ' subjective', ' subjective', ' objective', ' subjective', ' subjective', ' subjective', ' subjective', 'subjective', ' subjective', ' subjective', ' subjective', ' subjective', ' subjective', ' subjective', ' subjective', ' subjective', ' subjective', 'subjective', ' subjective', ' subjective', ' subjective', ' subjective', ' subjective', ' subjective', ' subjective', ' subjective', ' subjective', 'subjective', ' subjective', ' subjective', ' objective', ' subjective', ' subjective', ' subjective', ' objective', ' subjective', ' subjective', 'subjective', ' subjective', ' subjective', ' subjective', ' subjective', ' subjective', ' subjective', ' subjective', ' subjective', ' objective', 'subjective', ' subjective', ' subjective', ' subjective', ' subjective', ' subjective', ' subjective', ' subjective', ' subjective', ' subjective', 'subjective', ' subjective', ' subjective', ' subjective', ' subjective', ' subjective', ' subjective', ' subjective', ' subjective', ' subjective', 'subjective', ' subjective', ' subjective', ' subjective', ' subjective', ' subjective', ' subjective', ' subjective', ' subjective', ' subjective', 'subjective', ' subjective', ' objective', ' subjective', ' subjective', ' subjective', ' subjective', ' subjective', ' subjective', ' subjective', 'subjective', ' subjective', ' objective', ' objective', ' subjective', ' objective', ' objective', ' objective', ' objective', ' subjective', 'subjective', ' objective', ' subjective', ' subjective', ' subjective', ' objective', ' objective', ' subjective', ' subjective', ' objective', 'subjective', ' objective', ' subjective', ' subjective', ' objective', ' objective', ' subjective', ' subjective', ' subjective', ' objective', 'subjective', ' objective', ' subjective', ' subjective', ' objective', ' objective', ' subjective', ' subjective', ' subjective', ' objective', 'subjective', ' objective', ' subjective', ' objective', ' objective', ' objective', ' subjective', ' objective', ' subjective', ' subjective', 'objective', ' objective', ' objective', ' subjective', ' objective', ' objective', ' subjective', ' subjective', ' subjective', ' subjective', 'subjective', ' objective', ' subjective', ' objective', ' subjective', ' subjective', ' subjective', ' objective', ' objective', ' subjective', 'subjective', ' subjective', ' objective', ' objective', ' objective', ' objective', ' subjective', ' subjective', ' subjective', ' subjective', 'objective', ' subjective', ' subjective', ' subjective', ' subjective', ' subjective', ' subjective', ' subjective', ' subjective', ' subjective', 'subjective', ' objective', ' objective', ' subjective', ' subjective', ' objective', ' subjective', ' subjective', ' objective', ' subjective', 'subjective', ' subjective', ' objective', ' objective', ' subjective', ' subjective', ' subjective', ' objective', ' subjective', ' subjective', 'objective', ' objective', ' objective', ' objective', ' subjective', ' subjective', ' objective', ' subjective', ' objective', ' subjective', 'subjective', ' subjective', ' objective', ' objective', ' objective', ' subjective', ' subjective', ' subjective', ' objective', ' subjective', 'subjective', ' objective', ' subjective', ' subjective', ' objective', ' subjective', ' subjective', ' objective', ' subjective', ' subjective', 'objective', ' objective', ' subjective', ' subjective', ' subjective', ' objective', ' objective', ' subjective', ' subjective', ' objective', 'objective', ' subjective', ' objective', ' subjective', ' objective', ' objective', ' subjective', ' objective', ' subjective', ' subjective', 'objective', ' objective', ' subjective', ' objective', ' objective', ' subjective', ' objective', ' objective', ' objective', ' objective', 'objective', ' subjective', ' objective', ' subjective', ' objective', ' objective', ' objective', ' objective', ' objective', ' subjective', 'Objective', ' Objective', ' Subjective', ' Subjective', ' Objective', ' Objective', ' Subjective', ' Objective', ' Objective', ' Objective', 'subjective', ' objective', ' objective', ' subjective', ' objective', ' subjective', ' subjective', ' objective', ' objective', ' objective', 'objective', ' subjective', ' objective', ' objective', ' objective', ' objective', ' subjective', ' objective', ' subjective', ' subjective', 'subjective', ' objective', ' objective', ' subjective', ' subjective', ' objective', ' objective', ' objective', ' objective', ' subjective', 'Objective', ' Objective', ' Subjective', ' Objective', ' Objective', ' Subjective', ' Subjective', ' Subjective', ' Objective', ' Objective.', 'Objective', ' Objective', ' Objective', ' Objective', ' Objective', ' Objective', ' Objective', ' Subjective', ' Subjective', ' Subjective', 'objective', ' subjective', ' objective', ' objective', ' objective', ' objective', ' subjective', ' subjective', ' subjective', ' objective', 'objective', ' objective', ' objective', ' objective', ' subjective', ' objective', ' subjective', ' objective', ' subjective', ' objective', 'subjective', ' subjective', ' objective', ' objective', ' objective', ' subjective', ' objective', ' subjective', ' objective', ' subjective', 'subjective', ' subjective', ' objective', ' subjective', ' subjective', ' objective', ' subjective', ' objective', ' objective', ' objective', 'subjective', ' subjective', ' objective', ' objective', ' subjective', ' objective', ' subjective', ' subjective', ' subjective', ' subjective', 'Objective', ' Subjective', ' Objective', ' Subjective', ' Objective', ' Objective', ' Objective', ' Subjective', ' Objective', ' Objective', 'subjective', ' subjective', ' objective', ' subjective', ' objective', ' subjective', ' subjective', ' subjective', ' objective', ' subjective', 'objective', ' objective', ' objective', ' subjective', ' subjective', ' subjective', ' objective', ' objective', ' objective', ' subjective', 'objective', ' subjective', ' subjective', ' subjective', ' objective', ' subjective', ' subjective', ' objective', ' subjective', ' objective', 'subjective', ' subjective', ' subjective', ' subjective', ' subjective', ' subjective', ' subjective', ' subjective', ' subjective', ' subjective', 'objective', ' objective', ' objective', ' subjective', ' objective', ' objective', ' subjective', ' subjective', ' subjective', ' subjective', 'subjective', ' objective', ' subjective', ' subjective', ' subjective', ' subjective', ' subjective', ' objective', ' subjective', ' objective', 'subjective', ' subjective', ' objective', ' subjective', ' subjective', ' subjective', ' subjective', ' objective', ' subjective', ' subjective', 'objective', ' subjective', ' objective', ' subjective', ' objective', ' objective', ' objective', ' objective', ' subjective', ' subjective', 'subjective', ' objective', ' subjective', ' objective', ' subjective', ' subjective', ' objective', ' subjective', ' subjective', ' subjective', 'objective', ' objective', ' subjective', ' objective', ' subjective', ' subjective', ' objective', ' subjective', ' objective', ' objective', 'objective', ' subjective', ' objective', ' objective', ' subjective', ' objective', ' subjective', ' subjective', ' subjective', ' subjective', 'objective', ' objective', ' subjective', ' subjective', ' objective', ' subjective', ' objective', ' subjective', ' objective', ' objective', 'objective', ' objective', ' objective', ' objective', ' objective', ' objective', ' objective', ' subjective', ' objective', ' subjective', 'subjective', ' subjective', ' objective', ' subjective', ' objective', ' objective', ' subjective', ' subjective', ' subjective', ' subjective', 'Subjective', ' Subjective', ' Subjective', ' Objective', ' Objective', ' Objective', ' Objective', ' Objective', ' Objective', ' Objective', 'objective', ' objective', ' objective', ' subjective', ' subjective', ' objective', ' subjective', ' objective', ' subjective', ' objective', 'subjective', ' objective', ' subjective', ' subjective', ' objective', ' objective', ' subjective', ' subjective', ' objective', ' subjective', 'subjective', ' subjective', ' objective', ' subjective', ' objective', ' subjective', ' objective', ' objective', ' objective', ' subjective', 'Subjective', ' Subjective', ' Objective', ' Subjective', ' Subjective', ' Subjective', ' Objective', ' Subjective', ' Subjective', ' Objective', 'subjective', ' subjective', ' subjective', ' subjective', ' objective', ' objective', ' subjective', ' objective', ' subjective', ' subjective', 'subjective', ' objective', ' subjective', ' subjective', ' objective', ' objective', ' subjective', ' subjective', ' subjective', ' objective', 'subjective', ' objective', ' objective', ' subjective', ' subjective', ' subjective', ' objective', ' objective', ' objective', ' subjective', 'subjective', ' objective', ' objective', ' subjective', ' objective', ' subjective', ' subjective', ' subjective', ' objective', ' subjective', 'subjective', ' objective', ' subjective', ' objective', ' objective', ' subjective', ' subjective', ' objective', ' subjective', ' subjective', 'subjective', ' subjective', ' subjective', ' subjective', ' subjective', ' objective', ' subjective', ' subjective', ' objective', ' subjective', 'objective', ' subjective', ' subjective', ' subjective', ' subjective', ' subjective', ' objective', ' subjective', ' objective', ' subjective', 'objective', ' subjective', ' subjective', ' objective', ' objective', ' objective', ' objective', ' subjective', ' subjective', ' objective', 'subjective', ' objective', ' objective', ' subjective', ' subjective', ' objective', ' subjective', ' subjective', ' subjective', ' objective', 'subjective', ' objective', ' objective', ' subjective', ' objective', ' objective', ' subjective', ' objective', ' objective', ' subjective', 'subjective', ' subjective', ' objective', ' subjective', ' subjective', ' subjective', ' subjective', ' subjective', ' subjective', ' subjective', 'subjective', ' subjective', ' subjective', ' subjective', ' objective', ' objective', ' subjective', ' subjective', ' objective', ' subjective', 'objective', ' objective', ' objective', ' objective', ' objective', ' subjective', ' objective', ' objective', ' objective', ' objective', 'objective', ' objective', ' objective', ' subjective', ' subjective', ' objective', ' objective', ' objective', ' objective', ' objective', 'objective', ' objective', ' objective', ' subjective', ' subjective', ' objective', ' objective', ' objective', ' objective', ' objective', 'subjective', ' subjective', ' subjective', ' objective', ' subjective', ' subjective', ' subjective', ' subjective', ' objective', ' subjective', 'subjective', ' subjective', ' subjective', ' objective', ' objective', ' subjective', ' subjective', ' subjective', ' subjective', ' subjective', 'objective', ' subjective', ' objective', ' objective', ' objective', ' objective', ' objective', ' objective', ' subjective', ' subjective', 'objective', ' objective', ' objective', ' objective', ' objective', ' subjective', ' objective', ' objective', ' subjective', ' subjective', 'objective', ' subjective', ' objective', ' subjective', ' objective', ' subjective', ' objective', ' subjective', ' subjective', ' objective', 'objective', ' objective', ' objective', ' objective', ' objective', ' subjective', ' subjective', ' objective', ' subjective', ' objective', 'objective', ' objective', ' objective', ' subjective', ' objective', ' subjective', ' subjective', ' objective', ' subjective', ' subjective', 'subjective', ' subjective', ' subjective', ' objective', ' subjective', ' objective', ' subjective', ' objective', ' subjective', ' subjective', 'subjective', ' subjective', ' subjective', ' objective', ' subjective', ' subjective', ' subjective', ' subjective', ' objective', ' subjective', 'objective', ' objective', ' subjective', ' subjective', ' objective', ' subjective', ' objective', ' subjective', ' objective', ' objective', 'objective', ' objective', ' subjective', ' objective', ' subjective', ' objective', ' subjective', ' subjective', ' subjective', ' subjective', 'subjective', ' objective', ' subjective', ' objective', ' objective', ' objective', ' objective', ' subjective', ' subjective', ' subjective', 'objective', ' subjective', ' objective', ' subjective', ' subjective', ' objective', ' subjective', ' subjective', ' subjective', ' subjective', 'subjective', ' objective', ' objective', ' objective', ' objective', ' objective', ' subjective', ' objective', ' subjective', ' subjective', 'objective', ' subjective', ' subjective', ' objective', ' objective', ' objective', ' objective', ' subjective', ' subjective', ' subjective', 'subjective', ' objective', ' objective', ' objective', ' objective', ' subjective', ' objective', ' subjective', ' subjective', ' objective', 'objective', ' objective', ' objective', ' subjective', ' subjective', ' subjective', ' subjective', ' subjective', ' subjective', ' objective', 'objective', ' objective', ' objective', ' objective', ' objective', ' subjective', ' objective', ' subjective', ' subjective', ' subjective', 'subjective', ' objective', ' objective', ' subjective', ' objective', ' subjective', ' subjective', ' subjective', ' objective', ' subjective', 'Objective', ' Objective', ' Objective', ' Objective', ' Objective', ' Objective', ' Objective', ' Objective', ' Subjective', ' Objective', 'subjective', ' subjective', ' objective', ' subjective', ' objective', ' subjective', ' subjective', ' objective', ' subjective', ' subjective', 'subjective', ' subjective', ' objective', ' objective', ' objective', ' objective', ' subjective', ' subjective', ' objective', ' objective', 'subjective', ' objective', ' subjective', ' objective', ' objective', ' subjective', ' subjective', ' subjective', ' objective', ' subjective', 'Objective', ' Objective', ' Objective', ' Objective', ' Subjective', ' Objective', ' Objective', ' Objective', ' Objective', ' Subjective', 'subjective', ' subjective', ' objective', ' subjective', ' subjective', ' subjective', ' objective', ' subjective', ' objective', ' subjective', 'subjective', ' objective', ' objective', ' subjective', ' objective', ' subjective', ' subjective', ' subjective', ' objective', ' objective', 'objective', ' subjective', ' objective', ' objective', ' subjective', ' objective', ' subjective', ' subjective', ' subjective', ' objective', 'subjective', ' subjective', ' subjective', ' subjective', ' subjective', ' subjective', ' subjective', ' subjective', ' subjective', ' subjective', 'objective', ' subjective', ' subjective', ' objective', ' subjective', ' subjective', ' subjective', ' objective', ' subjective', ' subjective', 'objective', ' subjective', ' objective', ' subjective', ' objective', ' subjective', ' objective', ' subjective', ' subjective', ' objective', 'subjective', ' subjective', ' objective', ' subjective', ' subjective', ' subjective', ' objective', ' objective', ' subjective', ' subjective', 'objective', ' subjective', ' objective', ' subjective', ' subjective', ' subjective', ' subjective', ' objective', ' objective', ' objective', 'objective', ' subjective', ' objective', ' objective', ' objective', ' objective', ' objective', ' subjective', ' objective', ' subjective', 'subjective', ' objective', ' objective', ' objective', ' objective', ' objective', ' objective', ' subjective', ' subjective', ' objective', 'subjective', ' objective', ' subjective', ' subjective', ' subjective', ' subjective', ' objective', ' subjective', ' subjective', ' objective.', 'subjective', ' objective', ' objective', ' subjective', ' objective', ' subjective', ' objective', ' objective', ' subjective', ' subjective']\n",
            "2000\n"
          ]
        }
      ]
    },
    {
      "cell_type": "code",
      "source": [
        "predicted_text_lables = [item.replace('\\n', '').replace('.', '').replace(' ', '') for item in result]\n",
        "print(predicted_text_lables)"
      ],
      "metadata": {
        "colab": {
          "base_uri": "https://localhost:8080/"
        },
        "id": "0Rs_WeoVQjbQ",
        "outputId": "1d1e26d8-6775-49cf-d3bd-8d24d7baca26"
      },
      "execution_count": null,
      "outputs": [
        {
          "output_type": "stream",
          "name": "stdout",
          "text": [
            "['subjective', 'subjective', 'subjective', 'subjective', 'subjective', 'subjective', 'subjective', 'subjective', 'subjective', 'subjective', 'subjective', 'subjective', 'subjective', 'subjective', 'subjective', 'subjective', 'subjective', 'subjective', 'subjective', 'subjective', 'subjective', 'subjective', 'subjective', 'subjective', 'subjective', 'subjective', 'subjective', 'subjective', 'subjective', 'subjective', 'subjective', 'subjective', 'objective', 'subjective', 'subjective', 'subjective', 'subjective', 'subjective', 'subjective', 'subjective', 'subjective', 'subjective', 'subjective', 'subjective', 'subjective', 'subjective', 'subjective', 'subjective', 'subjective', 'subjective', 'subjective', 'subjective', 'subjective', 'subjective', 'subjective', 'subjective', 'subjective', 'subjective', 'subjective', 'subjective', 'subjective', 'subjective', 'subjective', 'subjective', 'subjective', 'subjective', 'subjective', 'subjective', 'subjective', 'subjective', 'subjective', 'subjective', 'subjective', 'subjective', 'subjective', 'subjective', 'subjective', 'subjective', 'subjective', 'subjective', 'subjective', 'subjective', 'subjective', 'subjective', 'subjective', 'subjective', 'subjective', 'subjective', 'subjective', 'subjective', 'subjective', 'subjective', 'subjective', 'subjective', 'subjective', 'subjective', 'subjective', 'subjective', 'subjective', 'subjective', 'subjective', 'subjective', 'subjective', 'subjective', 'subjective', 'subjective', 'subjective', 'subjective', 'subjective', 'subjective', 'subjective', 'subjective', 'subjective', 'objective', 'subjective', 'subjective', 'subjective', 'subjective', 'subjective', 'subjective', 'Subjective', 'Objective', 'Subjective', 'Subjective', 'Subjective', 'Subjective', 'Objective', 'Subjective', 'Subjective', 'Subjective', 'subjective', 'subjective', 'subjective', 'subjective', 'subjective', 'subjective', 'subjective', 'subjective', 'subjective', 'subjective', 'subjective', 'subjective', 'subjective', 'objective', 'subjective', 'subjective', 'subjective', 'subjective', 'subjective', 'subjective', 'subjective', 'subjective', 'subjective', 'subjective', 'subjective', 'subjective', 'subjective', 'subjective', 'subjective', 'subjective', 'subjective', 'subjective', 'subjective', 'subjective', 'subjective', 'subjective', 'subjective', 'objective', 'subjective', 'subjective', 'subjective', 'subjective', 'objective', 'subjective', 'subjective', 'subjective', 'subjective', 'subjective', 'subjective', 'subjective', 'subjective', 'subjective', 'subjective', 'subjective', 'subjective', 'subjective', 'subjective', 'subjective', 'subjective', 'subjective', 'subjective', 'subjective', 'subjective', 'subjective', 'subjective', 'subjective', 'subjective', 'subjective', 'subjective', 'subjective', 'subjective', 'subjective', 'subjective', 'subjective', 'subjective', 'subjective', 'subjective', 'subjective', 'subjective', 'subjective', 'subjective', 'subjective', 'subjective', 'objective', 'subjective', 'subjective', 'subjective', 'subjective', 'subjective', 'subjective', 'subjective', 'subjective', 'subjective', 'subjective', 'subjective', 'subjective', 'subjective', 'subjective', 'subjective', 'subjective', 'subjective', 'subjective', 'subjective', 'subjective', 'subjective', 'subjective', 'subjective', 'subjective', 'subjective', 'subjective', 'subjective', 'subjective', 'subjective', 'subjective', 'subjective', 'subjective', 'subjective', 'subjective', 'subjective', 'subjective', 'subjective', 'subjective', 'subjective', 'subjective', 'subjective', 'subjective', 'subjective', 'subjective', 'subjective', 'subjective', 'subjective', 'subjective', 'subjective', 'subjective', 'subjective', 'subjective', 'subjective', 'subjective', 'subjective', 'subjective', 'subjective', 'subjective', 'subjective', 'subjective', 'subjective', 'subjective', 'subjective', 'subjective', 'subjective', 'subjective', 'subjective', 'subjective', 'subjective', 'subjective', 'subjective', 'subjective', 'subjective', 'subjective', 'subjective', 'subjective', 'subjective', 'subjective', 'subjective', 'subjective', 'subjective', 'subjective', 'subjective', 'subjective', 'objective', 'subjective', 'subjective', 'objective', 'subjective', 'subjective', 'subjective', 'subjective', 'subjective', 'subjective', 'subjective', 'subjective', 'subjective', 'subjective', 'subjective', 'subjective', 'subjective', 'subjective', 'subjective', 'subjective', 'subjective', 'subjective', 'Subjective', 'Subjective', 'Subjective', 'Subjective', 'Subjective', 'Subjective', 'Subjective', 'Objective', 'Subjective', 'Subjective', 'subjective', 'subjective', 'subjective', 'subjective', 'subjective', 'subjective', 'subjective', 'subjective', 'subjective', 'objective', 'subjective', 'subjective', 'subjective', 'subjective', 'subjective', 'subjective', 'subjective', 'subjective', 'subjective', 'subjective', 'subjective', 'subjective', 'subjective', 'objective', 'subjective', 'subjective', 'subjective', 'subjective', 'objective', 'subjective', 'subjective', 'subjective', 'subjective', 'subjective', 'subjective', 'subjective', 'subjective', 'subjective', 'subjective', 'subjective', 'subjective', 'subjective', 'subjective', 'subjective', 'subjective', 'subjective', 'subjective', 'subjective', 'subjective', 'subjective', 'subjective', 'subjective', 'subjective', 'subjective', 'subjective', 'subjective', 'subjective', 'subjective', 'subjective', 'subjective', 'subjective', 'subjective', 'subjective', 'subjective', 'subjective', 'subjective', 'subjective', 'subjective', 'subjective', 'subjective', 'subjective', 'subjective', 'subjective', 'subjective', 'objective', 'subjective', 'subjective', 'subjective', 'subjective', 'subjective', 'subjective', 'subjective', 'subjective', 'subjective', 'subjective', 'subjective', 'subjective', 'objective', 'subjective', 'subjective', 'subjective', 'subjective', 'subjective', 'subjective', 'subjective', 'subjective', 'subjective', 'subjective', 'subjective', 'subjective', 'subjective', 'subjective', 'subjective', 'subjective', 'subjective', 'subjective', 'subjective', 'subjective', 'objective', 'subjective', 'subjective', 'subjective', 'subjective', 'subjective', 'subjective', 'subjective', 'objective', 'subjective', 'objective', 'subjective', 'subjective', 'subjective', 'subjective', 'subjective', 'subjective', 'subjective', 'subjective', 'subjective', 'subjective', 'subjective', 'subjective', 'subjective', 'subjective', 'subjective', 'subjective', 'subjective', 'subjective', 'objective', 'subjective', 'subjective', 'subjective', 'subjective', 'objective', 'subjective', 'subjective', 'subjective', 'subjective', 'subjective', 'subjective', 'subjective', 'subjective', 'subjective', 'subjective', 'subjective', 'objective', 'subjective', 'subjective', 'subjective', 'subjective', 'subjective', 'subjective', 'subjective', 'subjective', 'subjective', 'subjective', 'subjective', 'subjective', 'subjective', 'objective', 'subjective', 'subjective', 'subjective', 'subjective', 'subjective', 'subjective', 'subjective', 'objective', 'subjective', 'subjective', 'subjective', 'subjective', 'subjective', 'subjective', 'objective', 'subjective', 'subjective', 'subjective', 'subjective', 'subjective', 'subjective', 'subjective', 'subjective', 'subjective', 'subjective', 'subjective', 'subjective', 'subjective', 'subjective', 'subjective', 'subjective', 'subjective', 'subjective', 'subjective', 'objective', 'subjective', 'subjective', 'subjective', 'subjective', 'subjective', 'subjective', 'subjective', 'subjective', 'objective', 'subjective', 'subjective', 'subjective', 'subjective', 'objective', 'subjective', 'subjective', 'subjective', 'objective', 'subjective', 'subjective', 'subjective', 'subjective', 'subjective', 'subjective', 'subjective', 'subjective', 'subjective', 'subjective', 'subjective', 'objective', 'subjective', 'subjective', 'subjective', 'subjective', 'subjective', 'objective', 'subjective', 'subjective', 'objective', 'subjective', 'subjective', 'subjective', 'subjective', 'subjective', 'objective', 'objective', 'subjective', 'subjective', 'subjective', 'subjective', 'subjective', 'subjective', 'subjective', 'subjective', 'subjective', 'subjective', 'subjective', 'subjective', 'objective', 'subjective', 'subjective', 'subjective', 'subjective', 'subjective', 'subjective', 'subjective', 'subjective', 'subjective', 'subjective', 'subjective', 'subjective', 'subjective', 'subjective', 'subjective', 'subjective', 'subjective', 'subjective', 'subjective', 'subjective', 'objective', 'subjective', 'subjective', 'subjective', 'subjective', 'subjective', 'subjective', 'subjective', 'objective', 'subjective', 'subjective', 'subjective', 'subjective', 'subjective', 'subjective', 'subjective', 'subjective', 'subjective', 'subjective', 'subjective', 'subjective', 'subjective', 'subjective', 'subjective', 'subjective', 'subjective', 'subjective', 'subjective', 'objective', 'subjective', 'subjective', 'subjective', 'subjective', 'subjective', 'subjective', 'subjective', 'subjective', 'subjective', 'subjective', 'subjective', 'subjective', 'subjective', 'subjective', 'subjective', 'objective', 'subjective', 'subjective', 'subjective', 'subjective', 'subjective', 'subjective', 'subjective', 'subjective', 'subjective', 'subjective', 'subjective', 'subjective', 'subjective', 'subjective', 'subjective', 'subjective', 'subjective', 'subjective', 'subjective', 'subjective', 'subjective', 'subjective', 'subjective', 'subjective', 'subjective', 'subjective', 'subjective', 'subjective', 'subjective', 'subjective', 'objective', 'objective', 'subjective', 'subjective', 'objective', 'subjective', 'subjective', 'subjective', 'subjective', 'subjective', 'subjective', 'subjective', 'subjective', 'objective', 'subjective', 'subjective', 'subjective', 'subjective', 'subjective', 'subjective', 'subjective', 'subjective', 'subjective', 'subjective', 'subjective', 'subjective', 'subjective', 'subjective', 'subjective', 'subjective', 'objective', 'subjective', 'subjective', 'subjective', 'subjective', 'subjective', 'objective', 'subjective', 'subjective', 'subjective', 'subjective', 'subjective', 'subjective', 'subjective', 'subjective', 'subjective', 'subjective', 'subjective', 'subjective', 'subjective', 'subjective', 'subjective', 'subjective', 'subjective', 'subjective', 'subjective', 'subjective', 'subjective', 'subjective', 'subjective', 'subjective', 'subjective', 'subjective', 'subjective', 'subjective', 'subjective', 'subjective', 'subjective', 'subjective', 'subjective', 'subjective', 'subjective', 'subjective', 'subjective', 'subjective', 'subjective', 'subjective', 'subjective', 'subjective', 'subjective', 'subjective', 'subjective', 'subjective', 'subjective', 'subjective', 'subjective', 'subjective', 'subjective', 'subjective', 'subjective', 'subjective', 'subjective', 'subjective', 'subjective', 'subjective', 'subjective', 'subjective', 'subjective', 'subjective', 'subjective', 'subjective', 'subjective', 'subjective', 'subjective', 'subjective', 'subjective', 'subjective', 'subjective', 'subjective', 'subjective', 'subjective', 'subjective', 'subjective', 'subjective', 'objective', 'subjective', 'subjective', 'subjective', 'subjective', 'subjective', 'subjective', 'subjective', 'subjective', 'subjective', 'subjective', 'subjective', 'subjective', 'subjective', 'subjective', 'subjective', 'subjective', 'subjective', 'subjective', 'subjective', 'subjective', 'subjective', 'subjective', 'subjective', 'subjective', 'subjective', 'subjective', 'subjective', 'subjective', 'subjective', 'subjective', 'subjective', 'subjective', 'subjective', 'subjective', 'subjective', 'subjective', 'subjective', 'subjective', 'subjective', 'subjective', 'subjective', 'subjective', 'subjective', 'subjective', 'subjective', 'subjective', 'subjective', 'subjective', 'subjective', 'objective', 'subjective', 'subjective', 'subjective', 'subjective', 'subjective', 'subjective', 'subjective', 'subjective', 'subjective', 'objective', 'objective', 'subjective', 'subjective', 'subjective', 'subjective', 'objective', 'subjective', 'subjective', 'subjective', 'subjective', 'subjective', 'subjective', 'subjective', 'subjective', 'subjective', 'subjective', 'subjective', 'subjective', 'subjective', 'subjective', 'subjective', 'subjective', 'subjective', 'subjective', 'subjective', 'subjective', 'subjective', 'subjective', 'subjective', 'subjective', 'subjective', 'subjective', 'subjective', 'subjective', 'subjective', 'subjective', 'subjective', 'subjective', 'subjective', 'subjective', 'subjective', 'objective', 'subjective', 'subjective', 'subjective', 'subjective', 'subjective', 'subjective', 'subjective', 'subjective', 'subjective', 'subjective', 'objective', 'subjective', 'subjective', 'subjective', 'subjective', 'subjective', 'subjective', 'subjective', 'subjective', 'subjective', 'subjective', 'subjective', 'subjective', 'subjective', 'subjective', 'subjective', 'subjective', 'subjective', 'subjective', 'subjective', 'subjective', 'subjective', 'subjective', 'subjective', 'subjective', 'subjective', 'subjective', 'subjective', 'objective', 'subjective', 'subjective', 'subjective', 'objective', 'subjective', 'subjective', 'subjective', 'subjective', 'subjective', 'subjective', 'subjective', 'subjective', 'subjective', 'subjective', 'subjective', 'objective', 'subjective', 'subjective', 'subjective', 'subjective', 'subjective', 'subjective', 'subjective', 'subjective', 'subjective', 'subjective', 'subjective', 'subjective', 'subjective', 'subjective', 'subjective', 'subjective', 'subjective', 'subjective', 'subjective', 'subjective', 'subjective', 'subjective', 'subjective', 'subjective', 'subjective', 'subjective', 'subjective', 'subjective', 'subjective', 'subjective', 'subjective', 'subjective', 'objective', 'subjective', 'subjective', 'subjective', 'subjective', 'subjective', 'subjective', 'subjective', 'subjective', 'subjective', 'objective', 'objective', 'subjective', 'objective', 'objective', 'objective', 'objective', 'subjective', 'subjective', 'objective', 'subjective', 'subjective', 'subjective', 'objective', 'objective', 'subjective', 'subjective', 'objective', 'subjective', 'objective', 'subjective', 'subjective', 'objective', 'objective', 'subjective', 'subjective', 'subjective', 'objective', 'subjective', 'objective', 'subjective', 'subjective', 'objective', 'objective', 'subjective', 'subjective', 'subjective', 'objective', 'subjective', 'objective', 'subjective', 'objective', 'objective', 'objective', 'subjective', 'objective', 'subjective', 'subjective', 'objective', 'objective', 'objective', 'subjective', 'objective', 'objective', 'subjective', 'subjective', 'subjective', 'subjective', 'subjective', 'objective', 'subjective', 'objective', 'subjective', 'subjective', 'subjective', 'objective', 'objective', 'subjective', 'subjective', 'subjective', 'objective', 'objective', 'objective', 'objective', 'subjective', 'subjective', 'subjective', 'subjective', 'objective', 'subjective', 'subjective', 'subjective', 'subjective', 'subjective', 'subjective', 'subjective', 'subjective', 'subjective', 'subjective', 'objective', 'objective', 'subjective', 'subjective', 'objective', 'subjective', 'subjective', 'objective', 'subjective', 'subjective', 'subjective', 'objective', 'objective', 'subjective', 'subjective', 'subjective', 'objective', 'subjective', 'subjective', 'objective', 'objective', 'objective', 'objective', 'subjective', 'subjective', 'objective', 'subjective', 'objective', 'subjective', 'subjective', 'subjective', 'objective', 'objective', 'objective', 'subjective', 'subjective', 'subjective', 'objective', 'subjective', 'subjective', 'objective', 'subjective', 'subjective', 'objective', 'subjective', 'subjective', 'objective', 'subjective', 'subjective', 'objective', 'objective', 'subjective', 'subjective', 'subjective', 'objective', 'objective', 'subjective', 'subjective', 'objective', 'objective', 'subjective', 'objective', 'subjective', 'objective', 'objective', 'subjective', 'objective', 'subjective', 'subjective', 'objective', 'objective', 'subjective', 'objective', 'objective', 'subjective', 'objective', 'objective', 'objective', 'objective', 'objective', 'subjective', 'objective', 'subjective', 'objective', 'objective', 'objective', 'objective', 'objective', 'subjective', 'Objective', 'Objective', 'Subjective', 'Subjective', 'Objective', 'Objective', 'Subjective', 'Objective', 'Objective', 'Objective', 'subjective', 'objective', 'objective', 'subjective', 'objective', 'subjective', 'subjective', 'objective', 'objective', 'objective', 'objective', 'subjective', 'objective', 'objective', 'objective', 'objective', 'subjective', 'objective', 'subjective', 'subjective', 'subjective', 'objective', 'objective', 'subjective', 'subjective', 'objective', 'objective', 'objective', 'objective', 'subjective', 'Objective', 'Objective', 'Subjective', 'Objective', 'Objective', 'Subjective', 'Subjective', 'Subjective', 'Objective', 'Objective', 'Objective', 'Objective', 'Objective', 'Objective', 'Objective', 'Objective', 'Objective', 'Subjective', 'Subjective', 'Subjective', 'objective', 'subjective', 'objective', 'objective', 'objective', 'objective', 'subjective', 'subjective', 'subjective', 'objective', 'objective', 'objective', 'objective', 'objective', 'subjective', 'objective', 'subjective', 'objective', 'subjective', 'objective', 'subjective', 'subjective', 'objective', 'objective', 'objective', 'subjective', 'objective', 'subjective', 'objective', 'subjective', 'subjective', 'subjective', 'objective', 'subjective', 'subjective', 'objective', 'subjective', 'objective', 'objective', 'objective', 'subjective', 'subjective', 'objective', 'objective', 'subjective', 'objective', 'subjective', 'subjective', 'subjective', 'subjective', 'Objective', 'Subjective', 'Objective', 'Subjective', 'Objective', 'Objective', 'Objective', 'Subjective', 'Objective', 'Objective', 'subjective', 'subjective', 'objective', 'subjective', 'objective', 'subjective', 'subjective', 'subjective', 'objective', 'subjective', 'objective', 'objective', 'objective', 'subjective', 'subjective', 'subjective', 'objective', 'objective', 'objective', 'subjective', 'objective', 'subjective', 'subjective', 'subjective', 'objective', 'subjective', 'subjective', 'objective', 'subjective', 'objective', 'subjective', 'subjective', 'subjective', 'subjective', 'subjective', 'subjective', 'subjective', 'subjective', 'subjective', 'subjective', 'objective', 'objective', 'objective', 'subjective', 'objective', 'objective', 'subjective', 'subjective', 'subjective', 'subjective', 'subjective', 'objective', 'subjective', 'subjective', 'subjective', 'subjective', 'subjective', 'objective', 'subjective', 'objective', 'subjective', 'subjective', 'objective', 'subjective', 'subjective', 'subjective', 'subjective', 'objective', 'subjective', 'subjective', 'objective', 'subjective', 'objective', 'subjective', 'objective', 'objective', 'objective', 'objective', 'subjective', 'subjective', 'subjective', 'objective', 'subjective', 'objective', 'subjective', 'subjective', 'objective', 'subjective', 'subjective', 'subjective', 'objective', 'objective', 'subjective', 'objective', 'subjective', 'subjective', 'objective', 'subjective', 'objective', 'objective', 'objective', 'subjective', 'objective', 'objective', 'subjective', 'objective', 'subjective', 'subjective', 'subjective', 'subjective', 'objective', 'objective', 'subjective', 'subjective', 'objective', 'subjective', 'objective', 'subjective', 'objective', 'objective', 'objective', 'objective', 'objective', 'objective', 'objective', 'objective', 'objective', 'subjective', 'objective', 'subjective', 'subjective', 'subjective', 'objective', 'subjective', 'objective', 'objective', 'subjective', 'subjective', 'subjective', 'subjective', 'Subjective', 'Subjective', 'Subjective', 'Objective', 'Objective', 'Objective', 'Objective', 'Objective', 'Objective', 'Objective', 'objective', 'objective', 'objective', 'subjective', 'subjective', 'objective', 'subjective', 'objective', 'subjective', 'objective', 'subjective', 'objective', 'subjective', 'subjective', 'objective', 'objective', 'subjective', 'subjective', 'objective', 'subjective', 'subjective', 'subjective', 'objective', 'subjective', 'objective', 'subjective', 'objective', 'objective', 'objective', 'subjective', 'Subjective', 'Subjective', 'Objective', 'Subjective', 'Subjective', 'Subjective', 'Objective', 'Subjective', 'Subjective', 'Objective', 'subjective', 'subjective', 'subjective', 'subjective', 'objective', 'objective', 'subjective', 'objective', 'subjective', 'subjective', 'subjective', 'objective', 'subjective', 'subjective', 'objective', 'objective', 'subjective', 'subjective', 'subjective', 'objective', 'subjective', 'objective', 'objective', 'subjective', 'subjective', 'subjective', 'objective', 'objective', 'objective', 'subjective', 'subjective', 'objective', 'objective', 'subjective', 'objective', 'subjective', 'subjective', 'subjective', 'objective', 'subjective', 'subjective', 'objective', 'subjective', 'objective', 'objective', 'subjective', 'subjective', 'objective', 'subjective', 'subjective', 'subjective', 'subjective', 'subjective', 'subjective', 'subjective', 'objective', 'subjective', 'subjective', 'objective', 'subjective', 'objective', 'subjective', 'subjective', 'subjective', 'subjective', 'subjective', 'objective', 'subjective', 'objective', 'subjective', 'objective', 'subjective', 'subjective', 'objective', 'objective', 'objective', 'objective', 'subjective', 'subjective', 'objective', 'subjective', 'objective', 'objective', 'subjective', 'subjective', 'objective', 'subjective', 'subjective', 'subjective', 'objective', 'subjective', 'objective', 'objective', 'subjective', 'objective', 'objective', 'subjective', 'objective', 'objective', 'subjective', 'subjective', 'subjective', 'objective', 'subjective', 'subjective', 'subjective', 'subjective', 'subjective', 'subjective', 'subjective', 'subjective', 'subjective', 'subjective', 'subjective', 'objective', 'objective', 'subjective', 'subjective', 'objective', 'subjective', 'objective', 'objective', 'objective', 'objective', 'objective', 'subjective', 'objective', 'objective', 'objective', 'objective', 'objective', 'objective', 'objective', 'subjective', 'subjective', 'objective', 'objective', 'objective', 'objective', 'objective', 'objective', 'objective', 'objective', 'subjective', 'subjective', 'objective', 'objective', 'objective', 'objective', 'objective', 'subjective', 'subjective', 'subjective', 'objective', 'subjective', 'subjective', 'subjective', 'subjective', 'objective', 'subjective', 'subjective', 'subjective', 'subjective', 'objective', 'objective', 'subjective', 'subjective', 'subjective', 'subjective', 'subjective', 'objective', 'subjective', 'objective', 'objective', 'objective', 'objective', 'objective', 'objective', 'subjective', 'subjective', 'objective', 'objective', 'objective', 'objective', 'objective', 'subjective', 'objective', 'objective', 'subjective', 'subjective', 'objective', 'subjective', 'objective', 'subjective', 'objective', 'subjective', 'objective', 'subjective', 'subjective', 'objective', 'objective', 'objective', 'objective', 'objective', 'objective', 'subjective', 'subjective', 'objective', 'subjective', 'objective', 'objective', 'objective', 'objective', 'subjective', 'objective', 'subjective', 'subjective', 'objective', 'subjective', 'subjective', 'subjective', 'subjective', 'subjective', 'objective', 'subjective', 'objective', 'subjective', 'objective', 'subjective', 'subjective', 'subjective', 'subjective', 'subjective', 'objective', 'subjective', 'subjective', 'subjective', 'subjective', 'objective', 'subjective', 'objective', 'objective', 'subjective', 'subjective', 'objective', 'subjective', 'objective', 'subjective', 'objective', 'objective', 'objective', 'objective', 'subjective', 'objective', 'subjective', 'objective', 'subjective', 'subjective', 'subjective', 'subjective', 'subjective', 'objective', 'subjective', 'objective', 'objective', 'objective', 'objective', 'subjective', 'subjective', 'subjective', 'objective', 'subjective', 'objective', 'subjective', 'subjective', 'objective', 'subjective', 'subjective', 'subjective', 'subjective', 'subjective', 'objective', 'objective', 'objective', 'objective', 'objective', 'subjective', 'objective', 'subjective', 'subjective', 'objective', 'subjective', 'subjective', 'objective', 'objective', 'objective', 'objective', 'subjective', 'subjective', 'subjective', 'subjective', 'objective', 'objective', 'objective', 'objective', 'subjective', 'objective', 'subjective', 'subjective', 'objective', 'objective', 'objective', 'objective', 'subjective', 'subjective', 'subjective', 'subjective', 'subjective', 'subjective', 'objective', 'objective', 'objective', 'objective', 'objective', 'objective', 'subjective', 'objective', 'subjective', 'subjective', 'subjective', 'subjective', 'objective', 'objective', 'subjective', 'objective', 'subjective', 'subjective', 'subjective', 'objective', 'subjective', 'Objective', 'Objective', 'Objective', 'Objective', 'Objective', 'Objective', 'Objective', 'Objective', 'Subjective', 'Objective', 'subjective', 'subjective', 'objective', 'subjective', 'objective', 'subjective', 'subjective', 'objective', 'subjective', 'subjective', 'subjective', 'subjective', 'objective', 'objective', 'objective', 'objective', 'subjective', 'subjective', 'objective', 'objective', 'subjective', 'objective', 'subjective', 'objective', 'objective', 'subjective', 'subjective', 'subjective', 'objective', 'subjective', 'Objective', 'Objective', 'Objective', 'Objective', 'Subjective', 'Objective', 'Objective', 'Objective', 'Objective', 'Subjective', 'subjective', 'subjective', 'objective', 'subjective', 'subjective', 'subjective', 'objective', 'subjective', 'objective', 'subjective', 'subjective', 'objective', 'objective', 'subjective', 'objective', 'subjective', 'subjective', 'subjective', 'objective', 'objective', 'objective', 'subjective', 'objective', 'objective', 'subjective', 'objective', 'subjective', 'subjective', 'subjective', 'objective', 'subjective', 'subjective', 'subjective', 'subjective', 'subjective', 'subjective', 'subjective', 'subjective', 'subjective', 'subjective', 'objective', 'subjective', 'subjective', 'objective', 'subjective', 'subjective', 'subjective', 'objective', 'subjective', 'subjective', 'objective', 'subjective', 'objective', 'subjective', 'objective', 'subjective', 'objective', 'subjective', 'subjective', 'objective', 'subjective', 'subjective', 'objective', 'subjective', 'subjective', 'subjective', 'objective', 'objective', 'subjective', 'subjective', 'objective', 'subjective', 'objective', 'subjective', 'subjective', 'subjective', 'subjective', 'objective', 'objective', 'objective', 'objective', 'subjective', 'objective', 'objective', 'objective', 'objective', 'objective', 'subjective', 'objective', 'subjective', 'subjective', 'objective', 'objective', 'objective', 'objective', 'objective', 'objective', 'subjective', 'subjective', 'objective', 'subjective', 'objective', 'subjective', 'subjective', 'subjective', 'subjective', 'objective', 'subjective', 'subjective', 'objective', 'subjective', 'objective', 'objective', 'subjective', 'objective', 'subjective', 'objective', 'objective', 'subjective', 'subjective']\n"
          ]
        }
      ]
    },
    {
      "cell_type": "code",
      "source": [
        "valid_labels = [1] * 1000 + [0] * 1000"
      ],
      "metadata": {
        "id": "RTKzzJMPQ1fM"
      },
      "execution_count": null,
      "outputs": []
    },
    {
      "cell_type": "code",
      "source": [
        "label_map = {'subjective': 1, 'objective': 0, 'subject': 1, 'object': 0, 'Subjective' : 1, 'Objective' : 0, 'Subject' : 1, 'objevtove' : 0}\n",
        "# Convert labels to binary values\n",
        "predicted_labels = [label_map[label] for label in predicted_text_lables]\n",
        "\n",
        "print(valid_labels)\n",
        "print(predicted_labels)"
      ],
      "metadata": {
        "colab": {
          "base_uri": "https://localhost:8080/"
        },
        "id": "_CMyn-reQ3Gd",
        "outputId": "6b772884-a1e3-4bc3-ed85-bff48f3691de"
      },
      "execution_count": null,
      "outputs": [
        {
          "output_type": "stream",
          "name": "stdout",
          "text": [
            "[1, 1, 1, 1, 1, 1, 1, 1, 1, 1, 1, 1, 1, 1, 1, 1, 1, 1, 1, 1, 1, 1, 1, 1, 1, 1, 1, 1, 1, 1, 1, 1, 1, 1, 1, 1, 1, 1, 1, 1, 1, 1, 1, 1, 1, 1, 1, 1, 1, 1, 1, 1, 1, 1, 1, 1, 1, 1, 1, 1, 1, 1, 1, 1, 1, 1, 1, 1, 1, 1, 1, 1, 1, 1, 1, 1, 1, 1, 1, 1, 1, 1, 1, 1, 1, 1, 1, 1, 1, 1, 1, 1, 1, 1, 1, 1, 1, 1, 1, 1, 1, 1, 1, 1, 1, 1, 1, 1, 1, 1, 1, 1, 1, 1, 1, 1, 1, 1, 1, 1, 1, 1, 1, 1, 1, 1, 1, 1, 1, 1, 1, 1, 1, 1, 1, 1, 1, 1, 1, 1, 1, 1, 1, 1, 1, 1, 1, 1, 1, 1, 1, 1, 1, 1, 1, 1, 1, 1, 1, 1, 1, 1, 1, 1, 1, 1, 1, 1, 1, 1, 1, 1, 1, 1, 1, 1, 1, 1, 1, 1, 1, 1, 1, 1, 1, 1, 1, 1, 1, 1, 1, 1, 1, 1, 1, 1, 1, 1, 1, 1, 1, 1, 1, 1, 1, 1, 1, 1, 1, 1, 1, 1, 1, 1, 1, 1, 1, 1, 1, 1, 1, 1, 1, 1, 1, 1, 1, 1, 1, 1, 1, 1, 1, 1, 1, 1, 1, 1, 1, 1, 1, 1, 1, 1, 1, 1, 1, 1, 1, 1, 1, 1, 1, 1, 1, 1, 1, 1, 1, 1, 1, 1, 1, 1, 1, 1, 1, 1, 1, 1, 1, 1, 1, 1, 1, 1, 1, 1, 1, 1, 1, 1, 1, 1, 1, 1, 1, 1, 1, 1, 1, 1, 1, 1, 1, 1, 1, 1, 1, 1, 1, 1, 1, 1, 1, 1, 1, 1, 1, 1, 1, 1, 1, 1, 1, 1, 1, 1, 1, 1, 1, 1, 1, 1, 1, 1, 1, 1, 1, 1, 1, 1, 1, 1, 1, 1, 1, 1, 1, 1, 1, 1, 1, 1, 1, 1, 1, 1, 1, 1, 1, 1, 1, 1, 1, 1, 1, 1, 1, 1, 1, 1, 1, 1, 1, 1, 1, 1, 1, 1, 1, 1, 1, 1, 1, 1, 1, 1, 1, 1, 1, 1, 1, 1, 1, 1, 1, 1, 1, 1, 1, 1, 1, 1, 1, 1, 1, 1, 1, 1, 1, 1, 1, 1, 1, 1, 1, 1, 1, 1, 1, 1, 1, 1, 1, 1, 1, 1, 1, 1, 1, 1, 1, 1, 1, 1, 1, 1, 1, 1, 1, 1, 1, 1, 1, 1, 1, 1, 1, 1, 1, 1, 1, 1, 1, 1, 1, 1, 1, 1, 1, 1, 1, 1, 1, 1, 1, 1, 1, 1, 1, 1, 1, 1, 1, 1, 1, 1, 1, 1, 1, 1, 1, 1, 1, 1, 1, 1, 1, 1, 1, 1, 1, 1, 1, 1, 1, 1, 1, 1, 1, 1, 1, 1, 1, 1, 1, 1, 1, 1, 1, 1, 1, 1, 1, 1, 1, 1, 1, 1, 1, 1, 1, 1, 1, 1, 1, 1, 1, 1, 1, 1, 1, 1, 1, 1, 1, 1, 1, 1, 1, 1, 1, 1, 1, 1, 1, 1, 1, 1, 1, 1, 1, 1, 1, 1, 1, 1, 1, 1, 1, 1, 1, 1, 1, 1, 1, 1, 1, 1, 1, 1, 1, 1, 1, 1, 1, 1, 1, 1, 1, 1, 1, 1, 1, 1, 1, 1, 1, 1, 1, 1, 1, 1, 1, 1, 1, 1, 1, 1, 1, 1, 1, 1, 1, 1, 1, 1, 1, 1, 1, 1, 1, 1, 1, 1, 1, 1, 1, 1, 1, 1, 1, 1, 1, 1, 1, 1, 1, 1, 1, 1, 1, 1, 1, 1, 1, 1, 1, 1, 1, 1, 1, 1, 1, 1, 1, 1, 1, 1, 1, 1, 1, 1, 1, 1, 1, 1, 1, 1, 1, 1, 1, 1, 1, 1, 1, 1, 1, 1, 1, 1, 1, 1, 1, 1, 1, 1, 1, 1, 1, 1, 1, 1, 1, 1, 1, 1, 1, 1, 1, 1, 1, 1, 1, 1, 1, 1, 1, 1, 1, 1, 1, 1, 1, 1, 1, 1, 1, 1, 1, 1, 1, 1, 1, 1, 1, 1, 1, 1, 1, 1, 1, 1, 1, 1, 1, 1, 1, 1, 1, 1, 1, 1, 1, 1, 1, 1, 1, 1, 1, 1, 1, 1, 1, 1, 1, 1, 1, 1, 1, 1, 1, 1, 1, 1, 1, 1, 1, 1, 1, 1, 1, 1, 1, 1, 1, 1, 1, 1, 1, 1, 1, 1, 1, 1, 1, 1, 1, 1, 1, 1, 1, 1, 1, 1, 1, 1, 1, 1, 1, 1, 1, 1, 1, 1, 1, 1, 1, 1, 1, 1, 1, 1, 1, 1, 1, 1, 1, 1, 1, 1, 1, 1, 1, 1, 1, 1, 1, 1, 1, 1, 1, 1, 1, 1, 1, 1, 1, 1, 1, 1, 1, 1, 1, 1, 1, 1, 1, 1, 1, 1, 1, 1, 1, 1, 1, 1, 1, 1, 1, 1, 1, 1, 1, 1, 1, 1, 1, 1, 1, 1, 1, 1, 1, 1, 1, 1, 1, 1, 1, 1, 1, 1, 1, 1, 1, 1, 1, 1, 1, 1, 1, 1, 1, 1, 1, 1, 1, 1, 1, 1, 1, 1, 1, 1, 1, 1, 1, 1, 1, 1, 1, 1, 1, 1, 1, 1, 1, 1, 1, 1, 1, 1, 1, 1, 1, 1, 1, 1, 1, 1, 1, 1, 1, 1, 1, 1, 1, 1, 1, 1, 1, 1, 1, 1, 1, 1, 1, 1, 1, 1, 1, 1, 1, 1, 1, 1, 1, 1, 1, 1, 1, 1, 1, 1, 1, 1, 1, 1, 1, 1, 1, 1, 1, 1, 1, 1, 1, 1, 1, 1, 1, 1, 1, 1, 1, 1, 1, 1, 1, 1, 1, 1, 1, 1, 1, 1, 1, 1, 1, 1, 1, 1, 1, 1, 1, 1, 1, 1, 1, 1, 1, 1, 1, 1, 1, 1, 1, 1, 0, 0, 0, 0, 0, 0, 0, 0, 0, 0, 0, 0, 0, 0, 0, 0, 0, 0, 0, 0, 0, 0, 0, 0, 0, 0, 0, 0, 0, 0, 0, 0, 0, 0, 0, 0, 0, 0, 0, 0, 0, 0, 0, 0, 0, 0, 0, 0, 0, 0, 0, 0, 0, 0, 0, 0, 0, 0, 0, 0, 0, 0, 0, 0, 0, 0, 0, 0, 0, 0, 0, 0, 0, 0, 0, 0, 0, 0, 0, 0, 0, 0, 0, 0, 0, 0, 0, 0, 0, 0, 0, 0, 0, 0, 0, 0, 0, 0, 0, 0, 0, 0, 0, 0, 0, 0, 0, 0, 0, 0, 0, 0, 0, 0, 0, 0, 0, 0, 0, 0, 0, 0, 0, 0, 0, 0, 0, 0, 0, 0, 0, 0, 0, 0, 0, 0, 0, 0, 0, 0, 0, 0, 0, 0, 0, 0, 0, 0, 0, 0, 0, 0, 0, 0, 0, 0, 0, 0, 0, 0, 0, 0, 0, 0, 0, 0, 0, 0, 0, 0, 0, 0, 0, 0, 0, 0, 0, 0, 0, 0, 0, 0, 0, 0, 0, 0, 0, 0, 0, 0, 0, 0, 0, 0, 0, 0, 0, 0, 0, 0, 0, 0, 0, 0, 0, 0, 0, 0, 0, 0, 0, 0, 0, 0, 0, 0, 0, 0, 0, 0, 0, 0, 0, 0, 0, 0, 0, 0, 0, 0, 0, 0, 0, 0, 0, 0, 0, 0, 0, 0, 0, 0, 0, 0, 0, 0, 0, 0, 0, 0, 0, 0, 0, 0, 0, 0, 0, 0, 0, 0, 0, 0, 0, 0, 0, 0, 0, 0, 0, 0, 0, 0, 0, 0, 0, 0, 0, 0, 0, 0, 0, 0, 0, 0, 0, 0, 0, 0, 0, 0, 0, 0, 0, 0, 0, 0, 0, 0, 0, 0, 0, 0, 0, 0, 0, 0, 0, 0, 0, 0, 0, 0, 0, 0, 0, 0, 0, 0, 0, 0, 0, 0, 0, 0, 0, 0, 0, 0, 0, 0, 0, 0, 0, 0, 0, 0, 0, 0, 0, 0, 0, 0, 0, 0, 0, 0, 0, 0, 0, 0, 0, 0, 0, 0, 0, 0, 0, 0, 0, 0, 0, 0, 0, 0, 0, 0, 0, 0, 0, 0, 0, 0, 0, 0, 0, 0, 0, 0, 0, 0, 0, 0, 0, 0, 0, 0, 0, 0, 0, 0, 0, 0, 0, 0, 0, 0, 0, 0, 0, 0, 0, 0, 0, 0, 0, 0, 0, 0, 0, 0, 0, 0, 0, 0, 0, 0, 0, 0, 0, 0, 0, 0, 0, 0, 0, 0, 0, 0, 0, 0, 0, 0, 0, 0, 0, 0, 0, 0, 0, 0, 0, 0, 0, 0, 0, 0, 0, 0, 0, 0, 0, 0, 0, 0, 0, 0, 0, 0, 0, 0, 0, 0, 0, 0, 0, 0, 0, 0, 0, 0, 0, 0, 0, 0, 0, 0, 0, 0, 0, 0, 0, 0, 0, 0, 0, 0, 0, 0, 0, 0, 0, 0, 0, 0, 0, 0, 0, 0, 0, 0, 0, 0, 0, 0, 0, 0, 0, 0, 0, 0, 0, 0, 0, 0, 0, 0, 0, 0, 0, 0, 0, 0, 0, 0, 0, 0, 0, 0, 0, 0, 0, 0, 0, 0, 0, 0, 0, 0, 0, 0, 0, 0, 0, 0, 0, 0, 0, 0, 0, 0, 0, 0, 0, 0, 0, 0, 0, 0, 0, 0, 0, 0, 0, 0, 0, 0, 0, 0, 0, 0, 0, 0, 0, 0, 0, 0, 0, 0, 0, 0, 0, 0, 0, 0, 0, 0, 0, 0, 0, 0, 0, 0, 0, 0, 0, 0, 0, 0, 0, 0, 0, 0, 0, 0, 0, 0, 0, 0, 0, 0, 0, 0, 0, 0, 0, 0, 0, 0, 0, 0, 0, 0, 0, 0, 0, 0, 0, 0, 0, 0, 0, 0, 0, 0, 0, 0, 0, 0, 0, 0, 0, 0, 0, 0, 0, 0, 0, 0, 0, 0, 0, 0, 0, 0, 0, 0, 0, 0, 0, 0, 0, 0, 0, 0, 0, 0, 0, 0, 0, 0, 0, 0, 0, 0, 0, 0, 0, 0, 0, 0, 0, 0, 0, 0, 0, 0, 0, 0, 0, 0, 0, 0, 0, 0, 0, 0, 0, 0, 0, 0, 0, 0, 0, 0, 0, 0, 0, 0, 0, 0, 0, 0, 0, 0, 0, 0, 0, 0, 0, 0, 0, 0, 0, 0, 0, 0, 0, 0, 0, 0, 0, 0, 0, 0, 0, 0, 0, 0, 0, 0, 0, 0, 0, 0, 0, 0, 0, 0, 0, 0, 0, 0, 0, 0, 0, 0, 0, 0, 0, 0, 0, 0, 0, 0, 0, 0, 0, 0, 0, 0, 0, 0, 0, 0, 0, 0, 0, 0, 0, 0, 0, 0, 0, 0, 0, 0, 0, 0, 0, 0, 0, 0, 0, 0, 0, 0, 0, 0, 0, 0, 0, 0, 0, 0, 0, 0, 0, 0, 0, 0, 0, 0, 0, 0, 0, 0, 0, 0, 0, 0, 0, 0, 0, 0, 0, 0, 0, 0, 0, 0, 0, 0, 0, 0, 0, 0, 0, 0, 0, 0, 0, 0, 0, 0, 0, 0, 0, 0, 0, 0, 0, 0, 0, 0, 0, 0, 0, 0, 0, 0, 0, 0, 0, 0, 0, 0, 0, 0, 0, 0, 0, 0, 0, 0, 0, 0, 0, 0, 0, 0, 0, 0, 0, 0, 0, 0, 0, 0, 0, 0, 0, 0, 0, 0, 0, 0, 0, 0, 0, 0, 0, 0, 0, 0, 0, 0, 0, 0, 0, 0, 0, 0, 0, 0, 0, 0, 0, 0, 0, 0, 0, 0, 0, 0, 0, 0, 0, 0, 0, 0, 0, 0, 0, 0, 0, 0, 0, 0, 0, 0, 0, 0, 0, 0, 0, 0, 0, 0, 0, 0, 0, 0, 0, 0, 0, 0, 0, 0, 0, 0, 0, 0, 0, 0, 0, 0, 0, 0, 0, 0, 0, 0, 0, 0, 0, 0, 0, 0, 0, 0, 0, 0, 0, 0, 0, 0, 0, 0, 0, 0, 0, 0, 0, 0, 0, 0, 0, 0, 0, 0]\n",
            "[1, 1, 1, 1, 1, 1, 1, 1, 1, 1, 1, 1, 1, 1, 1, 1, 1, 1, 1, 1, 1, 1, 1, 1, 1, 1, 1, 1, 1, 1, 1, 1, 0, 1, 1, 1, 1, 1, 1, 1, 1, 1, 1, 1, 1, 1, 1, 1, 1, 1, 1, 1, 1, 1, 1, 1, 1, 1, 1, 1, 1, 1, 1, 1, 1, 1, 1, 1, 1, 1, 1, 1, 1, 1, 1, 1, 1, 1, 1, 1, 1, 1, 1, 1, 1, 1, 1, 1, 1, 1, 1, 1, 1, 1, 1, 1, 1, 1, 1, 1, 1, 1, 1, 1, 1, 1, 1, 1, 1, 1, 1, 1, 1, 0, 1, 1, 1, 1, 1, 1, 1, 0, 1, 1, 1, 1, 0, 1, 1, 1, 1, 1, 1, 1, 1, 1, 1, 1, 1, 1, 1, 1, 1, 0, 1, 1, 1, 1, 1, 1, 1, 1, 1, 1, 1, 1, 1, 1, 1, 1, 1, 1, 1, 1, 1, 1, 1, 0, 1, 1, 1, 1, 0, 1, 1, 1, 1, 1, 1, 1, 1, 1, 1, 1, 1, 1, 1, 1, 1, 1, 1, 1, 1, 1, 1, 1, 1, 1, 1, 1, 1, 1, 1, 1, 1, 1, 1, 1, 1, 1, 1, 1, 1, 0, 1, 1, 1, 1, 1, 1, 1, 1, 1, 1, 1, 1, 1, 1, 1, 1, 1, 1, 1, 1, 1, 1, 1, 1, 1, 1, 1, 1, 1, 1, 1, 1, 1, 1, 1, 1, 1, 1, 1, 1, 1, 1, 1, 1, 1, 1, 1, 1, 1, 1, 1, 1, 1, 1, 1, 1, 1, 1, 1, 1, 1, 1, 1, 1, 1, 1, 1, 1, 1, 1, 1, 1, 1, 1, 1, 1, 1, 1, 1, 1, 1, 1, 1, 1, 0, 1, 1, 0, 1, 1, 1, 1, 1, 1, 1, 1, 1, 1, 1, 1, 1, 1, 1, 1, 1, 1, 1, 1, 1, 1, 1, 1, 1, 0, 1, 1, 1, 1, 1, 1, 1, 1, 1, 1, 1, 0, 1, 1, 1, 1, 1, 1, 1, 1, 1, 1, 1, 1, 1, 0, 1, 1, 1, 1, 0, 1, 1, 1, 1, 1, 1, 1, 1, 1, 1, 1, 1, 1, 1, 1, 1, 1, 1, 1, 1, 1, 1, 1, 1, 1, 1, 1, 1, 1, 1, 1, 1, 1, 1, 1, 1, 1, 1, 1, 1, 1, 1, 1, 1, 1, 0, 1, 1, 1, 1, 1, 1, 1, 1, 1, 1, 1, 1, 0, 1, 1, 1, 1, 1, 1, 1, 1, 1, 1, 1, 1, 1, 1, 1, 1, 1, 1, 1, 1, 0, 1, 1, 1, 1, 1, 1, 1, 0, 1, 0, 1, 1, 1, 1, 1, 1, 1, 1, 1, 1, 1, 1, 1, 1, 1, 1, 1, 1, 0, 1, 1, 1, 1, 0, 1, 1, 1, 1, 1, 1, 1, 1, 1, 1, 1, 0, 1, 1, 1, 1, 1, 1, 1, 1, 1, 1, 1, 1, 1, 0, 1, 1, 1, 1, 1, 1, 1, 0, 1, 1, 1, 1, 1, 1, 0, 1, 1, 1, 1, 1, 1, 1, 1, 1, 1, 1, 1, 1, 1, 1, 1, 1, 1, 1, 0, 1, 1, 1, 1, 1, 1, 1, 1, 0, 1, 1, 1, 1, 0, 1, 1, 1, 0, 1, 1, 1, 1, 1, 1, 1, 1, 1, 1, 1, 0, 1, 1, 1, 1, 1, 0, 1, 1, 0, 1, 1, 1, 1, 1, 0, 0, 1, 1, 1, 1, 1, 1, 1, 1, 1, 1, 1, 1, 0, 1, 1, 1, 1, 1, 1, 1, 1, 1, 1, 1, 1, 1, 1, 1, 1, 1, 1, 1, 1, 0, 1, 1, 1, 1, 1, 1, 1, 0, 1, 1, 1, 1, 1, 1, 1, 1, 1, 1, 1, 1, 1, 1, 1, 1, 1, 1, 1, 0, 1, 1, 1, 1, 1, 1, 1, 1, 1, 1, 1, 1, 1, 1, 1, 0, 1, 1, 1, 1, 1, 1, 1, 1, 1, 1, 1, 1, 1, 1, 1, 1, 1, 1, 1, 1, 1, 1, 1, 1, 1, 1, 1, 1, 1, 1, 0, 0, 1, 1, 0, 1, 1, 1, 1, 1, 1, 1, 1, 0, 1, 1, 1, 1, 1, 1, 1, 1, 1, 1, 1, 1, 1, 1, 1, 1, 0, 1, 1, 1, 1, 1, 0, 1, 1, 1, 1, 1, 1, 1, 1, 1, 1, 1, 1, 1, 1, 1, 1, 1, 1, 1, 1, 1, 1, 1, 1, 1, 1, 1, 1, 1, 1, 1, 1, 1, 1, 1, 1, 1, 1, 1, 1, 1, 1, 1, 1, 1, 1, 1, 1, 1, 1, 1, 1, 1, 1, 1, 1, 1, 1, 1, 1, 1, 1, 1, 1, 1, 1, 1, 1, 1, 1, 1, 1, 1, 1, 1, 1, 1, 0, 1, 1, 1, 1, 1, 1, 1, 1, 1, 1, 1, 1, 1, 1, 1, 1, 1, 1, 1, 1, 1, 1, 1, 1, 1, 1, 1, 1, 1, 1, 1, 1, 1, 1, 1, 1, 1, 1, 1, 1, 1, 1, 1, 1, 1, 1, 1, 1, 1, 0, 1, 1, 1, 1, 1, 1, 1, 1, 1, 0, 0, 1, 1, 1, 1, 0, 1, 1, 1, 1, 1, 1, 1, 1, 1, 1, 1, 1, 1, 1, 1, 1, 1, 1, 1, 1, 1, 1, 1, 1, 1, 1, 1, 1, 1, 1, 1, 1, 1, 1, 1, 0, 1, 1, 1, 1, 1, 1, 1, 1, 1, 1, 0, 1, 1, 1, 1, 1, 1, 1, 1, 1, 1, 1, 1, 1, 1, 1, 1, 1, 1, 1, 1, 1, 1, 1, 1, 1, 1, 1, 0, 1, 1, 1, 0, 1, 1, 1, 1, 1, 1, 1, 1, 1, 1, 1, 0, 1, 1, 1, 1, 1, 1, 1, 1, 1, 1, 1, 1, 1, 1, 1, 1, 1, 1, 1, 1, 1, 1, 1, 1, 1, 1, 1, 1, 1, 1, 1, 1, 0, 1, 1, 1, 1, 1, 1, 1, 1, 1, 0, 0, 1, 0, 0, 0, 0, 1, 1, 0, 1, 1, 1, 0, 0, 1, 1, 0, 1, 0, 1, 1, 0, 0, 1, 1, 1, 0, 1, 0, 1, 1, 0, 0, 1, 1, 1, 0, 1, 0, 1, 0, 0, 0, 1, 0, 1, 1, 0, 0, 0, 1, 0, 0, 1, 1, 1, 1, 1, 0, 1, 0, 1, 1, 1, 0, 0, 1, 1, 1, 0, 0, 0, 0, 1, 1, 1, 1, 0, 1, 1, 1, 1, 1, 1, 1, 1, 1, 1, 0, 0, 1, 1, 0, 1, 1, 0, 1, 1, 1, 0, 0, 1, 1, 1, 0, 1, 1, 0, 0, 0, 0, 1, 1, 0, 1, 0, 1, 1, 1, 0, 0, 0, 1, 1, 1, 0, 1, 1, 0, 1, 1, 0, 1, 1, 0, 1, 1, 0, 0, 1, 1, 1, 0, 0, 1, 1, 0, 0, 1, 0, 1, 0, 0, 1, 0, 1, 1, 0, 0, 1, 0, 0, 1, 0, 0, 0, 0, 0, 1, 0, 1, 0, 0, 0, 0, 0, 1, 0, 0, 1, 1, 0, 0, 1, 0, 0, 0, 1, 0, 0, 1, 0, 1, 1, 0, 0, 0, 0, 1, 0, 0, 0, 0, 1, 0, 1, 1, 1, 0, 0, 1, 1, 0, 0, 0, 0, 1, 0, 0, 1, 0, 0, 1, 1, 1, 0, 0, 0, 0, 0, 0, 0, 0, 0, 1, 1, 1, 0, 1, 0, 0, 0, 0, 1, 1, 1, 0, 0, 0, 0, 0, 1, 0, 1, 0, 1, 0, 1, 1, 0, 0, 0, 1, 0, 1, 0, 1, 1, 1, 0, 1, 1, 0, 1, 0, 0, 0, 1, 1, 0, 0, 1, 0, 1, 1, 1, 1, 0, 1, 0, 1, 0, 0, 0, 1, 0, 0, 1, 1, 0, 1, 0, 1, 1, 1, 0, 1, 0, 0, 0, 1, 1, 1, 0, 0, 0, 1, 0, 1, 1, 1, 0, 1, 1, 0, 1, 0, 1, 1, 1, 1, 1, 1, 1, 1, 1, 1, 0, 0, 0, 1, 0, 0, 1, 1, 1, 1, 1, 0, 1, 1, 1, 1, 1, 0, 1, 0, 1, 1, 0, 1, 1, 1, 1, 0, 1, 1, 0, 1, 0, 1, 0, 0, 0, 0, 1, 1, 1, 0, 1, 0, 1, 1, 0, 1, 1, 1, 0, 0, 1, 0, 1, 1, 0, 1, 0, 0, 0, 1, 0, 0, 1, 0, 1, 1, 1, 1, 0, 0, 1, 1, 0, 1, 0, 1, 0, 0, 0, 0, 0, 0, 0, 0, 0, 1, 0, 1, 1, 1, 0, 1, 0, 0, 1, 1, 1, 1, 1, 1, 1, 0, 0, 0, 0, 0, 0, 0, 0, 0, 0, 1, 1, 0, 1, 0, 1, 0, 1, 0, 1, 1, 0, 0, 1, 1, 0, 1, 1, 1, 0, 1, 0, 1, 0, 0, 0, 1, 1, 1, 0, 1, 1, 1, 0, 1, 1, 0, 1, 1, 1, 1, 0, 0, 1, 0, 1, 1, 1, 0, 1, 1, 0, 0, 1, 1, 1, 0, 1, 0, 0, 1, 1, 1, 0, 0, 0, 1, 1, 0, 0, 1, 0, 1, 1, 1, 0, 1, 1, 0, 1, 0, 0, 1, 1, 0, 1, 1, 1, 1, 1, 1, 1, 0, 1, 1, 0, 1, 0, 1, 1, 1, 1, 1, 0, 1, 0, 1, 0, 1, 1, 0, 0, 0, 0, 1, 1, 0, 1, 0, 0, 1, 1, 0, 1, 1, 1, 0, 1, 0, 0, 1, 0, 0, 1, 0, 0, 1, 1, 1, 0, 1, 1, 1, 1, 1, 1, 1, 1, 1, 1, 1, 0, 0, 1, 1, 0, 1, 0, 0, 0, 0, 0, 1, 0, 0, 0, 0, 0, 0, 0, 1, 1, 0, 0, 0, 0, 0, 0, 0, 0, 1, 1, 0, 0, 0, 0, 0, 1, 1, 1, 0, 1, 1, 1, 1, 0, 1, 1, 1, 1, 0, 0, 1, 1, 1, 1, 1, 0, 1, 0, 0, 0, 0, 0, 0, 1, 1, 0, 0, 0, 0, 0, 1, 0, 0, 1, 1, 0, 1, 0, 1, 0, 1, 0, 1, 1, 0, 0, 0, 0, 0, 0, 1, 1, 0, 1, 0, 0, 0, 0, 1, 0, 1, 1, 0, 1, 1, 1, 1, 1, 0, 1, 0, 1, 0, 1, 1, 1, 1, 1, 0, 1, 1, 1, 1, 0, 1, 0, 0, 1, 1, 0, 1, 0, 1, 0, 0, 0, 0, 1, 0, 1, 0, 1, 1, 1, 1, 1, 0, 1, 0, 0, 0, 0, 1, 1, 1, 0, 1, 0, 1, 1, 0, 1, 1, 1, 1, 1, 0, 0, 0, 0, 0, 1, 0, 1, 1, 0, 1, 1, 0, 0, 0, 0, 1, 1, 1, 1, 0, 0, 0, 0, 1, 0, 1, 1, 0, 0, 0, 0, 1, 1, 1, 1, 1, 1, 0, 0, 0, 0, 0, 0, 1, 0, 1, 1, 1, 1, 0, 0, 1, 0, 1, 1, 1, 0, 1, 0, 0, 0, 0, 0, 0, 0, 0, 1, 0, 1, 1, 0, 1, 0, 1, 1, 0, 1, 1, 1, 1, 0, 0, 0, 0, 1, 1, 0, 0, 1, 0, 1, 0, 0, 1, 1, 1, 0, 1, 0, 0, 0, 0, 1, 0, 0, 0, 0, 1, 1, 1, 0, 1, 1, 1, 0, 1, 0, 1, 1, 0, 0, 1, 0, 1, 1, 1, 0, 0, 0, 1, 0, 0, 1, 0, 1, 1, 1, 0, 1, 1, 1, 1, 1, 1, 1, 1, 1, 1, 0, 1, 1, 0, 1, 1, 1, 0, 1, 1, 0, 1, 0, 1, 0, 1, 0, 1, 1, 0, 1, 1, 0, 1, 1, 1, 0, 0, 1, 1, 0, 1, 0, 1, 1, 1, 1, 0, 0, 0, 0, 1, 0, 0, 0, 0, 0, 1, 0, 1, 1, 0, 0, 0, 0, 0, 0, 1, 1, 0, 1, 0, 1, 1, 1, 1, 0, 1, 1, 0, 1, 0, 0, 1, 0, 1, 0, 0, 1, 1]\n"
          ]
        }
      ]
    },
    {
      "cell_type": "code",
      "source": [
        "def calculate_metrics(valid_labels, predicted_labels):\n",
        "    # Calculate accuracy\n",
        "    accuracy = sum(1 for v, p in zip(valid_labels, predicted_labels) if v == p) / len(valid_labels)\n",
        "\n",
        "    # Calculate true positives, false positives, and false negatives\n",
        "    true_positives = sum(1 for v, p in zip(valid_labels, predicted_labels) if v == p and v == 1)\n",
        "    false_positives = sum(1 for v, p in zip(valid_labels, predicted_labels) if v != p and p == 1)\n",
        "    false_negatives = sum(1 for v, p in zip(valid_labels, predicted_labels) if v != p and v == 1)\n",
        "\n",
        "    # Calculate precision\n",
        "    precision = true_positives / (true_positives + false_positives) if (true_positives + false_positives) > 0 else 0\n",
        "\n",
        "    # Calculate recall\n",
        "    recall = true_positives / (true_positives + false_negatives) if (true_positives + false_negatives) > 0 else 0\n",
        "\n",
        "    # Calculate F1 score\n",
        "    f1_score = 2 * (precision * recall) / (precision + recall) if (precision + recall) > 0 else 0\n",
        "\n",
        "    return accuracy, precision, recall, f1_score, true_positives, false_positives, false_negatives\n",
        "\n",
        "# Calculate metrics\n",
        "accuracy, precision, recall, f1_score, true_positives, false_positives, false_negatives = calculate_metrics(valid_labels, predicted_labels)\n",
        "\n",
        "# Print results\n",
        "print(\"Accuracy:\", accuracy)\n",
        "print(\"Precision:\", precision)\n",
        "print(\"Recall:\", recall)\n",
        "print(\"F1 Score:\", f1_score)\n",
        "print(\"false_positives:\", false_positives)\n",
        "print(\"false_negatives:\", false_negatives)"
      ],
      "metadata": {
        "colab": {
          "base_uri": "https://localhost:8080/"
        },
        "id": "VmmKUc5xREqF",
        "outputId": "b897c79d-edc0-4137-dc9a-cef69c99468a"
      },
      "execution_count": null,
      "outputs": [
        {
          "output_type": "stream",
          "name": "stdout",
          "text": [
            "Accuracy: 0.7105\n",
            "Precision: 0.643490115882754\n",
            "Recall: 0.944\n",
            "F1 Score: 0.7653019862180787\n",
            "false_positives: 523\n",
            "false_negatives: 56\n"
          ]
        }
      ]
    }
  ]
}