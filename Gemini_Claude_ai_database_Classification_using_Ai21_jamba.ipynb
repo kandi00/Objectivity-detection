{
  "nbformat": 4,
  "nbformat_minor": 0,
  "metadata": {
    "colab": {
      "provenance": [],
      "authorship_tag": "ABX9TyPNOVa1aKeIFxohMpYkVVZZ",
      "include_colab_link": true
    },
    "kernelspec": {
      "name": "python3",
      "display_name": "Python 3"
    },
    "language_info": {
      "name": "python"
    }
  },
  "cells": [
    {
      "cell_type": "markdown",
      "metadata": {
        "id": "view-in-github",
        "colab_type": "text"
      },
      "source": [
        "<a href=\"https://colab.research.google.com/github/kandi00/Objectivity-detection/blob/main/Gemini_Claude_ai_database_Classification_using_Ai21_jamba.ipynb\" target=\"_parent\"><img src=\"https://colab.research.google.com/assets/colab-badge.svg\" alt=\"Open In Colab\"/></a>"
      ]
    },
    {
      "cell_type": "code",
      "source": [
        "from google.colab import drive\n",
        "drive.mount('/content/drive')"
      ],
      "metadata": {
        "colab": {
          "base_uri": "https://localhost:8080/"
        },
        "id": "HIhFwUPH_LEc",
        "outputId": "efdeb5ce-fa51-4b96-8dd2-74ab564ee1c5"
      },
      "execution_count": null,
      "outputs": [
        {
          "output_type": "stream",
          "name": "stdout",
          "text": [
            "Drive already mounted at /content/drive; to attempt to forcibly remount, call drive.mount(\"/content/drive\", force_remount=True).\n"
          ]
        }
      ]
    },
    {
      "cell_type": "code",
      "source": [
        "from google.colab import userdata\n",
        "api_key = userdata.get('AI21_API_KEY')"
      ],
      "metadata": {
        "id": "69Avi8GY-BU-"
      },
      "execution_count": null,
      "outputs": []
    },
    {
      "cell_type": "code",
      "source": [
        "!pip install ai21"
      ],
      "metadata": {
        "id": "ema-HnWW_Mbs"
      },
      "execution_count": null,
      "outputs": []
    },
    {
      "cell_type": "code",
      "source": [
        "def chatWithAI21Client(message):\n",
        "    messages = [\n",
        "      ChatMessage(\n",
        "        role=\"user\",\n",
        "        content = f\"\"\" You are an expert linguist and have to classify whether a sentence is subjective or objective.\n",
        "                  Something is subjective if it is dependent on a mind. Something is objective if it can be confirmed independently of a mind.\n",
        "                  Your response should only contain one word. The sentence is the following : {message}. \"\"\"\n",
        "      )\n",
        "    ]\n",
        "    response = client.chat.completions.create(\n",
        "    model=\"jamba-instruct\",\n",
        "    messages=messages,\n",
        "    temperature=0\n",
        "    )\n",
        "    return response.choices[0].message.content"
      ],
      "metadata": {
        "id": "7M3AMl8SlisM"
      },
      "execution_count": null,
      "outputs": []
    },
    {
      "cell_type": "code",
      "source": [
        "from ai21 import AI21Client\n",
        "import time\n",
        "import pandas as pd\n",
        "from ai21.models.chat import ChatMessage\n",
        "\n",
        "client = AI21Client(api_key)\n",
        "ls = []\n",
        "file_path = \"/content/drive/My Drive/Disszertacio/gemini_test.tsv\"\n",
        "# file_path = \"/content/drive/My Drive/Disszertacio/Claude_ai_test.tsv\"\n",
        "test_data = pd.read_csv(file_path, delimiter='\\t')\n",
        "print(test_data)\n",
        "\n",
        "text_column = test_data.iloc[:, 0]\n",
        "\n",
        "for message in text_column:\n",
        "  ls.append(chatWithAI21Client(message))\n",
        "  time.sleep(0.5)"
      ],
      "metadata": {
        "id": "HsZUVQyq-Ck8",
        "colab": {
          "base_uri": "https://localhost:8080/"
        },
        "outputId": "86156372-83ac-4518-c7fa-f267b8cf3b38"
      },
      "execution_count": null,
      "outputs": [
        {
          "output_type": "stream",
          "name": "stdout",
          "text": [
            "                                                  text  label\n",
            "0    The protagonist's journey in this book feels i...      1\n",
            "1    The way the sunlight filters through the leave...      1\n",
            "2    This documentary changed my perspective on a c...      1\n",
            "3    The ending of that movie left me feeling utter...      1\n",
            "4    The vibrant colors in this painting evoke a se...      1\n",
            "..                                                 ...    ...\n",
            "195  The painting is a symbolic representation of a...      0\n",
            "196  The building is undergoing renovations to mode...      0\n",
            "197  The recipe is a vegetarian option that is stil...      0\n",
            "198  This building serves as a public library and o...      0\n",
            "199  The population of this country is aging rapidl...      0\n",
            "\n",
            "[200 rows x 2 columns]\n"
          ]
        }
      ]
    },
    {
      "cell_type": "code",
      "source": [
        "print(ls)"
      ],
      "metadata": {
        "colab": {
          "base_uri": "https://localhost:8080/"
        },
        "id": "ah90Twh3SC4v",
        "outputId": "73b02886-7706-4756-d5e4-30f0ee03fe6a"
      },
      "execution_count": null,
      "outputs": [
        {
          "output_type": "stream",
          "name": "stdout",
          "text": [
            "['Subjective.', 'Subjective.', 'Subjective.', 'Subjective.', 'Subjective.', 'Subjective.', 'Subjective.', 'Subjective.', 'Subjective.', 'Subjective.', 'Subjective.', 'Subjective.', 'subjective', 'Subjective.', 'Subjective.', 'Subjective.', 'Subjective.', 'Subjective.', 'Subjective.', 'Subjective.', 'Subjective.', 'Subjective.', 'Subjective.', 'Subjective.', 'Subjective.', 'Subjective.', 'Subjective.', 'Subjective.', 'Subjective.', 'Subjective.', 'Subjective.', 'Subjective.', 'Subjective.', 'subjective', 'Subjective.', 'Subjective.', 'Subjective.', 'Subjective.', 'Subjective.', 'Subjective.', 'Subjective.', 'Subjective.', 'Subjective.', 'Subjective.', 'Subjective.', 'Subjective.', 'Subjective.', 'Subjective.', 'Subjective.', 'Subjective.', 'Subjective.', 'Subjective.', 'Subjective.', 'Subjective.', 'Subjective.', 'Subjective.', 'Subjective.', 'Subjective.', 'Subjective.', 'Subjective.', 'Subjective.', 'Subjective.', 'Subjective.', 'Subjective.', 'Subjective.', 'Subjective.', 'Subjective.', 'Subjective.', 'Subjective.', 'Subjective.', 'Subjective.', 'Subjective.', 'Subjective.', 'Subjective.', 'Subjective.', 'Subjective.', 'Subjective.', 'Subjective.', 'Subjective.', 'Subjective.', 'Subjective.', 'Subjective.', 'Subjective.', 'Subjective.', 'Subjective.', 'Subjective.', 'Subjective.', 'Subjective.', 'Subjective.', 'Subjective.', 'Subjective.', 'Subjective.', 'Subjective.', 'Subjective.', 'Subjective.', 'Subjective.', 'Subjective.', 'Subjective.', 'Subjective.', 'Subjective.', 'Objective.', 'Objective.', 'Objective.', 'Objective.', 'Objective.', 'Objective.', 'Objective.', 'Objective.', 'Objective.', 'Objective.', 'Objective.', 'Objective.', 'Objective.', 'Objective.', 'Objective.', 'Objective.', 'Objective.', 'Objective.', 'Objective.', 'Objective.', 'Objective.', 'Objective.', 'Objective.', 'Objective.', 'Objective.', 'Objective.', 'Objective.', 'Objective.', 'Objective.', 'Objective.', 'Objective.', 'Objective.', 'Objective.', 'Objective.', 'Objective.', 'Objective.', 'Objective.', 'Subjective.', 'Objective.', 'Objective.', 'Objective.', 'Objective.', 'Objective.', 'Objective.', 'Objective.', 'Objective.', 'Objective.', 'Objective.', 'Objective.', 'Objective.', 'Objective.', 'Objective.', 'Objective.', 'Objective.', 'Objective.', 'Objective.', 'Objective.', 'Objective.', 'Objective.', 'Objective.', 'Objective.', 'Objective.', 'Objective.', 'Objective.', 'Objective.', 'Subjective.', 'Objective.', 'Objective.', 'Objective.', 'Objective.', 'Objective.', 'Objective.', 'Objective.', 'Objective.', 'Subjective.', 'Objective.', 'Objective.', 'Subjective.', 'Objective.', 'Objective.', 'Objective.', 'Subjective.', 'Objective.', 'Objective.', 'Objective.', 'Objective.', 'Subjective.', 'Objective.', 'Subjective.', 'Objective.', 'Objective.', 'Objective.', 'Objective.', 'Objective.', 'Objective.', 'Subjective.', 'Objective.', 'Subjective.', 'Objective.', 'Objective.']\n"
          ]
        }
      ]
    },
    {
      "cell_type": "code",
      "source": [
        "print(len(ls))\n",
        "predicted_text_lables = [item.replace('\\n', '').replace('.', '').replace('**', '') for item in ls]\n",
        "print(predicted_text_lables)"
      ],
      "metadata": {
        "colab": {
          "base_uri": "https://localhost:8080/"
        },
        "id": "xIB66dxWSEB-",
        "outputId": "665e9223-1e55-48ba-8699-f8ce0dfaa9ca"
      },
      "execution_count": null,
      "outputs": [
        {
          "output_type": "stream",
          "name": "stdout",
          "text": [
            "200\n",
            "['Subjective', 'Subjective', 'Subjective', 'Subjective', 'Subjective', 'Subjective', 'Subjective', 'Subjective', 'Subjective', 'Subjective', 'Subjective', 'Subjective', 'subjective', 'Subjective', 'Subjective', 'Subjective', 'Subjective', 'Subjective', 'Subjective', 'Subjective', 'Subjective', 'Subjective', 'Subjective', 'Subjective', 'Subjective', 'Subjective', 'Subjective', 'Subjective', 'Subjective', 'Subjective', 'Subjective', 'Subjective', 'Subjective', 'subjective', 'Subjective', 'Subjective', 'Subjective', 'Subjective', 'Subjective', 'Subjective', 'Subjective', 'Subjective', 'Subjective', 'Subjective', 'Subjective', 'Subjective', 'Subjective', 'Subjective', 'Subjective', 'Subjective', 'Subjective', 'Subjective', 'Subjective', 'Subjective', 'Subjective', 'Subjective', 'Subjective', 'Subjective', 'Subjective', 'Subjective', 'Subjective', 'Subjective', 'Subjective', 'Subjective', 'Subjective', 'Subjective', 'Subjective', 'Subjective', 'Subjective', 'Subjective', 'Subjective', 'Subjective', 'Subjective', 'Subjective', 'Subjective', 'Subjective', 'Subjective', 'Subjective', 'Subjective', 'Subjective', 'Subjective', 'Subjective', 'Subjective', 'Subjective', 'Subjective', 'Subjective', 'Subjective', 'Subjective', 'Subjective', 'Subjective', 'Subjective', 'Subjective', 'Subjective', 'Subjective', 'Subjective', 'Subjective', 'Subjective', 'Subjective', 'Subjective', 'Subjective', 'Objective', 'Objective', 'Objective', 'Objective', 'Objective', 'Objective', 'Objective', 'Objective', 'Objective', 'Objective', 'Objective', 'Objective', 'Objective', 'Objective', 'Objective', 'Objective', 'Objective', 'Objective', 'Objective', 'Objective', 'Objective', 'Objective', 'Objective', 'Objective', 'Objective', 'Objective', 'Objective', 'Objective', 'Objective', 'Objective', 'Objective', 'Objective', 'Objective', 'Objective', 'Objective', 'Objective', 'Objective', 'Subjective', 'Objective', 'Objective', 'Objective', 'Objective', 'Objective', 'Objective', 'Objective', 'Objective', 'Objective', 'Objective', 'Objective', 'Objective', 'Objective', 'Objective', 'Objective', 'Objective', 'Objective', 'Objective', 'Objective', 'Objective', 'Objective', 'Objective', 'Objective', 'Objective', 'Objective', 'Objective', 'Objective', 'Subjective', 'Objective', 'Objective', 'Objective', 'Objective', 'Objective', 'Objective', 'Objective', 'Objective', 'Subjective', 'Objective', 'Objective', 'Subjective', 'Objective', 'Objective', 'Objective', 'Subjective', 'Objective', 'Objective', 'Objective', 'Objective', 'Subjective', 'Objective', 'Subjective', 'Objective', 'Objective', 'Objective', 'Objective', 'Objective', 'Objective', 'Subjective', 'Objective', 'Subjective', 'Objective', 'Objective']\n"
          ]
        }
      ]
    },
    {
      "cell_type": "code",
      "source": [
        "# Sentences which are longer that 15 characters will be replaced with \"subjective\" or \"objective\"\n",
        "def replace_centences(sentences):\n",
        "    result = []\n",
        "    for sentence in sentences:\n",
        "        if len(sentence) > 15 and \"Subjective\" in sentence:\n",
        "            result.append(\"subjective\")\n",
        "        elif \"objective\" in sentence:\n",
        "            result.append(\"objective\")\n",
        "        else:\n",
        "            result.append(sentence)\n",
        "    return result"
      ],
      "metadata": {
        "id": "NyaZNzOVFalK"
      },
      "execution_count": null,
      "outputs": []
    },
    {
      "cell_type": "code",
      "source": [
        "predicted_text_lables = replace_centences(predicted_text_lables)"
      ],
      "metadata": {
        "id": "Iu3poOXyFu8c"
      },
      "execution_count": null,
      "outputs": []
    },
    {
      "cell_type": "code",
      "source": [
        "valid_labels = [1] * 100 + [0] * 100"
      ],
      "metadata": {
        "id": "3Bdawrb1f94U"
      },
      "execution_count": null,
      "outputs": []
    },
    {
      "cell_type": "code",
      "source": [
        "label_map = {'subjective': 1, 'objective': 0, 'subject': 1, 'object': 0, 'Subjective' : 1, 'Objective' : 0, 'Subject' : 1, 'objevtove' : 0}\n",
        "# Convert labels to binary values\n",
        "predicted_labels = [label_map[label] for label in predicted_text_lables]\n",
        "\n",
        "print(valid_labels)\n",
        "print(predicted_labels)"
      ],
      "metadata": {
        "colab": {
          "base_uri": "https://localhost:8080/"
        },
        "id": "zJcef9XEFd6D",
        "outputId": "a04c228a-d692-4e33-c9ad-0e366684e591"
      },
      "execution_count": null,
      "outputs": [
        {
          "output_type": "stream",
          "name": "stdout",
          "text": [
            "[1, 1, 1, 1, 1, 1, 1, 1, 1, 1, 1, 1, 1, 1, 1, 1, 1, 1, 1, 1, 1, 1, 1, 1, 1, 1, 1, 1, 1, 1, 1, 1, 1, 1, 1, 1, 1, 1, 1, 1, 1, 1, 1, 1, 1, 1, 1, 1, 1, 1, 1, 1, 1, 1, 1, 1, 1, 1, 1, 1, 1, 1, 1, 1, 1, 1, 1, 1, 1, 1, 1, 1, 1, 1, 1, 1, 1, 1, 1, 1, 1, 1, 1, 1, 1, 1, 1, 1, 1, 1, 1, 1, 1, 1, 1, 1, 1, 1, 1, 1, 0, 0, 0, 0, 0, 0, 0, 0, 0, 0, 0, 0, 0, 0, 0, 0, 0, 0, 0, 0, 0, 0, 0, 0, 0, 0, 0, 0, 0, 0, 0, 0, 0, 0, 0, 0, 0, 0, 0, 0, 0, 0, 0, 0, 0, 0, 0, 0, 0, 0, 0, 0, 0, 0, 0, 0, 0, 0, 0, 0, 0, 0, 0, 0, 0, 0, 0, 0, 0, 0, 0, 0, 0, 0, 0, 0, 0, 0, 0, 0, 0, 0, 0, 0, 0, 0, 0, 0, 0, 0, 0, 0, 0, 0, 0, 0, 0, 0, 0, 0]\n",
            "[1, 1, 1, 1, 1, 1, 1, 1, 1, 1, 1, 1, 1, 1, 1, 1, 1, 1, 1, 1, 1, 1, 1, 1, 1, 1, 1, 1, 1, 1, 1, 1, 1, 1, 1, 1, 1, 1, 1, 1, 1, 1, 1, 1, 1, 1, 1, 1, 1, 1, 1, 1, 1, 1, 1, 1, 1, 1, 1, 1, 1, 1, 1, 1, 1, 1, 1, 1, 1, 1, 1, 1, 1, 1, 1, 1, 1, 1, 1, 1, 1, 1, 1, 1, 1, 1, 1, 1, 1, 1, 1, 1, 1, 1, 1, 1, 1, 1, 1, 1, 0, 0, 0, 0, 0, 0, 0, 0, 0, 0, 0, 0, 0, 0, 0, 0, 0, 0, 0, 0, 0, 0, 0, 0, 0, 0, 0, 0, 0, 0, 0, 0, 0, 0, 0, 0, 0, 1, 0, 0, 0, 0, 0, 0, 0, 0, 0, 0, 0, 0, 0, 0, 0, 0, 0, 0, 0, 0, 0, 0, 0, 0, 0, 0, 0, 1, 0, 0, 0, 0, 0, 0, 0, 0, 1, 0, 0, 1, 0, 0, 0, 1, 0, 0, 0, 0, 1, 0, 1, 0, 0, 0, 0, 0, 0, 1, 0, 1, 0, 0]\n"
          ]
        }
      ]
    },
    {
      "cell_type": "code",
      "source": [
        "def calculate_metrics(valid_labels, predicted_labels):\n",
        "    # Calculate accuracy\n",
        "    accuracy = sum(1 for v, p in zip(valid_labels, predicted_labels) if v == p) / len(valid_labels)\n",
        "\n",
        "    # Calculate true positives, false positives, and false negatives\n",
        "    true_positives = sum(1 for v, p in zip(valid_labels, predicted_labels) if v == p and v == 1)\n",
        "    true_negatives = sum(1 for v, p in zip(valid_labels, predicted_labels) if v == p and v == 0)\n",
        "    false_positives = sum(1 for v, p in zip(valid_labels, predicted_labels) if v != p and p == 1)\n",
        "    false_negatives = sum(1 for v, p in zip(valid_labels, predicted_labels) if v != p and v == 1)\n",
        "\n",
        "    # Calculate precision\n",
        "    precision = true_positives / (true_positives + false_positives) if (true_positives + false_positives) > 0 else 0\n",
        "\n",
        "    # Calculate recall\n",
        "    recall = true_positives / (true_positives + false_negatives) if (true_positives + false_negatives) > 0 else 0\n",
        "\n",
        "    # Calculate F1 score\n",
        "    f1_score = 2 * (precision * recall) / (precision + recall) if (precision + recall) > 0 else 0\n",
        "\n",
        "    return accuracy, precision, recall, f1_score, true_positives, false_positives, false_negatives, true_negatives\n",
        "\n",
        "# Calculate metrics\n",
        "accuracy, precision, recall, f1_score, true_positives, false_positives, false_negatives, true_negatives = calculate_metrics(valid_labels, predicted_labels)\n",
        "\n",
        "# Print results\n",
        "print(\"Accuracy:\", accuracy)\n",
        "print(\"Precision:\", precision)\n",
        "print(\"Recall:\", recall)\n",
        "print(\"F1 Score:\", f1_score)\n",
        "print(\"false_positives:\", false_positives)\n",
        "print(\"false_negatives:\", false_negatives)\n",
        "print(\"true_positives:\", true_positives)\n",
        "print(\"true_negatives:\", true_negatives)"
      ],
      "metadata": {
        "colab": {
          "base_uri": "https://localhost:8080/"
        },
        "id": "ppOxcjhZFrnS",
        "outputId": "ee20a924-4cbf-4199-c91e-37eaa405a1d3"
      },
      "execution_count": null,
      "outputs": [
        {
          "output_type": "stream",
          "name": "stdout",
          "text": [
            "Accuracy: 0.955\n",
            "Precision: 0.9174311926605505\n",
            "Recall: 1.0\n",
            "F1 Score: 0.9569377990430622\n",
            "false_positives: 9\n",
            "false_negatives: 0\n",
            "true_positives: 100\n",
            "true_negatives: 91\n"
          ]
        }
      ]
    }
  ]
}