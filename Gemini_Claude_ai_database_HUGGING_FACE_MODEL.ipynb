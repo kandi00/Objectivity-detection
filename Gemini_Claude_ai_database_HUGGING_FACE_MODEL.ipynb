{
  "nbformat": 4,
  "nbformat_minor": 0,
  "metadata": {
    "colab": {
      "provenance": [],
      "machine_shape": "hm",
      "authorship_tag": "ABX9TyM8hYdVbby0qrZj+PabWLGv",
      "include_colab_link": true
    },
    "kernelspec": {
      "name": "python3",
      "display_name": "Python 3"
    },
    "language_info": {
      "name": "python"
    }
  },
  "cells": [
    {
      "cell_type": "markdown",
      "metadata": {
        "id": "view-in-github",
        "colab_type": "text"
      },
      "source": [
        "<a href=\"https://colab.research.google.com/github/kandi00/Objectivity-detection/blob/main/Gemini_Claude_ai_database_HUGGING_FACE_MODEL.ipynb\" target=\"_parent\"><img src=\"https://colab.research.google.com/assets/colab-badge.svg\" alt=\"Open In Colab\"/></a>"
      ]
    },
    {
      "cell_type": "markdown",
      "source": [
        "THE MODEL: https://huggingface.co/cffl/bert-base-styleclassification-subjective-neutral"
      ],
      "metadata": {
        "id": "8tkIu3N1HFQK"
      }
    },
    {
      "cell_type": "code",
      "source": [
        "from google.colab import drive\n",
        "drive.mount('/content/drive')"
      ],
      "metadata": {
        "colab": {
          "base_uri": "https://localhost:8080/"
        },
        "id": "dlm-BftaG9VU",
        "outputId": "a4e2a1a9-a5b9-45f3-cced-efcc637e7656"
      },
      "execution_count": null,
      "outputs": [
        {
          "output_type": "stream",
          "name": "stdout",
          "text": [
            "Drive already mounted at /content/drive; to attempt to forcibly remount, call drive.mount(\"/content/drive\", force_remount=True).\n"
          ]
        }
      ]
    },
    {
      "cell_type": "markdown",
      "source": [
        "Import model"
      ],
      "metadata": {
        "id": "PV6JMJ6RHMsp"
      }
    },
    {
      "cell_type": "code",
      "source": [
        "from transformers import pipeline\n",
        "\n",
        "classify = pipeline(\n",
        "    task=\"text-classification\",\n",
        "    model=\"cffl/bert-base-styleclassification-subjective-neutral\",\n",
        "    return_all_scores=True,\n",
        ")"
      ],
      "metadata": {
        "id": "IuE1k4263j5v",
        "colab": {
          "base_uri": "https://localhost:8080/"
        },
        "outputId": "c8a45fb1-0d9b-48e4-9782-9d4fb3e29c83"
      },
      "execution_count": null,
      "outputs": [
        {
          "output_type": "stream",
          "name": "stderr",
          "text": [
            "/usr/local/lib/python3.10/dist-packages/transformers/pipelines/text_classification.py:104: UserWarning: `return_all_scores` is now deprecated,  if want a similar functionality use `top_k=None` instead of `return_all_scores=True` or `top_k=1` instead of `return_all_scores=False`.\n",
            "  warnings.warn(\n"
          ]
        }
      ]
    },
    {
      "cell_type": "code",
      "source": [
        "input_text = \"chemical abstracts service (cas), a prominent division of the american chemical society, is the world's leading source of chemical information.\"\n",
        "res = classify(input_text)\n",
        "print(res)"
      ],
      "metadata": {
        "id": "C_CUgDca5wlg",
        "colab": {
          "base_uri": "https://localhost:8080/"
        },
        "outputId": "6b486478-a1a9-47c8-8b2a-c1e362182560"
      },
      "execution_count": null,
      "outputs": [
        {
          "output_type": "stream",
          "name": "stdout",
          "text": [
            "[[{'label': 'SUBJECTIVE', 'score': 0.9765084385871887}, {'label': 'NEUTRAL', 'score': 0.023491574451327324}]]\n"
          ]
        }
      ]
    },
    {
      "cell_type": "code",
      "source": [
        "print(res[0][0]['label'])"
      ],
      "metadata": {
        "id": "G2WWHfpK565E",
        "colab": {
          "base_uri": "https://localhost:8080/"
        },
        "outputId": "766cdf64-fb4a-4fe5-fa32-4fc6073cb62a"
      },
      "execution_count": null,
      "outputs": [
        {
          "output_type": "stream",
          "name": "stdout",
          "text": [
            "SUBJECTIVE\n"
          ]
        }
      ]
    },
    {
      "cell_type": "markdown",
      "source": [
        "Predict labels"
      ],
      "metadata": {
        "id": "1CiWJS4EHRHx"
      }
    },
    {
      "cell_type": "code",
      "source": [
        "def chatWithModel(input_text):\n",
        "  return classify(input_text)"
      ],
      "metadata": {
        "id": "EdItG6tWkOiR"
      },
      "execution_count": null,
      "outputs": []
    },
    {
      "cell_type": "code",
      "source": [
        "import pandas as pd\n",
        "\n",
        "ls = []\n",
        "file_path = \"/content/drive/My Drive/Disszertacio/gemini_test.tsv\"\n",
        "# file_path = \"/content/drive/My Drive/Disszertacio/Claude_ai_test.tsv\"\n",
        "test_data = pd.read_csv(file_path, delimiter='\\t')\n",
        "# print(test_data.iloc[0]['text'])\n",
        "\n",
        "text_column = test_data.iloc[:, 0]\n",
        "\n",
        "for message in text_column:\n",
        "  ls.append(chatWithModel(message))\n",
        "print(ls)"
      ],
      "metadata": {
        "id": "WsDvAVnBklMB",
        "colab": {
          "base_uri": "https://localhost:8080/"
        },
        "outputId": "0783f9c5-5852-4ef3-810c-bc649dfd4e7d"
      },
      "execution_count": null,
      "outputs": [
        {
          "output_type": "stream",
          "name": "stdout",
          "text": [
            "[[[{'label': 'SUBJECTIVE', 'score': 0.9710559844970703}, {'label': 'NEUTRAL', 'score': 0.02894400618970394}]], [[{'label': 'SUBJECTIVE', 'score': 0.9492698907852173}, {'label': 'NEUTRAL', 'score': 0.05073011666536331}]], [[{'label': 'SUBJECTIVE', 'score': 0.40606608986854553}, {'label': 'NEUTRAL', 'score': 0.5939339399337769}]], [[{'label': 'SUBJECTIVE', 'score': 0.2579125165939331}, {'label': 'NEUTRAL', 'score': 0.7420874834060669}]], [[{'label': 'SUBJECTIVE', 'score': 0.21744969487190247}, {'label': 'NEUTRAL', 'score': 0.7825503349304199}]], [[{'label': 'SUBJECTIVE', 'score': 0.708248496055603}, {'label': 'NEUTRAL', 'score': 0.291751503944397}]], [[{'label': 'SUBJECTIVE', 'score': 0.11133363842964172}, {'label': 'NEUTRAL', 'score': 0.8886663913726807}]], [[{'label': 'SUBJECTIVE', 'score': 0.9092530608177185}, {'label': 'NEUTRAL', 'score': 0.09074688702821732}]], [[{'label': 'SUBJECTIVE', 'score': 0.9930504560470581}, {'label': 'NEUTRAL', 'score': 0.006949561648070812}]], [[{'label': 'SUBJECTIVE', 'score': 0.9967717528343201}, {'label': 'NEUTRAL', 'score': 0.003228166839107871}]], [[{'label': 'SUBJECTIVE', 'score': 0.991575300693512}, {'label': 'NEUTRAL', 'score': 0.008424729108810425}]], [[{'label': 'SUBJECTIVE', 'score': 0.22893685102462769}, {'label': 'NEUTRAL', 'score': 0.7710631489753723}]], [[{'label': 'SUBJECTIVE', 'score': 0.9300804734230042}, {'label': 'NEUTRAL', 'score': 0.06991951912641525}]], [[{'label': 'SUBJECTIVE', 'score': 0.9922613501548767}, {'label': 'NEUTRAL', 'score': 0.0077386461198329926}]], [[{'label': 'SUBJECTIVE', 'score': 0.11129505187273026}, {'label': 'NEUTRAL', 'score': 0.8887049555778503}]], [[{'label': 'SUBJECTIVE', 'score': 0.989747166633606}, {'label': 'NEUTRAL', 'score': 0.010252830572426319}]], [[{'label': 'SUBJECTIVE', 'score': 0.9449754953384399}, {'label': 'NEUTRAL', 'score': 0.05502452328801155}]], [[{'label': 'SUBJECTIVE', 'score': 0.060554344207048416}, {'label': 'NEUTRAL', 'score': 0.9394456744194031}]], [[{'label': 'SUBJECTIVE', 'score': 0.09909170866012573}, {'label': 'NEUTRAL', 'score': 0.9009082317352295}]], [[{'label': 'SUBJECTIVE', 'score': 0.9704862833023071}, {'label': 'NEUTRAL', 'score': 0.029513683170080185}]], [[{'label': 'SUBJECTIVE', 'score': 0.4458868205547333}, {'label': 'NEUTRAL', 'score': 0.5541131496429443}]], [[{'label': 'SUBJECTIVE', 'score': 0.964947521686554}, {'label': 'NEUTRAL', 'score': 0.035052474588155746}]], [[{'label': 'SUBJECTIVE', 'score': 0.26930567622184753}, {'label': 'NEUTRAL', 'score': 0.7306942939758301}]], [[{'label': 'SUBJECTIVE', 'score': 0.04944779723882675}, {'label': 'NEUTRAL', 'score': 0.950552225112915}]], [[{'label': 'SUBJECTIVE', 'score': 0.9357709288597107}, {'label': 'NEUTRAL', 'score': 0.06422904878854752}]], [[{'label': 'SUBJECTIVE', 'score': 0.8172591924667358}, {'label': 'NEUTRAL', 'score': 0.18274085223674774}]], [[{'label': 'SUBJECTIVE', 'score': 0.15084272623062134}, {'label': 'NEUTRAL', 'score': 0.8491572737693787}]], [[{'label': 'SUBJECTIVE', 'score': 0.525955855846405}, {'label': 'NEUTRAL', 'score': 0.47404417395591736}]], [[{'label': 'SUBJECTIVE', 'score': 0.9897738099098206}, {'label': 'NEUTRAL', 'score': 0.01022622175514698}]], [[{'label': 'SUBJECTIVE', 'score': 0.7245148420333862}, {'label': 'NEUTRAL', 'score': 0.27548518776893616}]], [[{'label': 'SUBJECTIVE', 'score': 0.9043919444084167}, {'label': 'NEUTRAL', 'score': 0.09560801833868027}]], [[{'label': 'SUBJECTIVE', 'score': 0.917971670627594}, {'label': 'NEUTRAL', 'score': 0.08202831447124481}]], [[{'label': 'SUBJECTIVE', 'score': 0.9963822364807129}, {'label': 'NEUTRAL', 'score': 0.0036177716683596373}]], [[{'label': 'SUBJECTIVE', 'score': 0.991811990737915}, {'label': 'NEUTRAL', 'score': 0.008187991566956043}]], [[{'label': 'SUBJECTIVE', 'score': 0.2651263475418091}, {'label': 'NEUTRAL', 'score': 0.7348736524581909}]], [[{'label': 'SUBJECTIVE', 'score': 0.9879459738731384}, {'label': 'NEUTRAL', 'score': 0.012053972110152245}]], [[{'label': 'SUBJECTIVE', 'score': 0.9878398776054382}, {'label': 'NEUTRAL', 'score': 0.012160120531916618}]], [[{'label': 'SUBJECTIVE', 'score': 0.9789659976959229}, {'label': 'NEUTRAL', 'score': 0.021033989265561104}]], [[{'label': 'SUBJECTIVE', 'score': 0.2656145691871643}, {'label': 'NEUTRAL', 'score': 0.7343854308128357}]], [[{'label': 'SUBJECTIVE', 'score': 0.29947832226753235}, {'label': 'NEUTRAL', 'score': 0.7005216479301453}]], [[{'label': 'SUBJECTIVE', 'score': 0.013220755383372307}, {'label': 'NEUTRAL', 'score': 0.9867792129516602}]], [[{'label': 'SUBJECTIVE', 'score': 0.974025547504425}, {'label': 'NEUTRAL', 'score': 0.025974420830607414}]], [[{'label': 'SUBJECTIVE', 'score': 0.8779920935630798}, {'label': 'NEUTRAL', 'score': 0.12200786918401718}]], [[{'label': 'SUBJECTIVE', 'score': 0.9090479612350464}, {'label': 'NEUTRAL', 'score': 0.09095203131437302}]], [[{'label': 'SUBJECTIVE', 'score': 0.3726400136947632}, {'label': 'NEUTRAL', 'score': 0.627359926700592}]], [[{'label': 'SUBJECTIVE', 'score': 0.6643672585487366}, {'label': 'NEUTRAL', 'score': 0.3356327414512634}]], [[{'label': 'SUBJECTIVE', 'score': 0.31873494386672974}, {'label': 'NEUTRAL', 'score': 0.6812650561332703}]], [[{'label': 'SUBJECTIVE', 'score': 0.4166334867477417}, {'label': 'NEUTRAL', 'score': 0.5833665132522583}]], [[{'label': 'SUBJECTIVE', 'score': 0.9902594685554504}, {'label': 'NEUTRAL', 'score': 0.009740542620420456}]], [[{'label': 'SUBJECTIVE', 'score': 0.9948498606681824}, {'label': 'NEUTRAL', 'score': 0.005150076001882553}]], [[{'label': 'SUBJECTIVE', 'score': 0.9910762310028076}, {'label': 'NEUTRAL', 'score': 0.008923773653805256}]], [[{'label': 'SUBJECTIVE', 'score': 0.85899418592453}, {'label': 'NEUTRAL', 'score': 0.14100579917430878}]], [[{'label': 'SUBJECTIVE', 'score': 0.5722236633300781}, {'label': 'NEUTRAL', 'score': 0.4277762770652771}]], [[{'label': 'SUBJECTIVE', 'score': 0.5085567235946655}, {'label': 'NEUTRAL', 'score': 0.4914432764053345}]], [[{'label': 'SUBJECTIVE', 'score': 0.11981921643018723}, {'label': 'NEUTRAL', 'score': 0.8801807761192322}]], [[{'label': 'SUBJECTIVE', 'score': 0.9892057180404663}, {'label': 'NEUTRAL', 'score': 0.01079430989921093}]], [[{'label': 'SUBJECTIVE', 'score': 0.557541012763977}, {'label': 'NEUTRAL', 'score': 0.4424590468406677}]], [[{'label': 'SUBJECTIVE', 'score': 0.9835813045501709}, {'label': 'NEUTRAL', 'score': 0.016418641433119774}]], [[{'label': 'SUBJECTIVE', 'score': 0.5074113607406616}, {'label': 'NEUTRAL', 'score': 0.492588609457016}]], [[{'label': 'SUBJECTIVE', 'score': 0.02114878222346306}, {'label': 'NEUTRAL', 'score': 0.9788511991500854}]], [[{'label': 'SUBJECTIVE', 'score': 0.16452600061893463}, {'label': 'NEUTRAL', 'score': 0.8354739546775818}]], [[{'label': 'SUBJECTIVE', 'score': 0.9759669899940491}, {'label': 'NEUTRAL', 'score': 0.02403302676975727}]], [[{'label': 'SUBJECTIVE', 'score': 0.060554344207048416}, {'label': 'NEUTRAL', 'score': 0.9394456744194031}]], [[{'label': 'SUBJECTIVE', 'score': 0.4793727695941925}, {'label': 'NEUTRAL', 'score': 0.5206272602081299}]], [[{'label': 'SUBJECTIVE', 'score': 0.3828504681587219}, {'label': 'NEUTRAL', 'score': 0.6171495914459229}]], [[{'label': 'SUBJECTIVE', 'score': 0.31788304448127747}, {'label': 'NEUTRAL', 'score': 0.6821169257164001}]], [[{'label': 'SUBJECTIVE', 'score': 0.937475323677063}, {'label': 'NEUTRAL', 'score': 0.06252472847700119}]], [[{'label': 'SUBJECTIVE', 'score': 0.18701311945915222}, {'label': 'NEUTRAL', 'score': 0.8129869103431702}]], [[{'label': 'SUBJECTIVE', 'score': 0.7014011740684509}, {'label': 'NEUTRAL', 'score': 0.29859885573387146}]], [[{'label': 'SUBJECTIVE', 'score': 0.9255216717720032}, {'label': 'NEUTRAL', 'score': 0.07447837293148041}]], [[{'label': 'SUBJECTIVE', 'score': 0.6607341170310974}, {'label': 'NEUTRAL', 'score': 0.3392658531665802}]], [[{'label': 'SUBJECTIVE', 'score': 0.6917777061462402}, {'label': 'NEUTRAL', 'score': 0.30822229385375977}]], [[{'label': 'SUBJECTIVE', 'score': 0.7586790323257446}, {'label': 'NEUTRAL', 'score': 0.24132099747657776}]], [[{'label': 'SUBJECTIVE', 'score': 0.9874358177185059}, {'label': 'NEUTRAL', 'score': 0.012564192526042461}]], [[{'label': 'SUBJECTIVE', 'score': 0.2775033116340637}, {'label': 'NEUTRAL', 'score': 0.7224966287612915}]], [[{'label': 'SUBJECTIVE', 'score': 0.9818461537361145}, {'label': 'NEUTRAL', 'score': 0.018153846263885498}]], [[{'label': 'SUBJECTIVE', 'score': 0.9076113700866699}, {'label': 'NEUTRAL', 'score': 0.09238863736391068}]], [[{'label': 'SUBJECTIVE', 'score': 0.4419044256210327}, {'label': 'NEUTRAL', 'score': 0.5580956339836121}]], [[{'label': 'SUBJECTIVE', 'score': 0.04757056385278702}, {'label': 'NEUTRAL', 'score': 0.9524294137954712}]], [[{'label': 'SUBJECTIVE', 'score': 0.22035616636276245}, {'label': 'NEUTRAL', 'score': 0.7796438336372375}]], [[{'label': 'SUBJECTIVE', 'score': 0.7674307823181152}, {'label': 'NEUTRAL', 'score': 0.23256920278072357}]], [[{'label': 'SUBJECTIVE', 'score': 0.9868513941764832}, {'label': 'NEUTRAL', 'score': 0.013148559257388115}]], [[{'label': 'SUBJECTIVE', 'score': 0.9906443357467651}, {'label': 'NEUTRAL', 'score': 0.009355665184557438}]], [[{'label': 'SUBJECTIVE', 'score': 0.07278932631015778}, {'label': 'NEUTRAL', 'score': 0.9272106289863586}]], [[{'label': 'SUBJECTIVE', 'score': 0.9825713038444519}, {'label': 'NEUTRAL', 'score': 0.017428701743483543}]], [[{'label': 'SUBJECTIVE', 'score': 0.22024765610694885}, {'label': 'NEUTRAL', 'score': 0.7797523736953735}]], [[{'label': 'SUBJECTIVE', 'score': 0.015363257378339767}, {'label': 'NEUTRAL', 'score': 0.9846367835998535}]], [[{'label': 'SUBJECTIVE', 'score': 0.9960492253303528}, {'label': 'NEUTRAL', 'score': 0.00395075511187315}]], [[{'label': 'SUBJECTIVE', 'score': 0.907089114189148}, {'label': 'NEUTRAL', 'score': 0.09291085600852966}]], [[{'label': 'SUBJECTIVE', 'score': 0.25369593501091003}, {'label': 'NEUTRAL', 'score': 0.7463040351867676}]], [[{'label': 'SUBJECTIVE', 'score': 0.2459898293018341}, {'label': 'NEUTRAL', 'score': 0.7540101408958435}]], [[{'label': 'SUBJECTIVE', 'score': 0.9869034290313721}, {'label': 'NEUTRAL', 'score': 0.013096634298563004}]], [[{'label': 'SUBJECTIVE', 'score': 0.9084438681602478}, {'label': 'NEUTRAL', 'score': 0.09155616164207458}]], [[{'label': 'SUBJECTIVE', 'score': 0.09291260689496994}, {'label': 'NEUTRAL', 'score': 0.9070873856544495}]], [[{'label': 'SUBJECTIVE', 'score': 0.1758783906698227}, {'label': 'NEUTRAL', 'score': 0.8241216540336609}]], [[{'label': 'SUBJECTIVE', 'score': 0.2781303822994232}, {'label': 'NEUTRAL', 'score': 0.7218696475028992}]], [[{'label': 'SUBJECTIVE', 'score': 0.32871702313423157}, {'label': 'NEUTRAL', 'score': 0.6712830066680908}]], [[{'label': 'SUBJECTIVE', 'score': 0.33801934123039246}, {'label': 'NEUTRAL', 'score': 0.6619806289672852}]], [[{'label': 'SUBJECTIVE', 'score': 0.12971502542495728}, {'label': 'NEUTRAL', 'score': 0.8702849745750427}]], [[{'label': 'SUBJECTIVE', 'score': 0.5920721888542175}, {'label': 'NEUTRAL', 'score': 0.40792781114578247}]], [[{'label': 'SUBJECTIVE', 'score': 0.06036779284477234}, {'label': 'NEUTRAL', 'score': 0.93963223695755}]], [[{'label': 'SUBJECTIVE', 'score': 0.2024277150630951}, {'label': 'NEUTRAL', 'score': 0.7975723147392273}]], [[{'label': 'SUBJECTIVE', 'score': 0.07405900210142136}, {'label': 'NEUTRAL', 'score': 0.925940990447998}]], [[{'label': 'SUBJECTIVE', 'score': 0.008517744019627571}, {'label': 'NEUTRAL', 'score': 0.9914822578430176}]], [[{'label': 'SUBJECTIVE', 'score': 0.020726842805743217}, {'label': 'NEUTRAL', 'score': 0.9792732000350952}]], [[{'label': 'SUBJECTIVE', 'score': 0.035338468849658966}, {'label': 'NEUTRAL', 'score': 0.9646615386009216}]], [[{'label': 'SUBJECTIVE', 'score': 0.01545372698456049}, {'label': 'NEUTRAL', 'score': 0.9845463037490845}]], [[{'label': 'SUBJECTIVE', 'score': 0.020594431087374687}, {'label': 'NEUTRAL', 'score': 0.9794055819511414}]], [[{'label': 'SUBJECTIVE', 'score': 0.1329725980758667}, {'label': 'NEUTRAL', 'score': 0.8670274019241333}]], [[{'label': 'SUBJECTIVE', 'score': 0.09863683581352234}, {'label': 'NEUTRAL', 'score': 0.9013631343841553}]], [[{'label': 'SUBJECTIVE', 'score': 0.03535297140479088}, {'label': 'NEUTRAL', 'score': 0.9646469950675964}]], [[{'label': 'SUBJECTIVE', 'score': 0.13316577672958374}, {'label': 'NEUTRAL', 'score': 0.8668342232704163}]], [[{'label': 'SUBJECTIVE', 'score': 0.030193757265806198}, {'label': 'NEUTRAL', 'score': 0.9698062539100647}]], [[{'label': 'SUBJECTIVE', 'score': 0.03822708502411842}, {'label': 'NEUTRAL', 'score': 0.9617728590965271}]], [[{'label': 'SUBJECTIVE', 'score': 0.3019709289073944}, {'label': 'NEUTRAL', 'score': 0.698029100894928}]], [[{'label': 'SUBJECTIVE', 'score': 0.012293847277760506}, {'label': 'NEUTRAL', 'score': 0.9877061247825623}]], [[{'label': 'SUBJECTIVE', 'score': 0.022650543600320816}, {'label': 'NEUTRAL', 'score': 0.9773494601249695}]], [[{'label': 'SUBJECTIVE', 'score': 0.008358782157301903}, {'label': 'NEUTRAL', 'score': 0.9916411638259888}]], [[{'label': 'SUBJECTIVE', 'score': 0.005457868799567223}, {'label': 'NEUTRAL', 'score': 0.9945421814918518}]], [[{'label': 'SUBJECTIVE', 'score': 0.2980373203754425}, {'label': 'NEUTRAL', 'score': 0.7019627094268799}]], [[{'label': 'SUBJECTIVE', 'score': 0.05795527622103691}, {'label': 'NEUTRAL', 'score': 0.942044734954834}]], [[{'label': 'SUBJECTIVE', 'score': 0.021453972905874252}, {'label': 'NEUTRAL', 'score': 0.9785459637641907}]], [[{'label': 'SUBJECTIVE', 'score': 0.1162247434258461}, {'label': 'NEUTRAL', 'score': 0.8837752342224121}]], [[{'label': 'SUBJECTIVE', 'score': 0.16789749264717102}, {'label': 'NEUTRAL', 'score': 0.8321024775505066}]], [[{'label': 'SUBJECTIVE', 'score': 0.011342409998178482}, {'label': 'NEUTRAL', 'score': 0.988657534122467}]], [[{'label': 'SUBJECTIVE', 'score': 0.008811717852950096}, {'label': 'NEUTRAL', 'score': 0.9911882877349854}]], [[{'label': 'SUBJECTIVE', 'score': 0.007871909067034721}, {'label': 'NEUTRAL', 'score': 0.9921281337738037}]], [[{'label': 'SUBJECTIVE', 'score': 0.04055972024798393}, {'label': 'NEUTRAL', 'score': 0.959440290927887}]], [[{'label': 'SUBJECTIVE', 'score': 0.009692663326859474}, {'label': 'NEUTRAL', 'score': 0.9903073310852051}]], [[{'label': 'SUBJECTIVE', 'score': 0.006608696188777685}, {'label': 'NEUTRAL', 'score': 0.9933912754058838}]], [[{'label': 'SUBJECTIVE', 'score': 0.45864567160606384}, {'label': 'NEUTRAL', 'score': 0.5413543581962585}]], [[{'label': 'SUBJECTIVE', 'score': 0.0603598915040493}, {'label': 'NEUTRAL', 'score': 0.9396401047706604}]], [[{'label': 'SUBJECTIVE', 'score': 0.02934187464416027}, {'label': 'NEUTRAL', 'score': 0.9706581234931946}]], [[{'label': 'SUBJECTIVE', 'score': 0.026797708123922348}, {'label': 'NEUTRAL', 'score': 0.9732023477554321}]], [[{'label': 'SUBJECTIVE', 'score': 0.029087752103805542}, {'label': 'NEUTRAL', 'score': 0.9709122180938721}]], [[{'label': 'SUBJECTIVE', 'score': 0.0069549838081002235}, {'label': 'NEUTRAL', 'score': 0.9930450320243835}]], [[{'label': 'SUBJECTIVE', 'score': 0.028444360941648483}, {'label': 'NEUTRAL', 'score': 0.9715557098388672}]], [[{'label': 'SUBJECTIVE', 'score': 0.3787345290184021}, {'label': 'NEUTRAL', 'score': 0.6212654113769531}]], [[{'label': 'SUBJECTIVE', 'score': 0.011260285042226315}, {'label': 'NEUTRAL', 'score': 0.9887396693229675}]], [[{'label': 'SUBJECTIVE', 'score': 0.17785516381263733}, {'label': 'NEUTRAL', 'score': 0.8221448063850403}]], [[{'label': 'SUBJECTIVE', 'score': 0.22850078344345093}, {'label': 'NEUTRAL', 'score': 0.7714992165565491}]], [[{'label': 'SUBJECTIVE', 'score': 0.1625896543264389}, {'label': 'NEUTRAL', 'score': 0.8374103307723999}]], [[{'label': 'SUBJECTIVE', 'score': 0.037473972886800766}, {'label': 'NEUTRAL', 'score': 0.9625260233879089}]], [[{'label': 'SUBJECTIVE', 'score': 0.06246991455554962}, {'label': 'NEUTRAL', 'score': 0.9375301003456116}]], [[{'label': 'SUBJECTIVE', 'score': 0.25094684958457947}, {'label': 'NEUTRAL', 'score': 0.7490531206130981}]], [[{'label': 'SUBJECTIVE', 'score': 0.07913176715373993}, {'label': 'NEUTRAL', 'score': 0.9208682775497437}]], [[{'label': 'SUBJECTIVE', 'score': 0.014708655886352062}, {'label': 'NEUTRAL', 'score': 0.9852913618087769}]], [[{'label': 'SUBJECTIVE', 'score': 0.04192076623439789}, {'label': 'NEUTRAL', 'score': 0.9580792188644409}]], [[{'label': 'SUBJECTIVE', 'score': 0.004750826396048069}, {'label': 'NEUTRAL', 'score': 0.9952491521835327}]], [[{'label': 'SUBJECTIVE', 'score': 0.14955848455429077}, {'label': 'NEUTRAL', 'score': 0.8504415154457092}]], [[{'label': 'SUBJECTIVE', 'score': 0.04515498876571655}, {'label': 'NEUTRAL', 'score': 0.9548450708389282}]], [[{'label': 'SUBJECTIVE', 'score': 0.19915732741355896}, {'label': 'NEUTRAL', 'score': 0.8008426427841187}]], [[{'label': 'SUBJECTIVE', 'score': 0.3686254620552063}, {'label': 'NEUTRAL', 'score': 0.6313745379447937}]], [[{'label': 'SUBJECTIVE', 'score': 0.15632887184619904}, {'label': 'NEUTRAL', 'score': 0.8436711430549622}]], [[{'label': 'SUBJECTIVE', 'score': 0.05146658793091774}, {'label': 'NEUTRAL', 'score': 0.9485334753990173}]], [[{'label': 'SUBJECTIVE', 'score': 0.007895831018686295}, {'label': 'NEUTRAL', 'score': 0.992104172706604}]], [[{'label': 'SUBJECTIVE', 'score': 0.015458550304174423}, {'label': 'NEUTRAL', 'score': 0.9845414161682129}]], [[{'label': 'SUBJECTIVE', 'score': 0.029260991141200066}, {'label': 'NEUTRAL', 'score': 0.9707390069961548}]], [[{'label': 'SUBJECTIVE', 'score': 0.32995089888572693}, {'label': 'NEUTRAL', 'score': 0.6700490713119507}]], [[{'label': 'SUBJECTIVE', 'score': 0.13993309438228607}, {'label': 'NEUTRAL', 'score': 0.8600668907165527}]], [[{'label': 'SUBJECTIVE', 'score': 0.23038432002067566}, {'label': 'NEUTRAL', 'score': 0.7696157097816467}]], [[{'label': 'SUBJECTIVE', 'score': 0.19750568270683289}, {'label': 'NEUTRAL', 'score': 0.8024943470954895}]], [[{'label': 'SUBJECTIVE', 'score': 0.8864379525184631}, {'label': 'NEUTRAL', 'score': 0.11356201022863388}]], [[{'label': 'SUBJECTIVE', 'score': 0.23923230171203613}, {'label': 'NEUTRAL', 'score': 0.7607676982879639}]], [[{'label': 'SUBJECTIVE', 'score': 0.023485401645302773}, {'label': 'NEUTRAL', 'score': 0.9765145778656006}]], [[{'label': 'SUBJECTIVE', 'score': 0.2985738515853882}, {'label': 'NEUTRAL', 'score': 0.7014261484146118}]], [[{'label': 'SUBJECTIVE', 'score': 0.09057721495628357}, {'label': 'NEUTRAL', 'score': 0.909422755241394}]], [[{'label': 'SUBJECTIVE', 'score': 0.023532627150416374}, {'label': 'NEUTRAL', 'score': 0.9764674305915833}]], [[{'label': 'SUBJECTIVE', 'score': 0.02489245869219303}, {'label': 'NEUTRAL', 'score': 0.9751074910163879}]], [[{'label': 'SUBJECTIVE', 'score': 0.030416687950491905}, {'label': 'NEUTRAL', 'score': 0.9695833325386047}]], [[{'label': 'SUBJECTIVE', 'score': 0.935165524482727}, {'label': 'NEUTRAL', 'score': 0.06483443826436996}]], [[{'label': 'SUBJECTIVE', 'score': 0.41133934259414673}, {'label': 'NEUTRAL', 'score': 0.5886606574058533}]], [[{'label': 'SUBJECTIVE', 'score': 0.9940855503082275}, {'label': 'NEUTRAL', 'score': 0.005914469249546528}]], [[{'label': 'SUBJECTIVE', 'score': 0.18404188752174377}, {'label': 'NEUTRAL', 'score': 0.8159581422805786}]], [[{'label': 'SUBJECTIVE', 'score': 0.15963050723075867}, {'label': 'NEUTRAL', 'score': 0.8403695225715637}]], [[{'label': 'SUBJECTIVE', 'score': 0.038487643003463745}, {'label': 'NEUTRAL', 'score': 0.9615123867988586}]], [[{'label': 'SUBJECTIVE', 'score': 0.05756336823105812}, {'label': 'NEUTRAL', 'score': 0.9424366354942322}]], [[{'label': 'SUBJECTIVE', 'score': 0.25434693694114685}, {'label': 'NEUTRAL', 'score': 0.7456530332565308}]], [[{'label': 'SUBJECTIVE', 'score': 0.0028009184170514345}, {'label': 'NEUTRAL', 'score': 0.9971990585327148}]], [[{'label': 'SUBJECTIVE', 'score': 0.21142487227916718}, {'label': 'NEUTRAL', 'score': 0.7885751128196716}]], [[{'label': 'SUBJECTIVE', 'score': 0.4794309139251709}, {'label': 'NEUTRAL', 'score': 0.5205690264701843}]], [[{'label': 'SUBJECTIVE', 'score': 0.12349087744951248}, {'label': 'NEUTRAL', 'score': 0.8765091300010681}]], [[{'label': 'SUBJECTIVE', 'score': 0.9072971343994141}, {'label': 'NEUTRAL', 'score': 0.09270289540290833}]], [[{'label': 'SUBJECTIVE', 'score': 0.039726030081510544}, {'label': 'NEUTRAL', 'score': 0.9602739810943604}]], [[{'label': 'SUBJECTIVE', 'score': 0.0981496125459671}, {'label': 'NEUTRAL', 'score': 0.9018503427505493}]], [[{'label': 'SUBJECTIVE', 'score': 0.10300792753696442}, {'label': 'NEUTRAL', 'score': 0.8969920873641968}]], [[{'label': 'SUBJECTIVE', 'score': 0.6055570244789124}, {'label': 'NEUTRAL', 'score': 0.3944430351257324}]], [[{'label': 'SUBJECTIVE', 'score': 0.8121926188468933}, {'label': 'NEUTRAL', 'score': 0.18780742585659027}]], [[{'label': 'SUBJECTIVE', 'score': 0.2208535373210907}, {'label': 'NEUTRAL', 'score': 0.7791464924812317}]], [[{'label': 'SUBJECTIVE', 'score': 0.057987410575151443}, {'label': 'NEUTRAL', 'score': 0.9420126080513}]], [[{'label': 'SUBJECTIVE', 'score': 0.09628032892942429}, {'label': 'NEUTRAL', 'score': 0.9037196636199951}]], [[{'label': 'SUBJECTIVE', 'score': 0.4336158037185669}, {'label': 'NEUTRAL', 'score': 0.5663841366767883}]], [[{'label': 'SUBJECTIVE', 'score': 0.8082997798919678}, {'label': 'NEUTRAL', 'score': 0.19170019030570984}]], [[{'label': 'SUBJECTIVE', 'score': 0.5771773457527161}, {'label': 'NEUTRAL', 'score': 0.4228226840496063}]], [[{'label': 'SUBJECTIVE', 'score': 0.15385068953037262}, {'label': 'NEUTRAL', 'score': 0.8461493849754333}]], [[{'label': 'SUBJECTIVE', 'score': 0.2883794605731964}, {'label': 'NEUTRAL', 'score': 0.711620569229126}]], [[{'label': 'SUBJECTIVE', 'score': 0.01363679114729166}, {'label': 'NEUTRAL', 'score': 0.9863632321357727}]], [[{'label': 'SUBJECTIVE', 'score': 0.9785333275794983}, {'label': 'NEUTRAL', 'score': 0.021466627717018127}]], [[{'label': 'SUBJECTIVE', 'score': 0.006941122468560934}, {'label': 'NEUTRAL', 'score': 0.9930589199066162}]], [[{'label': 'SUBJECTIVE', 'score': 0.2490973174571991}, {'label': 'NEUTRAL', 'score': 0.7509027123451233}]]]\n"
          ]
        }
      ]
    },
    {
      "cell_type": "code",
      "source": [
        "print(ls)\n",
        "\n",
        "max_labels = []\n",
        "\n",
        "for entry in ls:\n",
        "    max_score = -1\n",
        "    max_label = None\n",
        "    for item in entry[0]:\n",
        "        if item['score'] > max_score:\n",
        "            max_score = item['score']\n",
        "            max_label = item['label']\n",
        "    max_labels.append(max_label)\n",
        "\n",
        "print(max_labels)"
      ],
      "metadata": {
        "id": "_goQOZp8FnoS",
        "colab": {
          "base_uri": "https://localhost:8080/"
        },
        "outputId": "a3e47dde-915d-4403-ace7-415f9e1f962c"
      },
      "execution_count": null,
      "outputs": [
        {
          "output_type": "stream",
          "name": "stdout",
          "text": [
            "[[[{'label': 'SUBJECTIVE', 'score': 0.9710559844970703}, {'label': 'NEUTRAL', 'score': 0.02894400618970394}]], [[{'label': 'SUBJECTIVE', 'score': 0.9492698907852173}, {'label': 'NEUTRAL', 'score': 0.05073011666536331}]], [[{'label': 'SUBJECTIVE', 'score': 0.40606608986854553}, {'label': 'NEUTRAL', 'score': 0.5939339399337769}]], [[{'label': 'SUBJECTIVE', 'score': 0.2579125165939331}, {'label': 'NEUTRAL', 'score': 0.7420874834060669}]], [[{'label': 'SUBJECTIVE', 'score': 0.21744969487190247}, {'label': 'NEUTRAL', 'score': 0.7825503349304199}]], [[{'label': 'SUBJECTIVE', 'score': 0.708248496055603}, {'label': 'NEUTRAL', 'score': 0.291751503944397}]], [[{'label': 'SUBJECTIVE', 'score': 0.11133363842964172}, {'label': 'NEUTRAL', 'score': 0.8886663913726807}]], [[{'label': 'SUBJECTIVE', 'score': 0.9092530608177185}, {'label': 'NEUTRAL', 'score': 0.09074688702821732}]], [[{'label': 'SUBJECTIVE', 'score': 0.9930504560470581}, {'label': 'NEUTRAL', 'score': 0.006949561648070812}]], [[{'label': 'SUBJECTIVE', 'score': 0.9967717528343201}, {'label': 'NEUTRAL', 'score': 0.003228166839107871}]], [[{'label': 'SUBJECTIVE', 'score': 0.991575300693512}, {'label': 'NEUTRAL', 'score': 0.008424729108810425}]], [[{'label': 'SUBJECTIVE', 'score': 0.22893685102462769}, {'label': 'NEUTRAL', 'score': 0.7710631489753723}]], [[{'label': 'SUBJECTIVE', 'score': 0.9300804734230042}, {'label': 'NEUTRAL', 'score': 0.06991951912641525}]], [[{'label': 'SUBJECTIVE', 'score': 0.9922613501548767}, {'label': 'NEUTRAL', 'score': 0.0077386461198329926}]], [[{'label': 'SUBJECTIVE', 'score': 0.11129505187273026}, {'label': 'NEUTRAL', 'score': 0.8887049555778503}]], [[{'label': 'SUBJECTIVE', 'score': 0.989747166633606}, {'label': 'NEUTRAL', 'score': 0.010252830572426319}]], [[{'label': 'SUBJECTIVE', 'score': 0.9449754953384399}, {'label': 'NEUTRAL', 'score': 0.05502452328801155}]], [[{'label': 'SUBJECTIVE', 'score': 0.060554344207048416}, {'label': 'NEUTRAL', 'score': 0.9394456744194031}]], [[{'label': 'SUBJECTIVE', 'score': 0.09909170866012573}, {'label': 'NEUTRAL', 'score': 0.9009082317352295}]], [[{'label': 'SUBJECTIVE', 'score': 0.9704862833023071}, {'label': 'NEUTRAL', 'score': 0.029513683170080185}]], [[{'label': 'SUBJECTIVE', 'score': 0.4458868205547333}, {'label': 'NEUTRAL', 'score': 0.5541131496429443}]], [[{'label': 'SUBJECTIVE', 'score': 0.964947521686554}, {'label': 'NEUTRAL', 'score': 0.035052474588155746}]], [[{'label': 'SUBJECTIVE', 'score': 0.26930567622184753}, {'label': 'NEUTRAL', 'score': 0.7306942939758301}]], [[{'label': 'SUBJECTIVE', 'score': 0.04944779723882675}, {'label': 'NEUTRAL', 'score': 0.950552225112915}]], [[{'label': 'SUBJECTIVE', 'score': 0.9357709288597107}, {'label': 'NEUTRAL', 'score': 0.06422904878854752}]], [[{'label': 'SUBJECTIVE', 'score': 0.8172591924667358}, {'label': 'NEUTRAL', 'score': 0.18274085223674774}]], [[{'label': 'SUBJECTIVE', 'score': 0.15084272623062134}, {'label': 'NEUTRAL', 'score': 0.8491572737693787}]], [[{'label': 'SUBJECTIVE', 'score': 0.525955855846405}, {'label': 'NEUTRAL', 'score': 0.47404417395591736}]], [[{'label': 'SUBJECTIVE', 'score': 0.9897738099098206}, {'label': 'NEUTRAL', 'score': 0.01022622175514698}]], [[{'label': 'SUBJECTIVE', 'score': 0.7245148420333862}, {'label': 'NEUTRAL', 'score': 0.27548518776893616}]], [[{'label': 'SUBJECTIVE', 'score': 0.9043919444084167}, {'label': 'NEUTRAL', 'score': 0.09560801833868027}]], [[{'label': 'SUBJECTIVE', 'score': 0.917971670627594}, {'label': 'NEUTRAL', 'score': 0.08202831447124481}]], [[{'label': 'SUBJECTIVE', 'score': 0.9963822364807129}, {'label': 'NEUTRAL', 'score': 0.0036177716683596373}]], [[{'label': 'SUBJECTIVE', 'score': 0.991811990737915}, {'label': 'NEUTRAL', 'score': 0.008187991566956043}]], [[{'label': 'SUBJECTIVE', 'score': 0.2651263475418091}, {'label': 'NEUTRAL', 'score': 0.7348736524581909}]], [[{'label': 'SUBJECTIVE', 'score': 0.9879459738731384}, {'label': 'NEUTRAL', 'score': 0.012053972110152245}]], [[{'label': 'SUBJECTIVE', 'score': 0.9878398776054382}, {'label': 'NEUTRAL', 'score': 0.012160120531916618}]], [[{'label': 'SUBJECTIVE', 'score': 0.9789659976959229}, {'label': 'NEUTRAL', 'score': 0.021033989265561104}]], [[{'label': 'SUBJECTIVE', 'score': 0.2656145691871643}, {'label': 'NEUTRAL', 'score': 0.7343854308128357}]], [[{'label': 'SUBJECTIVE', 'score': 0.29947832226753235}, {'label': 'NEUTRAL', 'score': 0.7005216479301453}]], [[{'label': 'SUBJECTIVE', 'score': 0.013220755383372307}, {'label': 'NEUTRAL', 'score': 0.9867792129516602}]], [[{'label': 'SUBJECTIVE', 'score': 0.974025547504425}, {'label': 'NEUTRAL', 'score': 0.025974420830607414}]], [[{'label': 'SUBJECTIVE', 'score': 0.8779920935630798}, {'label': 'NEUTRAL', 'score': 0.12200786918401718}]], [[{'label': 'SUBJECTIVE', 'score': 0.9090479612350464}, {'label': 'NEUTRAL', 'score': 0.09095203131437302}]], [[{'label': 'SUBJECTIVE', 'score': 0.3726400136947632}, {'label': 'NEUTRAL', 'score': 0.627359926700592}]], [[{'label': 'SUBJECTIVE', 'score': 0.6643672585487366}, {'label': 'NEUTRAL', 'score': 0.3356327414512634}]], [[{'label': 'SUBJECTIVE', 'score': 0.31873494386672974}, {'label': 'NEUTRAL', 'score': 0.6812650561332703}]], [[{'label': 'SUBJECTIVE', 'score': 0.4166334867477417}, {'label': 'NEUTRAL', 'score': 0.5833665132522583}]], [[{'label': 'SUBJECTIVE', 'score': 0.9902594685554504}, {'label': 'NEUTRAL', 'score': 0.009740542620420456}]], [[{'label': 'SUBJECTIVE', 'score': 0.9948498606681824}, {'label': 'NEUTRAL', 'score': 0.005150076001882553}]], [[{'label': 'SUBJECTIVE', 'score': 0.9910762310028076}, {'label': 'NEUTRAL', 'score': 0.008923773653805256}]], [[{'label': 'SUBJECTIVE', 'score': 0.85899418592453}, {'label': 'NEUTRAL', 'score': 0.14100579917430878}]], [[{'label': 'SUBJECTIVE', 'score': 0.5722236633300781}, {'label': 'NEUTRAL', 'score': 0.4277762770652771}]], [[{'label': 'SUBJECTIVE', 'score': 0.5085567235946655}, {'label': 'NEUTRAL', 'score': 0.4914432764053345}]], [[{'label': 'SUBJECTIVE', 'score': 0.11981921643018723}, {'label': 'NEUTRAL', 'score': 0.8801807761192322}]], [[{'label': 'SUBJECTIVE', 'score': 0.9892057180404663}, {'label': 'NEUTRAL', 'score': 0.01079430989921093}]], [[{'label': 'SUBJECTIVE', 'score': 0.557541012763977}, {'label': 'NEUTRAL', 'score': 0.4424590468406677}]], [[{'label': 'SUBJECTIVE', 'score': 0.9835813045501709}, {'label': 'NEUTRAL', 'score': 0.016418641433119774}]], [[{'label': 'SUBJECTIVE', 'score': 0.5074113607406616}, {'label': 'NEUTRAL', 'score': 0.492588609457016}]], [[{'label': 'SUBJECTIVE', 'score': 0.02114878222346306}, {'label': 'NEUTRAL', 'score': 0.9788511991500854}]], [[{'label': 'SUBJECTIVE', 'score': 0.16452600061893463}, {'label': 'NEUTRAL', 'score': 0.8354739546775818}]], [[{'label': 'SUBJECTIVE', 'score': 0.9759669899940491}, {'label': 'NEUTRAL', 'score': 0.02403302676975727}]], [[{'label': 'SUBJECTIVE', 'score': 0.060554344207048416}, {'label': 'NEUTRAL', 'score': 0.9394456744194031}]], [[{'label': 'SUBJECTIVE', 'score': 0.4793727695941925}, {'label': 'NEUTRAL', 'score': 0.5206272602081299}]], [[{'label': 'SUBJECTIVE', 'score': 0.3828504681587219}, {'label': 'NEUTRAL', 'score': 0.6171495914459229}]], [[{'label': 'SUBJECTIVE', 'score': 0.31788304448127747}, {'label': 'NEUTRAL', 'score': 0.6821169257164001}]], [[{'label': 'SUBJECTIVE', 'score': 0.937475323677063}, {'label': 'NEUTRAL', 'score': 0.06252472847700119}]], [[{'label': 'SUBJECTIVE', 'score': 0.18701311945915222}, {'label': 'NEUTRAL', 'score': 0.8129869103431702}]], [[{'label': 'SUBJECTIVE', 'score': 0.7014011740684509}, {'label': 'NEUTRAL', 'score': 0.29859885573387146}]], [[{'label': 'SUBJECTIVE', 'score': 0.9255216717720032}, {'label': 'NEUTRAL', 'score': 0.07447837293148041}]], [[{'label': 'SUBJECTIVE', 'score': 0.6607341170310974}, {'label': 'NEUTRAL', 'score': 0.3392658531665802}]], [[{'label': 'SUBJECTIVE', 'score': 0.6917777061462402}, {'label': 'NEUTRAL', 'score': 0.30822229385375977}]], [[{'label': 'SUBJECTIVE', 'score': 0.7586790323257446}, {'label': 'NEUTRAL', 'score': 0.24132099747657776}]], [[{'label': 'SUBJECTIVE', 'score': 0.9874358177185059}, {'label': 'NEUTRAL', 'score': 0.012564192526042461}]], [[{'label': 'SUBJECTIVE', 'score': 0.2775033116340637}, {'label': 'NEUTRAL', 'score': 0.7224966287612915}]], [[{'label': 'SUBJECTIVE', 'score': 0.9818461537361145}, {'label': 'NEUTRAL', 'score': 0.018153846263885498}]], [[{'label': 'SUBJECTIVE', 'score': 0.9076113700866699}, {'label': 'NEUTRAL', 'score': 0.09238863736391068}]], [[{'label': 'SUBJECTIVE', 'score': 0.4419044256210327}, {'label': 'NEUTRAL', 'score': 0.5580956339836121}]], [[{'label': 'SUBJECTIVE', 'score': 0.04757056385278702}, {'label': 'NEUTRAL', 'score': 0.9524294137954712}]], [[{'label': 'SUBJECTIVE', 'score': 0.22035616636276245}, {'label': 'NEUTRAL', 'score': 0.7796438336372375}]], [[{'label': 'SUBJECTIVE', 'score': 0.7674307823181152}, {'label': 'NEUTRAL', 'score': 0.23256920278072357}]], [[{'label': 'SUBJECTIVE', 'score': 0.9868513941764832}, {'label': 'NEUTRAL', 'score': 0.013148559257388115}]], [[{'label': 'SUBJECTIVE', 'score': 0.9906443357467651}, {'label': 'NEUTRAL', 'score': 0.009355665184557438}]], [[{'label': 'SUBJECTIVE', 'score': 0.07278932631015778}, {'label': 'NEUTRAL', 'score': 0.9272106289863586}]], [[{'label': 'SUBJECTIVE', 'score': 0.9825713038444519}, {'label': 'NEUTRAL', 'score': 0.017428701743483543}]], [[{'label': 'SUBJECTIVE', 'score': 0.22024765610694885}, {'label': 'NEUTRAL', 'score': 0.7797523736953735}]], [[{'label': 'SUBJECTIVE', 'score': 0.015363257378339767}, {'label': 'NEUTRAL', 'score': 0.9846367835998535}]], [[{'label': 'SUBJECTIVE', 'score': 0.9960492253303528}, {'label': 'NEUTRAL', 'score': 0.00395075511187315}]], [[{'label': 'SUBJECTIVE', 'score': 0.907089114189148}, {'label': 'NEUTRAL', 'score': 0.09291085600852966}]], [[{'label': 'SUBJECTIVE', 'score': 0.25369593501091003}, {'label': 'NEUTRAL', 'score': 0.7463040351867676}]], [[{'label': 'SUBJECTIVE', 'score': 0.2459898293018341}, {'label': 'NEUTRAL', 'score': 0.7540101408958435}]], [[{'label': 'SUBJECTIVE', 'score': 0.9869034290313721}, {'label': 'NEUTRAL', 'score': 0.013096634298563004}]], [[{'label': 'SUBJECTIVE', 'score': 0.9084438681602478}, {'label': 'NEUTRAL', 'score': 0.09155616164207458}]], [[{'label': 'SUBJECTIVE', 'score': 0.09291260689496994}, {'label': 'NEUTRAL', 'score': 0.9070873856544495}]], [[{'label': 'SUBJECTIVE', 'score': 0.1758783906698227}, {'label': 'NEUTRAL', 'score': 0.8241216540336609}]], [[{'label': 'SUBJECTIVE', 'score': 0.2781303822994232}, {'label': 'NEUTRAL', 'score': 0.7218696475028992}]], [[{'label': 'SUBJECTIVE', 'score': 0.32871702313423157}, {'label': 'NEUTRAL', 'score': 0.6712830066680908}]], [[{'label': 'SUBJECTIVE', 'score': 0.33801934123039246}, {'label': 'NEUTRAL', 'score': 0.6619806289672852}]], [[{'label': 'SUBJECTIVE', 'score': 0.12971502542495728}, {'label': 'NEUTRAL', 'score': 0.8702849745750427}]], [[{'label': 'SUBJECTIVE', 'score': 0.5920721888542175}, {'label': 'NEUTRAL', 'score': 0.40792781114578247}]], [[{'label': 'SUBJECTIVE', 'score': 0.06036779284477234}, {'label': 'NEUTRAL', 'score': 0.93963223695755}]], [[{'label': 'SUBJECTIVE', 'score': 0.2024277150630951}, {'label': 'NEUTRAL', 'score': 0.7975723147392273}]], [[{'label': 'SUBJECTIVE', 'score': 0.07405900210142136}, {'label': 'NEUTRAL', 'score': 0.925940990447998}]], [[{'label': 'SUBJECTIVE', 'score': 0.008517744019627571}, {'label': 'NEUTRAL', 'score': 0.9914822578430176}]], [[{'label': 'SUBJECTIVE', 'score': 0.020726842805743217}, {'label': 'NEUTRAL', 'score': 0.9792732000350952}]], [[{'label': 'SUBJECTIVE', 'score': 0.035338468849658966}, {'label': 'NEUTRAL', 'score': 0.9646615386009216}]], [[{'label': 'SUBJECTIVE', 'score': 0.01545372698456049}, {'label': 'NEUTRAL', 'score': 0.9845463037490845}]], [[{'label': 'SUBJECTIVE', 'score': 0.020594431087374687}, {'label': 'NEUTRAL', 'score': 0.9794055819511414}]], [[{'label': 'SUBJECTIVE', 'score': 0.1329725980758667}, {'label': 'NEUTRAL', 'score': 0.8670274019241333}]], [[{'label': 'SUBJECTIVE', 'score': 0.09863683581352234}, {'label': 'NEUTRAL', 'score': 0.9013631343841553}]], [[{'label': 'SUBJECTIVE', 'score': 0.03535297140479088}, {'label': 'NEUTRAL', 'score': 0.9646469950675964}]], [[{'label': 'SUBJECTIVE', 'score': 0.13316577672958374}, {'label': 'NEUTRAL', 'score': 0.8668342232704163}]], [[{'label': 'SUBJECTIVE', 'score': 0.030193757265806198}, {'label': 'NEUTRAL', 'score': 0.9698062539100647}]], [[{'label': 'SUBJECTIVE', 'score': 0.03822708502411842}, {'label': 'NEUTRAL', 'score': 0.9617728590965271}]], [[{'label': 'SUBJECTIVE', 'score': 0.3019709289073944}, {'label': 'NEUTRAL', 'score': 0.698029100894928}]], [[{'label': 'SUBJECTIVE', 'score': 0.012293847277760506}, {'label': 'NEUTRAL', 'score': 0.9877061247825623}]], [[{'label': 'SUBJECTIVE', 'score': 0.022650543600320816}, {'label': 'NEUTRAL', 'score': 0.9773494601249695}]], [[{'label': 'SUBJECTIVE', 'score': 0.008358782157301903}, {'label': 'NEUTRAL', 'score': 0.9916411638259888}]], [[{'label': 'SUBJECTIVE', 'score': 0.005457868799567223}, {'label': 'NEUTRAL', 'score': 0.9945421814918518}]], [[{'label': 'SUBJECTIVE', 'score': 0.2980373203754425}, {'label': 'NEUTRAL', 'score': 0.7019627094268799}]], [[{'label': 'SUBJECTIVE', 'score': 0.05795527622103691}, {'label': 'NEUTRAL', 'score': 0.942044734954834}]], [[{'label': 'SUBJECTIVE', 'score': 0.021453972905874252}, {'label': 'NEUTRAL', 'score': 0.9785459637641907}]], [[{'label': 'SUBJECTIVE', 'score': 0.1162247434258461}, {'label': 'NEUTRAL', 'score': 0.8837752342224121}]], [[{'label': 'SUBJECTIVE', 'score': 0.16789749264717102}, {'label': 'NEUTRAL', 'score': 0.8321024775505066}]], [[{'label': 'SUBJECTIVE', 'score': 0.011342409998178482}, {'label': 'NEUTRAL', 'score': 0.988657534122467}]], [[{'label': 'SUBJECTIVE', 'score': 0.008811717852950096}, {'label': 'NEUTRAL', 'score': 0.9911882877349854}]], [[{'label': 'SUBJECTIVE', 'score': 0.007871909067034721}, {'label': 'NEUTRAL', 'score': 0.9921281337738037}]], [[{'label': 'SUBJECTIVE', 'score': 0.04055972024798393}, {'label': 'NEUTRAL', 'score': 0.959440290927887}]], [[{'label': 'SUBJECTIVE', 'score': 0.009692663326859474}, {'label': 'NEUTRAL', 'score': 0.9903073310852051}]], [[{'label': 'SUBJECTIVE', 'score': 0.006608696188777685}, {'label': 'NEUTRAL', 'score': 0.9933912754058838}]], [[{'label': 'SUBJECTIVE', 'score': 0.45864567160606384}, {'label': 'NEUTRAL', 'score': 0.5413543581962585}]], [[{'label': 'SUBJECTIVE', 'score': 0.0603598915040493}, {'label': 'NEUTRAL', 'score': 0.9396401047706604}]], [[{'label': 'SUBJECTIVE', 'score': 0.02934187464416027}, {'label': 'NEUTRAL', 'score': 0.9706581234931946}]], [[{'label': 'SUBJECTIVE', 'score': 0.026797708123922348}, {'label': 'NEUTRAL', 'score': 0.9732023477554321}]], [[{'label': 'SUBJECTIVE', 'score': 0.029087752103805542}, {'label': 'NEUTRAL', 'score': 0.9709122180938721}]], [[{'label': 'SUBJECTIVE', 'score': 0.0069549838081002235}, {'label': 'NEUTRAL', 'score': 0.9930450320243835}]], [[{'label': 'SUBJECTIVE', 'score': 0.028444360941648483}, {'label': 'NEUTRAL', 'score': 0.9715557098388672}]], [[{'label': 'SUBJECTIVE', 'score': 0.3787345290184021}, {'label': 'NEUTRAL', 'score': 0.6212654113769531}]], [[{'label': 'SUBJECTIVE', 'score': 0.011260285042226315}, {'label': 'NEUTRAL', 'score': 0.9887396693229675}]], [[{'label': 'SUBJECTIVE', 'score': 0.17785516381263733}, {'label': 'NEUTRAL', 'score': 0.8221448063850403}]], [[{'label': 'SUBJECTIVE', 'score': 0.22850078344345093}, {'label': 'NEUTRAL', 'score': 0.7714992165565491}]], [[{'label': 'SUBJECTIVE', 'score': 0.1625896543264389}, {'label': 'NEUTRAL', 'score': 0.8374103307723999}]], [[{'label': 'SUBJECTIVE', 'score': 0.037473972886800766}, {'label': 'NEUTRAL', 'score': 0.9625260233879089}]], [[{'label': 'SUBJECTIVE', 'score': 0.06246991455554962}, {'label': 'NEUTRAL', 'score': 0.9375301003456116}]], [[{'label': 'SUBJECTIVE', 'score': 0.25094684958457947}, {'label': 'NEUTRAL', 'score': 0.7490531206130981}]], [[{'label': 'SUBJECTIVE', 'score': 0.07913176715373993}, {'label': 'NEUTRAL', 'score': 0.9208682775497437}]], [[{'label': 'SUBJECTIVE', 'score': 0.014708655886352062}, {'label': 'NEUTRAL', 'score': 0.9852913618087769}]], [[{'label': 'SUBJECTIVE', 'score': 0.04192076623439789}, {'label': 'NEUTRAL', 'score': 0.9580792188644409}]], [[{'label': 'SUBJECTIVE', 'score': 0.004750826396048069}, {'label': 'NEUTRAL', 'score': 0.9952491521835327}]], [[{'label': 'SUBJECTIVE', 'score': 0.14955848455429077}, {'label': 'NEUTRAL', 'score': 0.8504415154457092}]], [[{'label': 'SUBJECTIVE', 'score': 0.04515498876571655}, {'label': 'NEUTRAL', 'score': 0.9548450708389282}]], [[{'label': 'SUBJECTIVE', 'score': 0.19915732741355896}, {'label': 'NEUTRAL', 'score': 0.8008426427841187}]], [[{'label': 'SUBJECTIVE', 'score': 0.3686254620552063}, {'label': 'NEUTRAL', 'score': 0.6313745379447937}]], [[{'label': 'SUBJECTIVE', 'score': 0.15632887184619904}, {'label': 'NEUTRAL', 'score': 0.8436711430549622}]], [[{'label': 'SUBJECTIVE', 'score': 0.05146658793091774}, {'label': 'NEUTRAL', 'score': 0.9485334753990173}]], [[{'label': 'SUBJECTIVE', 'score': 0.007895831018686295}, {'label': 'NEUTRAL', 'score': 0.992104172706604}]], [[{'label': 'SUBJECTIVE', 'score': 0.015458550304174423}, {'label': 'NEUTRAL', 'score': 0.9845414161682129}]], [[{'label': 'SUBJECTIVE', 'score': 0.029260991141200066}, {'label': 'NEUTRAL', 'score': 0.9707390069961548}]], [[{'label': 'SUBJECTIVE', 'score': 0.32995089888572693}, {'label': 'NEUTRAL', 'score': 0.6700490713119507}]], [[{'label': 'SUBJECTIVE', 'score': 0.13993309438228607}, {'label': 'NEUTRAL', 'score': 0.8600668907165527}]], [[{'label': 'SUBJECTIVE', 'score': 0.23038432002067566}, {'label': 'NEUTRAL', 'score': 0.7696157097816467}]], [[{'label': 'SUBJECTIVE', 'score': 0.19750568270683289}, {'label': 'NEUTRAL', 'score': 0.8024943470954895}]], [[{'label': 'SUBJECTIVE', 'score': 0.8864379525184631}, {'label': 'NEUTRAL', 'score': 0.11356201022863388}]], [[{'label': 'SUBJECTIVE', 'score': 0.23923230171203613}, {'label': 'NEUTRAL', 'score': 0.7607676982879639}]], [[{'label': 'SUBJECTIVE', 'score': 0.023485401645302773}, {'label': 'NEUTRAL', 'score': 0.9765145778656006}]], [[{'label': 'SUBJECTIVE', 'score': 0.2985738515853882}, {'label': 'NEUTRAL', 'score': 0.7014261484146118}]], [[{'label': 'SUBJECTIVE', 'score': 0.09057721495628357}, {'label': 'NEUTRAL', 'score': 0.909422755241394}]], [[{'label': 'SUBJECTIVE', 'score': 0.023532627150416374}, {'label': 'NEUTRAL', 'score': 0.9764674305915833}]], [[{'label': 'SUBJECTIVE', 'score': 0.02489245869219303}, {'label': 'NEUTRAL', 'score': 0.9751074910163879}]], [[{'label': 'SUBJECTIVE', 'score': 0.030416687950491905}, {'label': 'NEUTRAL', 'score': 0.9695833325386047}]], [[{'label': 'SUBJECTIVE', 'score': 0.935165524482727}, {'label': 'NEUTRAL', 'score': 0.06483443826436996}]], [[{'label': 'SUBJECTIVE', 'score': 0.41133934259414673}, {'label': 'NEUTRAL', 'score': 0.5886606574058533}]], [[{'label': 'SUBJECTIVE', 'score': 0.9940855503082275}, {'label': 'NEUTRAL', 'score': 0.005914469249546528}]], [[{'label': 'SUBJECTIVE', 'score': 0.18404188752174377}, {'label': 'NEUTRAL', 'score': 0.8159581422805786}]], [[{'label': 'SUBJECTIVE', 'score': 0.15963050723075867}, {'label': 'NEUTRAL', 'score': 0.8403695225715637}]], [[{'label': 'SUBJECTIVE', 'score': 0.038487643003463745}, {'label': 'NEUTRAL', 'score': 0.9615123867988586}]], [[{'label': 'SUBJECTIVE', 'score': 0.05756336823105812}, {'label': 'NEUTRAL', 'score': 0.9424366354942322}]], [[{'label': 'SUBJECTIVE', 'score': 0.25434693694114685}, {'label': 'NEUTRAL', 'score': 0.7456530332565308}]], [[{'label': 'SUBJECTIVE', 'score': 0.0028009184170514345}, {'label': 'NEUTRAL', 'score': 0.9971990585327148}]], [[{'label': 'SUBJECTIVE', 'score': 0.21142487227916718}, {'label': 'NEUTRAL', 'score': 0.7885751128196716}]], [[{'label': 'SUBJECTIVE', 'score': 0.4794309139251709}, {'label': 'NEUTRAL', 'score': 0.5205690264701843}]], [[{'label': 'SUBJECTIVE', 'score': 0.12349087744951248}, {'label': 'NEUTRAL', 'score': 0.8765091300010681}]], [[{'label': 'SUBJECTIVE', 'score': 0.9072971343994141}, {'label': 'NEUTRAL', 'score': 0.09270289540290833}]], [[{'label': 'SUBJECTIVE', 'score': 0.039726030081510544}, {'label': 'NEUTRAL', 'score': 0.9602739810943604}]], [[{'label': 'SUBJECTIVE', 'score': 0.0981496125459671}, {'label': 'NEUTRAL', 'score': 0.9018503427505493}]], [[{'label': 'SUBJECTIVE', 'score': 0.10300792753696442}, {'label': 'NEUTRAL', 'score': 0.8969920873641968}]], [[{'label': 'SUBJECTIVE', 'score': 0.6055570244789124}, {'label': 'NEUTRAL', 'score': 0.3944430351257324}]], [[{'label': 'SUBJECTIVE', 'score': 0.8121926188468933}, {'label': 'NEUTRAL', 'score': 0.18780742585659027}]], [[{'label': 'SUBJECTIVE', 'score': 0.2208535373210907}, {'label': 'NEUTRAL', 'score': 0.7791464924812317}]], [[{'label': 'SUBJECTIVE', 'score': 0.057987410575151443}, {'label': 'NEUTRAL', 'score': 0.9420126080513}]], [[{'label': 'SUBJECTIVE', 'score': 0.09628032892942429}, {'label': 'NEUTRAL', 'score': 0.9037196636199951}]], [[{'label': 'SUBJECTIVE', 'score': 0.4336158037185669}, {'label': 'NEUTRAL', 'score': 0.5663841366767883}]], [[{'label': 'SUBJECTIVE', 'score': 0.8082997798919678}, {'label': 'NEUTRAL', 'score': 0.19170019030570984}]], [[{'label': 'SUBJECTIVE', 'score': 0.5771773457527161}, {'label': 'NEUTRAL', 'score': 0.4228226840496063}]], [[{'label': 'SUBJECTIVE', 'score': 0.15385068953037262}, {'label': 'NEUTRAL', 'score': 0.8461493849754333}]], [[{'label': 'SUBJECTIVE', 'score': 0.2883794605731964}, {'label': 'NEUTRAL', 'score': 0.711620569229126}]], [[{'label': 'SUBJECTIVE', 'score': 0.01363679114729166}, {'label': 'NEUTRAL', 'score': 0.9863632321357727}]], [[{'label': 'SUBJECTIVE', 'score': 0.9785333275794983}, {'label': 'NEUTRAL', 'score': 0.021466627717018127}]], [[{'label': 'SUBJECTIVE', 'score': 0.006941122468560934}, {'label': 'NEUTRAL', 'score': 0.9930589199066162}]], [[{'label': 'SUBJECTIVE', 'score': 0.2490973174571991}, {'label': 'NEUTRAL', 'score': 0.7509027123451233}]]]\n",
            "['SUBJECTIVE', 'SUBJECTIVE', 'NEUTRAL', 'NEUTRAL', 'NEUTRAL', 'SUBJECTIVE', 'NEUTRAL', 'SUBJECTIVE', 'SUBJECTIVE', 'SUBJECTIVE', 'SUBJECTIVE', 'NEUTRAL', 'SUBJECTIVE', 'SUBJECTIVE', 'NEUTRAL', 'SUBJECTIVE', 'SUBJECTIVE', 'NEUTRAL', 'NEUTRAL', 'SUBJECTIVE', 'NEUTRAL', 'SUBJECTIVE', 'NEUTRAL', 'NEUTRAL', 'SUBJECTIVE', 'SUBJECTIVE', 'NEUTRAL', 'SUBJECTIVE', 'SUBJECTIVE', 'SUBJECTIVE', 'SUBJECTIVE', 'SUBJECTIVE', 'SUBJECTIVE', 'SUBJECTIVE', 'NEUTRAL', 'SUBJECTIVE', 'SUBJECTIVE', 'SUBJECTIVE', 'NEUTRAL', 'NEUTRAL', 'NEUTRAL', 'SUBJECTIVE', 'SUBJECTIVE', 'SUBJECTIVE', 'NEUTRAL', 'SUBJECTIVE', 'NEUTRAL', 'NEUTRAL', 'SUBJECTIVE', 'SUBJECTIVE', 'SUBJECTIVE', 'SUBJECTIVE', 'SUBJECTIVE', 'SUBJECTIVE', 'NEUTRAL', 'SUBJECTIVE', 'SUBJECTIVE', 'SUBJECTIVE', 'SUBJECTIVE', 'NEUTRAL', 'NEUTRAL', 'SUBJECTIVE', 'NEUTRAL', 'NEUTRAL', 'NEUTRAL', 'NEUTRAL', 'SUBJECTIVE', 'NEUTRAL', 'SUBJECTIVE', 'SUBJECTIVE', 'SUBJECTIVE', 'SUBJECTIVE', 'SUBJECTIVE', 'SUBJECTIVE', 'NEUTRAL', 'SUBJECTIVE', 'SUBJECTIVE', 'NEUTRAL', 'NEUTRAL', 'NEUTRAL', 'SUBJECTIVE', 'SUBJECTIVE', 'SUBJECTIVE', 'NEUTRAL', 'SUBJECTIVE', 'NEUTRAL', 'NEUTRAL', 'SUBJECTIVE', 'SUBJECTIVE', 'NEUTRAL', 'NEUTRAL', 'SUBJECTIVE', 'SUBJECTIVE', 'NEUTRAL', 'NEUTRAL', 'NEUTRAL', 'NEUTRAL', 'NEUTRAL', 'NEUTRAL', 'SUBJECTIVE', 'NEUTRAL', 'NEUTRAL', 'NEUTRAL', 'NEUTRAL', 'NEUTRAL', 'NEUTRAL', 'NEUTRAL', 'NEUTRAL', 'NEUTRAL', 'NEUTRAL', 'NEUTRAL', 'NEUTRAL', 'NEUTRAL', 'NEUTRAL', 'NEUTRAL', 'NEUTRAL', 'NEUTRAL', 'NEUTRAL', 'NEUTRAL', 'NEUTRAL', 'NEUTRAL', 'NEUTRAL', 'NEUTRAL', 'NEUTRAL', 'NEUTRAL', 'NEUTRAL', 'NEUTRAL', 'NEUTRAL', 'NEUTRAL', 'NEUTRAL', 'NEUTRAL', 'NEUTRAL', 'NEUTRAL', 'NEUTRAL', 'NEUTRAL', 'NEUTRAL', 'NEUTRAL', 'NEUTRAL', 'NEUTRAL', 'NEUTRAL', 'NEUTRAL', 'NEUTRAL', 'NEUTRAL', 'NEUTRAL', 'NEUTRAL', 'NEUTRAL', 'NEUTRAL', 'NEUTRAL', 'NEUTRAL', 'NEUTRAL', 'NEUTRAL', 'NEUTRAL', 'NEUTRAL', 'NEUTRAL', 'NEUTRAL', 'NEUTRAL', 'NEUTRAL', 'NEUTRAL', 'NEUTRAL', 'NEUTRAL', 'NEUTRAL', 'NEUTRAL', 'SUBJECTIVE', 'NEUTRAL', 'NEUTRAL', 'NEUTRAL', 'NEUTRAL', 'NEUTRAL', 'NEUTRAL', 'NEUTRAL', 'SUBJECTIVE', 'NEUTRAL', 'SUBJECTIVE', 'NEUTRAL', 'NEUTRAL', 'NEUTRAL', 'NEUTRAL', 'NEUTRAL', 'NEUTRAL', 'NEUTRAL', 'NEUTRAL', 'NEUTRAL', 'SUBJECTIVE', 'NEUTRAL', 'NEUTRAL', 'NEUTRAL', 'SUBJECTIVE', 'SUBJECTIVE', 'NEUTRAL', 'NEUTRAL', 'NEUTRAL', 'NEUTRAL', 'SUBJECTIVE', 'SUBJECTIVE', 'NEUTRAL', 'NEUTRAL', 'NEUTRAL', 'SUBJECTIVE', 'NEUTRAL', 'NEUTRAL']\n"
          ]
        }
      ]
    },
    {
      "cell_type": "markdown",
      "source": [
        "Predicted labels"
      ],
      "metadata": {
        "id": "BuoTxmUxHdNg"
      }
    },
    {
      "cell_type": "code",
      "source": [
        "predicted_text_lables = max_labels\n",
        "print(predicted_text_lables)\n",
        "\n",
        "label_map = {'SUBJECTIVE': 1, 'subjective' : 1, 'NEUTRAL': 0, 'objective' : 0}\n",
        "# Convert labels to binary values\n",
        "predicted_labels = [label_map[label] for label in predicted_text_lables]"
      ],
      "metadata": {
        "colab": {
          "base_uri": "https://localhost:8080/"
        },
        "id": "eBZFGrrlBS2d",
        "outputId": "b55dbdc1-6c08-465f-c797-ba715523f88f"
      },
      "execution_count": null,
      "outputs": [
        {
          "output_type": "stream",
          "name": "stdout",
          "text": [
            "['SUBJECTIVE', 'SUBJECTIVE', 'NEUTRAL', 'NEUTRAL', 'NEUTRAL', 'SUBJECTIVE', 'NEUTRAL', 'SUBJECTIVE', 'SUBJECTIVE', 'SUBJECTIVE', 'SUBJECTIVE', 'NEUTRAL', 'SUBJECTIVE', 'SUBJECTIVE', 'NEUTRAL', 'SUBJECTIVE', 'SUBJECTIVE', 'NEUTRAL', 'NEUTRAL', 'SUBJECTIVE', 'NEUTRAL', 'SUBJECTIVE', 'NEUTRAL', 'NEUTRAL', 'SUBJECTIVE', 'SUBJECTIVE', 'NEUTRAL', 'SUBJECTIVE', 'SUBJECTIVE', 'SUBJECTIVE', 'SUBJECTIVE', 'SUBJECTIVE', 'SUBJECTIVE', 'SUBJECTIVE', 'NEUTRAL', 'SUBJECTIVE', 'SUBJECTIVE', 'SUBJECTIVE', 'NEUTRAL', 'NEUTRAL', 'NEUTRAL', 'SUBJECTIVE', 'SUBJECTIVE', 'SUBJECTIVE', 'NEUTRAL', 'SUBJECTIVE', 'NEUTRAL', 'NEUTRAL', 'SUBJECTIVE', 'SUBJECTIVE', 'SUBJECTIVE', 'SUBJECTIVE', 'SUBJECTIVE', 'SUBJECTIVE', 'NEUTRAL', 'SUBJECTIVE', 'SUBJECTIVE', 'SUBJECTIVE', 'SUBJECTIVE', 'NEUTRAL', 'NEUTRAL', 'SUBJECTIVE', 'NEUTRAL', 'NEUTRAL', 'NEUTRAL', 'NEUTRAL', 'SUBJECTIVE', 'NEUTRAL', 'SUBJECTIVE', 'SUBJECTIVE', 'SUBJECTIVE', 'SUBJECTIVE', 'SUBJECTIVE', 'SUBJECTIVE', 'NEUTRAL', 'SUBJECTIVE', 'SUBJECTIVE', 'NEUTRAL', 'NEUTRAL', 'NEUTRAL', 'SUBJECTIVE', 'SUBJECTIVE', 'SUBJECTIVE', 'NEUTRAL', 'SUBJECTIVE', 'NEUTRAL', 'NEUTRAL', 'SUBJECTIVE', 'SUBJECTIVE', 'NEUTRAL', 'NEUTRAL', 'SUBJECTIVE', 'SUBJECTIVE', 'NEUTRAL', 'NEUTRAL', 'NEUTRAL', 'NEUTRAL', 'NEUTRAL', 'NEUTRAL', 'SUBJECTIVE', 'NEUTRAL', 'NEUTRAL', 'NEUTRAL', 'NEUTRAL', 'NEUTRAL', 'NEUTRAL', 'NEUTRAL', 'NEUTRAL', 'NEUTRAL', 'NEUTRAL', 'NEUTRAL', 'NEUTRAL', 'NEUTRAL', 'NEUTRAL', 'NEUTRAL', 'NEUTRAL', 'NEUTRAL', 'NEUTRAL', 'NEUTRAL', 'NEUTRAL', 'NEUTRAL', 'NEUTRAL', 'NEUTRAL', 'NEUTRAL', 'NEUTRAL', 'NEUTRAL', 'NEUTRAL', 'NEUTRAL', 'NEUTRAL', 'NEUTRAL', 'NEUTRAL', 'NEUTRAL', 'NEUTRAL', 'NEUTRAL', 'NEUTRAL', 'NEUTRAL', 'NEUTRAL', 'NEUTRAL', 'NEUTRAL', 'NEUTRAL', 'NEUTRAL', 'NEUTRAL', 'NEUTRAL', 'NEUTRAL', 'NEUTRAL', 'NEUTRAL', 'NEUTRAL', 'NEUTRAL', 'NEUTRAL', 'NEUTRAL', 'NEUTRAL', 'NEUTRAL', 'NEUTRAL', 'NEUTRAL', 'NEUTRAL', 'NEUTRAL', 'NEUTRAL', 'NEUTRAL', 'NEUTRAL', 'NEUTRAL', 'NEUTRAL', 'NEUTRAL', 'SUBJECTIVE', 'NEUTRAL', 'NEUTRAL', 'NEUTRAL', 'NEUTRAL', 'NEUTRAL', 'NEUTRAL', 'NEUTRAL', 'SUBJECTIVE', 'NEUTRAL', 'SUBJECTIVE', 'NEUTRAL', 'NEUTRAL', 'NEUTRAL', 'NEUTRAL', 'NEUTRAL', 'NEUTRAL', 'NEUTRAL', 'NEUTRAL', 'NEUTRAL', 'SUBJECTIVE', 'NEUTRAL', 'NEUTRAL', 'NEUTRAL', 'SUBJECTIVE', 'SUBJECTIVE', 'NEUTRAL', 'NEUTRAL', 'NEUTRAL', 'NEUTRAL', 'SUBJECTIVE', 'SUBJECTIVE', 'NEUTRAL', 'NEUTRAL', 'NEUTRAL', 'SUBJECTIVE', 'NEUTRAL', 'NEUTRAL']\n"
          ]
        }
      ]
    },
    {
      "cell_type": "markdown",
      "source": [
        "Real labels"
      ],
      "metadata": {
        "id": "2puB_n-qHe7X"
      }
    },
    {
      "cell_type": "code",
      "source": [
        "valid_labels = [1] * 100 + [0] * 100"
      ],
      "metadata": {
        "id": "JVpT8l9ZBAHQ"
      },
      "execution_count": null,
      "outputs": []
    },
    {
      "cell_type": "code",
      "source": [
        "print(valid_labels)\n",
        "print(predicted_labels)\n",
        "print(len(valid_labels))\n",
        "print(len(predicted_labels))"
      ],
      "metadata": {
        "colab": {
          "base_uri": "https://localhost:8080/"
        },
        "id": "3Nia_Ayn8DT9",
        "outputId": "79d8d40d-854d-4c99-dc81-a8737221aed5"
      },
      "execution_count": null,
      "outputs": [
        {
          "output_type": "stream",
          "name": "stdout",
          "text": [
            "[1, 1, 1, 1, 1, 1, 1, 1, 1, 1, 1, 1, 1, 1, 1, 1, 1, 1, 1, 1, 1, 1, 1, 1, 1, 1, 1, 1, 1, 1, 1, 1, 1, 1, 1, 1, 1, 1, 1, 1, 1, 1, 1, 1, 1, 1, 1, 1, 1, 1, 1, 1, 1, 1, 1, 1, 1, 1, 1, 1, 1, 1, 1, 1, 1, 1, 1, 1, 1, 1, 1, 1, 1, 1, 1, 1, 1, 1, 1, 1, 1, 1, 1, 1, 1, 1, 1, 1, 1, 1, 1, 1, 1, 1, 1, 1, 1, 1, 1, 1, 0, 0, 0, 0, 0, 0, 0, 0, 0, 0, 0, 0, 0, 0, 0, 0, 0, 0, 0, 0, 0, 0, 0, 0, 0, 0, 0, 0, 0, 0, 0, 0, 0, 0, 0, 0, 0, 0, 0, 0, 0, 0, 0, 0, 0, 0, 0, 0, 0, 0, 0, 0, 0, 0, 0, 0, 0, 0, 0, 0, 0, 0, 0, 0, 0, 0, 0, 0, 0, 0, 0, 0, 0, 0, 0, 0, 0, 0, 0, 0, 0, 0, 0, 0, 0, 0, 0, 0, 0, 0, 0, 0, 0, 0, 0, 0, 0, 0, 0, 0]\n",
            "[1, 1, 0, 0, 0, 1, 0, 1, 1, 1, 1, 0, 1, 1, 0, 1, 1, 0, 0, 1, 0, 1, 0, 0, 1, 1, 0, 1, 1, 1, 1, 1, 1, 1, 0, 1, 1, 1, 0, 0, 0, 1, 1, 1, 0, 1, 0, 0, 1, 1, 1, 1, 1, 1, 0, 1, 1, 1, 1, 0, 0, 1, 0, 0, 0, 0, 1, 0, 1, 1, 1, 1, 1, 1, 0, 1, 1, 0, 0, 0, 1, 1, 1, 0, 1, 0, 0, 1, 1, 0, 0, 1, 1, 0, 0, 0, 0, 0, 0, 1, 0, 0, 0, 0, 0, 0, 0, 0, 0, 0, 0, 0, 0, 0, 0, 0, 0, 0, 0, 0, 0, 0, 0, 0, 0, 0, 0, 0, 0, 0, 0, 0, 0, 0, 0, 0, 0, 0, 0, 0, 0, 0, 0, 0, 0, 0, 0, 0, 0, 0, 0, 0, 0, 0, 0, 0, 0, 0, 0, 0, 0, 0, 1, 0, 0, 0, 0, 0, 0, 0, 1, 0, 1, 0, 0, 0, 0, 0, 0, 0, 0, 0, 1, 0, 0, 0, 1, 1, 0, 0, 0, 0, 1, 1, 0, 0, 0, 1, 0, 0]\n",
            "200\n",
            "200\n"
          ]
        }
      ]
    },
    {
      "cell_type": "markdown",
      "source": [
        "METRICS"
      ],
      "metadata": {
        "id": "AnRukQV1Hh_o"
      }
    },
    {
      "cell_type": "code",
      "source": [
        "def calculate_metrics(valid_labels, predicted_labels):\n",
        "    # Calculate accuracy\n",
        "    accuracy = sum(1 for v, p in zip(valid_labels, predicted_labels) if v == p) / len(valid_labels)\n",
        "\n",
        "    # Calculate true positives, false positives, and false negatives\n",
        "    true_positives = sum(1 for v, p in zip(valid_labels, predicted_labels) if v == p and v == 1)\n",
        "    true_negatives = sum(1 for v, p in zip(valid_labels, predicted_labels) if v == p and v == 0)\n",
        "    false_positives = sum(1 for v, p in zip(valid_labels, predicted_labels) if v != p and p == 1)\n",
        "    false_negatives = sum(1 for v, p in zip(valid_labels, predicted_labels) if v != p and v == 1)\n",
        "\n",
        "    # Calculate precision\n",
        "    precision = true_positives / (true_positives + false_positives) if (true_positives + false_positives) > 0 else 0\n",
        "\n",
        "    # Calculate recall\n",
        "    recall = true_positives / (true_positives + false_negatives) if (true_positives + false_negatives) > 0 else 0\n",
        "\n",
        "    # Calculate F1 score\n",
        "    f1_score = 2 * (precision * recall) / (precision + recall) if (precision + recall) > 0 else 0\n",
        "\n",
        "    return accuracy, precision, recall, f1_score, true_positives, false_positives, false_negatives, true_negatives\n",
        "\n",
        "# Calculate metrics\n",
        "accuracy, precision, recall, f1_score, true_positives, false_positives, false_negatives, true_negatives = calculate_metrics(valid_labels, predicted_labels)\n",
        "\n",
        "# Print results\n",
        "print(\"Accuracy:\", accuracy)\n",
        "print(\"Precision:\", precision)\n",
        "print(\"Recall:\", recall)\n",
        "print(\"F1 Score:\", f1_score)\n",
        "print(\"false_positives:\", false_positives)\n",
        "print(\"false_negatives:\", false_negatives)\n",
        "print(\"true_positives:\", true_positives)\n",
        "print(\"true_negatives:\", true_negatives)"
      ],
      "metadata": {
        "colab": {
          "base_uri": "https://localhost:8080/"
        },
        "id": "RnTQjoOkAtXm",
        "outputId": "e69adb4b-135c-4f36-fbc5-6243f72eab37"
      },
      "execution_count": null,
      "outputs": [
        {
          "output_type": "stream",
          "name": "stdout",
          "text": [
            "Accuracy: 0.745\n",
            "Precision: 0.8656716417910447\n",
            "Recall: 0.58\n",
            "F1 Score: 0.6946107784431137\n",
            "false_positives: 9\n",
            "false_negatives: 42\n",
            "true_positives: 58\n",
            "true_negatives: 91\n"
          ]
        }
      ]
    }
  ]
}