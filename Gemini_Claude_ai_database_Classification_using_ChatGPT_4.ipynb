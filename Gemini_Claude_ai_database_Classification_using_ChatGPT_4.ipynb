{
  "nbformat": 4,
  "nbformat_minor": 0,
  "metadata": {
    "colab": {
      "provenance": [],
      "authorship_tag": "ABX9TyNWsUThUM22dtOF4aP7RoK8",
      "include_colab_link": true
    },
    "kernelspec": {
      "name": "python3",
      "display_name": "Python 3"
    },
    "language_info": {
      "name": "python"
    }
  },
  "cells": [
    {
      "cell_type": "markdown",
      "metadata": {
        "id": "view-in-github",
        "colab_type": "text"
      },
      "source": [
        "<a href=\"https://colab.research.google.com/github/kandi00/Objectivity-detection/blob/main/Gemini_Claude_ai_database_Classification_using_ChatGPT_4.ipynb\" target=\"_parent\"><img src=\"https://colab.research.google.com/assets/colab-badge.svg\" alt=\"Open In Colab\"/></a>"
      ]
    },
    {
      "cell_type": "code",
      "source": [
        "from google.colab import drive\n",
        "drive.mount('/content/drive')"
      ],
      "metadata": {
        "colab": {
          "base_uri": "https://localhost:8080/"
        },
        "id": "ioje4foEDZJX",
        "outputId": "61dd468b-3ee9-4074-937b-1b40b129a7b3"
      },
      "execution_count": null,
      "outputs": [
        {
          "output_type": "stream",
          "name": "stdout",
          "text": [
            "Drive already mounted at /content/drive; to attempt to forcibly remount, call drive.mount(\"/content/drive\", force_remount=True).\n"
          ]
        }
      ]
    },
    {
      "cell_type": "code",
      "source": [
        "!pip install openai==0.28"
      ],
      "metadata": {
        "id": "8fsWloWQMxEG"
      },
      "execution_count": null,
      "outputs": []
    },
    {
      "cell_type": "code",
      "source": [
        "from google.colab import userdata\n",
        "import openai\n",
        "\n",
        "api_key = userdata.get('OPENAI_API_KEY')\n",
        "openai.api_key = api_key"
      ],
      "metadata": {
        "id": "rQBvt3ldM25_"
      },
      "execution_count": null,
      "outputs": []
    },
    {
      "cell_type": "code",
      "source": [
        "import pandas as pd\n",
        "\n",
        "def read_tsv_file(csv_filename):\n",
        "  return pd.read_csv(file_path, delimiter='\\t')"
      ],
      "metadata": {
        "id": "Gsf-Ya3yqhdZ"
      },
      "execution_count": null,
      "outputs": []
    },
    {
      "cell_type": "code",
      "source": [
        "file_path = \"/content/drive/My Drive/Disszertacio/gemini_test.tsv\"\n",
        "# file_path = \"/content/drive/My Drive/Disszertacio/Claude_ai_test.tsv\"\n",
        "test_df = read_tsv_file(file_path)\n",
        "print(test_df)"
      ],
      "metadata": {
        "id": "bXbb3e8w3fjH",
        "colab": {
          "base_uri": "https://localhost:8080/"
        },
        "outputId": "eb601eb5-6f99-415b-8eec-0ca570ae2748"
      },
      "execution_count": null,
      "outputs": [
        {
          "output_type": "stream",
          "name": "stdout",
          "text": [
            "                                                  text  label\n",
            "0    The protagonist's journey in this book feels i...      1\n",
            "1    The way the sunlight filters through the leave...      1\n",
            "2    This documentary changed my perspective on a c...      1\n",
            "3    The ending of that movie left me feeling utter...      1\n",
            "4    The vibrant colors in this painting evoke a se...      1\n",
            "..                                                 ...    ...\n",
            "195  The painting is a symbolic representation of a...      0\n",
            "196  The building is undergoing renovations to mode...      0\n",
            "197  The recipe is a vegetarian option that is stil...      0\n",
            "198  This building serves as a public library and o...      0\n",
            "199  The population of this country is aging rapidl...      0\n",
            "\n",
            "[200 rows x 2 columns]\n"
          ]
        }
      ]
    },
    {
      "cell_type": "code",
      "source": [
        "print(test_df.shape)"
      ],
      "metadata": {
        "id": "oxQRm-1Lvsl_",
        "colab": {
          "base_uri": "https://localhost:8080/"
        },
        "outputId": "0b3ea635-5486-4f75-cc1a-bf84551a362b"
      },
      "execution_count": null,
      "outputs": [
        {
          "output_type": "stream",
          "name": "stdout",
          "text": [
            "(200, 2)\n"
          ]
        }
      ]
    },
    {
      "cell_type": "code",
      "source": [
        "print(test_df.iloc[0:10])"
      ],
      "metadata": {
        "colab": {
          "base_uri": "https://localhost:8080/"
        },
        "id": "gzm7n54j4g65",
        "outputId": "9b6fa7a8-8b87-42ab-c892-3c23cd221e09"
      },
      "execution_count": null,
      "outputs": [
        {
          "output_type": "stream",
          "name": "stdout",
          "text": [
            "                                                text  label\n",
            "0  The protagonist's journey in this book feels i...      1\n",
            "1  The way the sunlight filters through the leave...      1\n",
            "2  This documentary changed my perspective on a c...      1\n",
            "3  The ending of that movie left me feeling utter...      1\n",
            "4  The vibrant colors in this painting evoke a se...      1\n",
            "5  This class is helping me discover hidden talen...      1\n",
            "6  The suspense in this thriller kept me guessing...      1\n",
            "7  That joke relies on outdated stereotypes and i...      1\n",
            "8  The way the author uses language in this book ...      1\n",
            "9  This museum exhibit offers a fascinating glimp...      1\n"
          ]
        }
      ]
    },
    {
      "cell_type": "code",
      "source": [
        "my_list = test_df['text'].tolist()\n",
        "print(len(my_list))"
      ],
      "metadata": {
        "colab": {
          "base_uri": "https://localhost:8080/"
        },
        "id": "YjkeMHaAJNj5",
        "outputId": "265110de-2e8b-452e-87d0-3392c2afcea0"
      },
      "execution_count": null,
      "outputs": [
        {
          "output_type": "stream",
          "name": "stdout",
          "text": [
            "200\n"
          ]
        }
      ]
    },
    {
      "cell_type": "code",
      "source": [
        "import time\n",
        "my_list = test_df['text'].tolist()\n",
        "result = []\n",
        "for i in range(0, len(my_list), 10):\n",
        "  message = my_list[i:i+10]\n",
        "  prompt = f\"\"\"\n",
        "  The following python list contains in each position a message.\n",
        "  Classify each message as subjective or objective.\n",
        "  Message: '{message}'. Something is subjective if it is dependent on a mind. Something is objective if it can be confirmed independently of a mind.\n",
        "  Your response should only contain one word for each sentence, seperated by commas.\n",
        "  \"\"\"\n",
        "  response = openai.ChatCompletion.create(\n",
        "              model=\"gpt-4\",\n",
        "              temperature = 0.0,\n",
        "              messages=[\n",
        "                    {\"role\": \"user\", \"content\": prompt}\n",
        "                ]\n",
        "            )\n",
        "\n",
        "  response =  response[\"choices\"][0][\"message\"][\"content\"].split(\",\")\n",
        "  result += response\n",
        "  print(response)\n",
        "  time.sleep(5)"
      ],
      "metadata": {
        "colab": {
          "base_uri": "https://localhost:8080/"
        },
        "id": "pGkQ3QnPnGox",
        "outputId": "dadce8a4-154c-4f63-e6c4-1f03b4b26b41"
      },
      "execution_count": null,
      "outputs": [
        {
          "output_type": "stream",
          "name": "stdout",
          "text": [
            "['Subjective', ' Subjective', ' Subjective', ' Subjective', ' Subjective', ' Subjective', ' Subjective', ' Subjective', ' Subjective', ' Objective']\n",
            "['Subjective', ' Subjective', ' Subjective', ' Subjective', ' Subjective', ' Subjective', ' Subjective', ' Objective', ' Subjective', ' Subjective.']\n",
            "['Subjective', ' Subjective', ' Subjective', ' Subjective', ' Subjective', ' Subjective', ' Subjective', ' Subjective', ' Subjective', ' Subjective']\n",
            "['Subjective', ' Subjective', ' Subjective', ' Subjective', ' Subjective', ' Subjective', ' Subjective', ' Subjective', ' Subjective', ' Subjective']\n",
            "['Objective', ' Subjective', ' Subjective', ' Subjective', ' Subjective', ' Subjective', ' Subjective', ' Subjective', ' Subjective', ' Objective']\n",
            "['Subjective', ' Subjective', ' Objective', ' Subjective', ' Subjective', ' Subjective', ' Subjective', ' Subjective', ' Objective', ' Subjective']\n",
            "['Subjective', ' Subjective', ' Objective', ' Subjective', ' Subjective', ' Subjective', ' Subjective', ' Subjective', ' Subjective', ' Subjective']\n",
            "['Subjective', ' Subjective', ' Subjective', ' Subjective', ' Subjective', ' Subjective', ' Subjective', ' Objective', ' Subjective', ' Subjective']\n",
            "['Subjective', ' Subjective', ' Subjective', ' Objective', ' Objective', ' Subjective', ' Subjective', ' Subjective', ' Subjective', ' Subjective']\n",
            "['Subjective', ' Subjective', ' Subjective', ' Subjective', ' Subjective', ' Subjective', ' Subjective', ' Subjective', ' Subjective', ' Subjective']\n",
            "['Objective', ' Objective', ' Objective', ' Objective', ' Objective', ' Objective', ' Objective', ' Objective', ' Objective', ' Objective']\n",
            "['Objective', ' Objective', ' Objective', ' Objective', ' Objective', ' Objective', ' Objective', ' Objective', ' Objective', ' Objective']\n",
            "['Objective', ' Objective', ' Objective', ' Objective', ' Objective', ' Objective', ' Objective', ' Objective', ' Objective', ' Objective']\n",
            "['Objective', ' Objective', ' Objective', ' Subjective', ' Objective', ' Subjective', ' Objective', ' Subjective', ' Objective', ' Subjective']\n",
            "['Objective', ' Objective', ' Objective', ' Objective', ' Objective', ' Objective', ' Objective', ' Objective', ' Objective', ' Objective']\n",
            "['Objective', ' Objective', ' Objective', ' Objective', ' Objective', ' Objective', ' Objective', ' Objective', ' Objective', ' Objective']\n",
            "['Objective', ' Objective', ' Objective', ' Objective', ' Objective', ' Subjective', ' Objective', ' Objective', ' Objective', ' Objective']\n",
            "['Objective', ' Objective', ' Subjective', ' Objective', ' Objective', ' Subjective', ' Objective', ' Subjective', ' Objective', ' Objective']\n",
            "['Objective', ' Objective', ' Objective', ' Objective', ' Objective', ' Objective', ' Objective', ' Objective', ' Objective', ' Objective']\n",
            "['Objective', ' Objective', ' Subjective', ' Objective', ' Objective', ' Subjective', ' Objective', ' Subjective', ' Objective', ' Objective']\n"
          ]
        }
      ]
    },
    {
      "cell_type": "code",
      "source": [
        "print(result)\n",
        "print(len(result))"
      ],
      "metadata": {
        "colab": {
          "base_uri": "https://localhost:8080/"
        },
        "id": "yB8nuhBaLIHI",
        "outputId": "fb9db7c1-474b-4617-9f87-a06d67cc1a42"
      },
      "execution_count": null,
      "outputs": [
        {
          "output_type": "stream",
          "name": "stdout",
          "text": [
            "['Subjective', ' Subjective', ' Subjective', ' Subjective', ' Subjective', ' Subjective', ' Subjective', ' Subjective', ' Subjective', ' Objective', 'Subjective', ' Subjective', ' Subjective', ' Subjective', ' Subjective', ' Subjective', ' Subjective', ' Objective', ' Subjective', ' Subjective.', 'Subjective', ' Subjective', ' Subjective', ' Subjective', ' Subjective', ' Subjective', ' Subjective', ' Subjective', ' Subjective', ' Subjective', 'Subjective', ' Subjective', ' Subjective', ' Subjective', ' Subjective', ' Subjective', ' Subjective', ' Subjective', ' Subjective', ' Subjective', 'Objective', ' Subjective', ' Subjective', ' Subjective', ' Subjective', ' Subjective', ' Subjective', ' Subjective', ' Subjective', ' Objective', 'Subjective', ' Subjective', ' Objective', ' Subjective', ' Subjective', ' Subjective', ' Subjective', ' Subjective', ' Objective', ' Subjective', 'Subjective', ' Subjective', ' Objective', ' Subjective', ' Subjective', ' Subjective', ' Subjective', ' Subjective', ' Subjective', ' Subjective', 'Subjective', ' Subjective', ' Subjective', ' Subjective', ' Subjective', ' Subjective', ' Subjective', ' Objective', ' Subjective', ' Subjective', 'Subjective', ' Subjective', ' Subjective', ' Objective', ' Objective', ' Subjective', ' Subjective', ' Subjective', ' Subjective', ' Subjective', 'Subjective', ' Subjective', ' Subjective', ' Subjective', ' Subjective', ' Subjective', ' Subjective', ' Subjective', ' Subjective', ' Subjective', 'Objective', ' Objective', ' Objective', ' Objective', ' Objective', ' Objective', ' Objective', ' Objective', ' Objective', ' Objective', 'Objective', ' Objective', ' Objective', ' Objective', ' Objective', ' Objective', ' Objective', ' Objective', ' Objective', ' Objective', 'Objective', ' Objective', ' Objective', ' Objective', ' Objective', ' Objective', ' Objective', ' Objective', ' Objective', ' Objective', 'Objective', ' Objective', ' Objective', ' Subjective', ' Objective', ' Subjective', ' Objective', ' Subjective', ' Objective', ' Subjective', 'Objective', ' Objective', ' Objective', ' Objective', ' Objective', ' Objective', ' Objective', ' Objective', ' Objective', ' Objective', 'Objective', ' Objective', ' Objective', ' Objective', ' Objective', ' Objective', ' Objective', ' Objective', ' Objective', ' Objective', 'Objective', ' Objective', ' Objective', ' Objective', ' Objective', ' Subjective', ' Objective', ' Objective', ' Objective', ' Objective', 'Objective', ' Objective', ' Subjective', ' Objective', ' Objective', ' Subjective', ' Objective', ' Subjective', ' Objective', ' Objective', 'Objective', ' Objective', ' Objective', ' Objective', ' Objective', ' Objective', ' Objective', ' Objective', ' Objective', ' Objective', 'Objective', ' Objective', ' Subjective', ' Objective', ' Objective', ' Subjective', ' Objective', ' Subjective', ' Objective', ' Objective']\n",
            "200\n"
          ]
        }
      ]
    },
    {
      "cell_type": "code",
      "source": [
        "predicted_text_lables = [item.replace('\\n', '').replace('.', '').replace(' ', '') for item in result]\n",
        "print(predicted_text_lables)"
      ],
      "metadata": {
        "colab": {
          "base_uri": "https://localhost:8080/"
        },
        "id": "0Rs_WeoVQjbQ",
        "outputId": "1da5a175-a505-4258-f2ab-6534316a1025"
      },
      "execution_count": null,
      "outputs": [
        {
          "output_type": "stream",
          "name": "stdout",
          "text": [
            "['Subjective', 'Subjective', 'Subjective', 'Subjective', 'Subjective', 'Subjective', 'Subjective', 'Subjective', 'Subjective', 'Objective', 'Subjective', 'Subjective', 'Subjective', 'Subjective', 'Subjective', 'Subjective', 'Subjective', 'Objective', 'Subjective', 'Subjective', 'Subjective', 'Subjective', 'Subjective', 'Subjective', 'Subjective', 'Subjective', 'Subjective', 'Subjective', 'Subjective', 'Subjective', 'Subjective', 'Subjective', 'Subjective', 'Subjective', 'Subjective', 'Subjective', 'Subjective', 'Subjective', 'Subjective', 'Subjective', 'Objective', 'Subjective', 'Subjective', 'Subjective', 'Subjective', 'Subjective', 'Subjective', 'Subjective', 'Subjective', 'Objective', 'Subjective', 'Subjective', 'Objective', 'Subjective', 'Subjective', 'Subjective', 'Subjective', 'Subjective', 'Objective', 'Subjective', 'Subjective', 'Subjective', 'Objective', 'Subjective', 'Subjective', 'Subjective', 'Subjective', 'Subjective', 'Subjective', 'Subjective', 'Subjective', 'Subjective', 'Subjective', 'Subjective', 'Subjective', 'Subjective', 'Subjective', 'Objective', 'Subjective', 'Subjective', 'Subjective', 'Subjective', 'Subjective', 'Objective', 'Objective', 'Subjective', 'Subjective', 'Subjective', 'Subjective', 'Subjective', 'Subjective', 'Subjective', 'Subjective', 'Subjective', 'Subjective', 'Subjective', 'Subjective', 'Subjective', 'Subjective', 'Subjective', 'Objective', 'Objective', 'Objective', 'Objective', 'Objective', 'Objective', 'Objective', 'Objective', 'Objective', 'Objective', 'Objective', 'Objective', 'Objective', 'Objective', 'Objective', 'Objective', 'Objective', 'Objective', 'Objective', 'Objective', 'Objective', 'Objective', 'Objective', 'Objective', 'Objective', 'Objective', 'Objective', 'Objective', 'Objective', 'Objective', 'Objective', 'Objective', 'Objective', 'Subjective', 'Objective', 'Subjective', 'Objective', 'Subjective', 'Objective', 'Subjective', 'Objective', 'Objective', 'Objective', 'Objective', 'Objective', 'Objective', 'Objective', 'Objective', 'Objective', 'Objective', 'Objective', 'Objective', 'Objective', 'Objective', 'Objective', 'Objective', 'Objective', 'Objective', 'Objective', 'Objective', 'Objective', 'Objective', 'Objective', 'Objective', 'Objective', 'Subjective', 'Objective', 'Objective', 'Objective', 'Objective', 'Objective', 'Objective', 'Subjective', 'Objective', 'Objective', 'Subjective', 'Objective', 'Subjective', 'Objective', 'Objective', 'Objective', 'Objective', 'Objective', 'Objective', 'Objective', 'Objective', 'Objective', 'Objective', 'Objective', 'Objective', 'Objective', 'Objective', 'Subjective', 'Objective', 'Objective', 'Subjective', 'Objective', 'Subjective', 'Objective', 'Objective']\n"
          ]
        }
      ]
    },
    {
      "cell_type": "code",
      "source": [
        "valid_labels = [1] * 100 + [0] * 100"
      ],
      "metadata": {
        "id": "RTKzzJMPQ1fM"
      },
      "execution_count": null,
      "outputs": []
    },
    {
      "cell_type": "code",
      "source": [
        "label_map = {'subjective': 1, 'objective': 0, 'subject': 1, 'object': 0, 'Subjective' : 1, 'Objective' : 0, 'Subject' : 1, 'objevtove' : 0}\n",
        "# Convert labels to binary values\n",
        "predicted_labels = [label_map[label] for label in predicted_text_lables]\n",
        "\n",
        "print(valid_labels)\n",
        "print(predicted_labels)"
      ],
      "metadata": {
        "colab": {
          "base_uri": "https://localhost:8080/"
        },
        "id": "_CMyn-reQ3Gd",
        "outputId": "04e53226-2123-4691-ff73-f33039b7fb68"
      },
      "execution_count": null,
      "outputs": [
        {
          "output_type": "stream",
          "name": "stdout",
          "text": [
            "[1, 1, 1, 1, 1, 1, 1, 1, 1, 1, 1, 1, 1, 1, 1, 1, 1, 1, 1, 1, 1, 1, 1, 1, 1, 1, 1, 1, 1, 1, 1, 1, 1, 1, 1, 1, 1, 1, 1, 1, 1, 1, 1, 1, 1, 1, 1, 1, 1, 1, 1, 1, 1, 1, 1, 1, 1, 1, 1, 1, 1, 1, 1, 1, 1, 1, 1, 1, 1, 1, 1, 1, 1, 1, 1, 1, 1, 1, 1, 1, 1, 1, 1, 1, 1, 1, 1, 1, 1, 1, 1, 1, 1, 1, 1, 1, 1, 1, 1, 1, 0, 0, 0, 0, 0, 0, 0, 0, 0, 0, 0, 0, 0, 0, 0, 0, 0, 0, 0, 0, 0, 0, 0, 0, 0, 0, 0, 0, 0, 0, 0, 0, 0, 0, 0, 0, 0, 0, 0, 0, 0, 0, 0, 0, 0, 0, 0, 0, 0, 0, 0, 0, 0, 0, 0, 0, 0, 0, 0, 0, 0, 0, 0, 0, 0, 0, 0, 0, 0, 0, 0, 0, 0, 0, 0, 0, 0, 0, 0, 0, 0, 0, 0, 0, 0, 0, 0, 0, 0, 0, 0, 0, 0, 0, 0, 0, 0, 0, 0, 0]\n",
            "[1, 1, 1, 1, 1, 1, 1, 1, 1, 0, 1, 1, 1, 1, 1, 1, 1, 0, 1, 1, 1, 1, 1, 1, 1, 1, 1, 1, 1, 1, 1, 1, 1, 1, 1, 1, 1, 1, 1, 1, 0, 1, 1, 1, 1, 1, 1, 1, 1, 0, 1, 1, 0, 1, 1, 1, 1, 1, 0, 1, 1, 1, 0, 1, 1, 1, 1, 1, 1, 1, 1, 1, 1, 1, 1, 1, 1, 0, 1, 1, 1, 1, 1, 0, 0, 1, 1, 1, 1, 1, 1, 1, 1, 1, 1, 1, 1, 1, 1, 1, 0, 0, 0, 0, 0, 0, 0, 0, 0, 0, 0, 0, 0, 0, 0, 0, 0, 0, 0, 0, 0, 0, 0, 0, 0, 0, 0, 0, 0, 0, 0, 0, 0, 1, 0, 1, 0, 1, 0, 1, 0, 0, 0, 0, 0, 0, 0, 0, 0, 0, 0, 0, 0, 0, 0, 0, 0, 0, 0, 0, 0, 0, 0, 0, 0, 1, 0, 0, 0, 0, 0, 0, 1, 0, 0, 1, 0, 1, 0, 0, 0, 0, 0, 0, 0, 0, 0, 0, 0, 0, 0, 0, 1, 0, 0, 1, 0, 1, 0, 0]\n"
          ]
        }
      ]
    },
    {
      "cell_type": "code",
      "source": [
        "def calculate_metrics(valid_labels, predicted_labels):\n",
        "    # Calculate accuracy\n",
        "    accuracy = sum(1 for v, p in zip(valid_labels, predicted_labels) if v == p) / len(valid_labels)\n",
        "\n",
        "    # Calculate true positives, false positives, and false negatives\n",
        "    true_positives = sum(1 for v, p in zip(valid_labels, predicted_labels) if v == p and v == 1)\n",
        "    true_negatives = sum(1 for v, p in zip(valid_labels, predicted_labels) if v == p and v == 0)\n",
        "    false_positives = sum(1 for v, p in zip(valid_labels, predicted_labels) if v != p and p == 1)\n",
        "    false_negatives = sum(1 for v, p in zip(valid_labels, predicted_labels) if v != p and v == 1)\n",
        "\n",
        "    # Calculate precision\n",
        "    precision = true_positives / (true_positives + false_positives) if (true_positives + false_positives) > 0 else 0\n",
        "\n",
        "    # Calculate recall\n",
        "    recall = true_positives / (true_positives + false_negatives) if (true_positives + false_negatives) > 0 else 0\n",
        "\n",
        "    # Calculate F1 score\n",
        "    f1_score = 2 * (precision * recall) / (precision + recall) if (precision + recall) > 0 else 0\n",
        "\n",
        "    return accuracy, precision, recall, f1_score, true_positives, false_positives, false_negatives, true_negatives\n",
        "\n",
        "# Calculate metrics\n",
        "accuracy, precision, recall, f1_score, true_positives, false_positives, false_negatives, true_negatives = calculate_metrics(valid_labels, predicted_labels)\n",
        "\n",
        "# Print results\n",
        "print(\"Accuracy:\", accuracy)\n",
        "print(\"Precision:\", precision)\n",
        "print(\"Recall:\", recall)\n",
        "print(\"F1 Score:\", f1_score)\n",
        "print(\"false_positives:\", false_positives)\n",
        "print(\"false_negatives:\", false_negatives)\n",
        "print(\"true_positives:\", true_positives)\n",
        "print(\"true_negatives:\", true_negatives)"
      ],
      "metadata": {
        "colab": {
          "base_uri": "https://localhost:8080/"
        },
        "id": "VmmKUc5xREqF",
        "outputId": "71232199-6bcc-4c3e-8894-43eb591f6285"
      },
      "execution_count": null,
      "outputs": [
        {
          "output_type": "stream",
          "name": "stdout",
          "text": [
            "Accuracy: 0.895\n",
            "Precision: 0.8910891089108911\n",
            "Recall: 0.9\n",
            "F1 Score: 0.8955223880597015\n",
            "false_positives: 11\n",
            "false_negatives: 10\n",
            "true_positives: 90\n",
            "true_negatives: 89\n"
          ]
        }
      ]
    }
  ]
}